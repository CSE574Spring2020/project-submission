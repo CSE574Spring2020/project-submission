{
 "cells": [
  {
   "cell_type": "code",
   "execution_count": 1,
   "metadata": {},
   "outputs": [],
   "source": [
    "import tensorflow as tf\n",
    "from tensorflow import keras\n",
    "import numpy as np\n",
    "\n",
    "# https://arxiv.org/pdf/1512.03385.pdf\n",
    "# https://arxiv.org/pdf/1603.05027.pdf\n",
    "\n",
    "# Keras's CIFAR-10 example (v2) (https://github.com/keras-team/keras/blob/master/examples/cifar10_resnet.py)\n"
   ]
  },
  {
   "cell_type": "code",
   "execution_count": 2,
   "metadata": {},
   "outputs": [],
   "source": [
    "def load_data():\n",
    "    pass\n",
    "\n",
    "class_list = []"
   ]
  },
  {
   "cell_type": "code",
   "execution_count": null,
   "metadata": {},
   "outputs": [],
   "source": []
  },
  {
   "cell_type": "code",
   "execution_count": 17,
   "metadata": {},
   "outputs": [],
   "source": [
    "def create_model():\n",
    "    # this is basically a reimplementation of the CIFAR-10 v2 example\n",
    "\n",
    "    inputs = keras.layers.Input(shape=(200, 200, 3))\n",
    "\n",
    "    layer_0 = keras.layers.Conv2D(16, 3)(inputs)\n",
    "    layer_1 = keras.layers.BatchNormalization()(layer_0)\n",
    "    layer_3 = keras.layers.Activation(tf.nn.relu)(layer_1)\n",
    "\n",
    "    previous_stage_output_layer = layer_3\n",
    "    for stage in range(0,3):\n",
    "        # FIXME most of these parameters need to be set based on the stage\n",
    "        stage_layer_0 = keras.layers.Conv2D(16, 3)(previous_stage_output_layer)\n",
    "        stage_layer_1 = keras.layers.BatchNormalization()(stage_layer_0)\n",
    "        stage_layer_2 = keras.layers.Activation(tf.nn.relu)(stage_layer_1)\n",
    "\n",
    "        previous_block_output_layer = stage_layer_2\n",
    "        for block in range(0, 3):\n",
    "            # FIXME most of these parameters need to be set based on the stage\n",
    "            b_0 = keras.layers.BatchNormalization()(previous_block_output_layer)\n",
    "            b_1 = keras.layers.Activation(tf.nn.relu)(b_0)\n",
    "            b_2 = keras.layers.Conv2D(16, 3)(b_1)\n",
    "            b_3 = keras.layers.BatchNormalization()(b_2)\n",
    "            b_4 = keras.layers.Activation(tf.nn.relu)(b_3)\n",
    "            b_5 = keras.layers.Conv2D(16, 3)(b_4)\n",
    "            b_6 = keras.layers.BatchNormalization()(b_5)\n",
    "            b_7 = keras.layers.Activation(tf.nn.relu)(b_6)\n",
    "            b_8 = keras.layers.Conv2D(16, 3)(b_7)\n",
    "            previous_block_output_layer = b_8\n",
    "\n",
    "    output_0 = keras.layers.BatchNormalization()(previous_block_output_layer)\n",
    "    output_1 = keras.layers.Activation(tf.nn.relu)(output_0)\n",
    "    output_2 = keras.layers.AveragePooling2D(pool_size=8)(output_1)\n",
    "    output_3 = keras.layers.Flatten()(output_2)\n",
    "\n",
    "    outputs = keras.layers.Dense(len(class_list), activation=tf.nn.softmax)(output_3)\n",
    "\n",
    "    model = keras.Model(inputs=inputs, outputs=outputs)\n",
    "\n",
    "    return model\n",
    "\n",
    "model = create_model()"
   ]
  },
  {
   "cell_type": "code",
   "execution_count": null,
   "metadata": {},
   "outputs": [],
   "source": []
  },
  {
   "cell_type": "code",
   "execution_count": null,
   "metadata": {},
   "outputs": [],
   "source": []
  }
 ],
 "metadata": {
  "kernelspec": {
   "display_name": "Python 3",
   "language": "python",
   "name": "python3"
  },
  "language_info": {
   "codemirror_mode": {
    "name": "ipython",
    "version": 3
   },
   "file_extension": ".py",
   "mimetype": "text/x-python",
   "name": "python",
   "nbconvert_exporter": "python",
   "pygments_lexer": "ipython3",
   "version": "3.7.5"
  }
 },
 "nbformat": 4,
 "nbformat_minor": 4
}
