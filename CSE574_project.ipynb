{
 "cells": [
  {
   "cell_type": "markdown",
   "metadata": {
    "colab_type": "text",
    "id": "GbR61GoANo_J"
   },
   "source": [
    "# **CSE 574 Project**\n",
    "## *Real vs Fake Classification*"
   ]
  },
  {
   "cell_type": "code",
   "execution_count": null,
   "metadata": {
    "colab": {},
    "colab_type": "code",
    "id": "UMgXlUNrN9MV"
   },
   "outputs": [],
   "source": [
    "# Imports\n",
    "import datetime\n",
    "import glob\n",
    "\n",
    "from google.colab import drive\n",
    "from google.colab import output as colab_op\n",
    "\n",
    "import torch\n",
    "import torch.nn as nn\n",
    "import torch.optim as optim\n",
    "import torch.nn.functional as F\n",
    "import torch.utils.model_zoo as model_zoo\n",
    "\n",
    "import cv2\n",
    "import torchvision\n",
    "import numpy as np\n",
    "import torchvision.datasets as datasets\n",
    "import torchvision.transforms as transforms\n",
    "import torchvision.transforms.functional as TF\n",
    "from random import random, choice, shuffle\n",
    "from io import BytesIO\n",
    "from PIL import Image\n",
    "from PIL import ImageFile\n",
    "from scipy.ndimage.filters import gaussian_filter\n",
    "from sklearn.metrics import average_precision_score, accuracy_score, roc_auc_score, roc_curve\n",
    "\n",
    "\n",
    "import matplotlib\n",
    "import matplotlib.pyplot as plt\n",
    "# %matplotlib inline\n",
    "\n",
    "from torch.utils.tensorboard import SummaryWriter\n",
    "%load_ext tensorboard"
   ]
  },
  {
   "cell_type": "markdown",
   "metadata": {
    "colab_type": "text",
    "id": "fw4xtylxiXEA"
   },
   "source": [
    "### *Data preprocessing, exploration and prep for training.*"
   ]
  },
  {
   "cell_type": "code",
   "execution_count": null,
   "metadata": {
    "colab": {
     "base_uri": "https://localhost:8080/",
     "height": 122
    },
    "colab_type": "code",
    "id": "kuJ6UVQ6EmV2",
    "outputId": "c28368b4-7e69-400c-f9e2-2e993c0d4728"
   },
   "outputs": [],
   "source": [
    "# mount drive to session\n",
    "drive.mount('/content/drive')"
   ]
  },
  {
   "cell_type": "markdown",
   "metadata": {
    "colab_type": "text",
    "id": "H0of2EIMGaJi"
   },
   "source": [
    "### Options for managing data and training"
   ]
  },
  {
   "cell_type": "code",
   "execution_count": null,
   "metadata": {
    "colab": {},
    "colab_type": "code",
    "id": "CF0W0dKZiVfT"
   },
   "outputs": [],
   "source": [
    "# options\n",
    "shuffle = True\n",
    "sampler = None\n",
    "train = True\n",
    "# path options\n",
    "\n",
    "# classes = [each.split('progan/')[1].strip('/') for each in glob.glob('/content/drive/My Drive/Colab Notebooks/CNN_synth_testset/progan/*')]\n",
    "# dataroot = '/content/drive/My Drive/Colab Notebooks/CNN_synth_testset/progan/'\n",
    "\n",
    "classes = []\n",
    "dataroot = '/content/drive/My Drive/Colab Notebooks/'\n",
    "\n",
    "# augmentation options\n",
    "blur_prob = 0.1\n",
    "blur_sig = [0.5]\n",
    "jpg_prob = 0.1\n",
    "jpg_method = ['cv2']\n",
    "jpg_qual = [75]\n",
    "# preprocessing options\n",
    "resize = 256\n",
    "num_threads = 4\n",
    "crop_size = 224\n"
   ]
  },
  {
   "cell_type": "markdown",
   "metadata": {
    "colab_type": "text",
    "id": "PwPIGoopGpHQ"
   },
   "source": [
    "### Data augmentaion strategies"
   ]
  },
  {
   "cell_type": "code",
   "execution_count": null,
   "metadata": {
    "colab": {},
    "colab_type": "code",
    "id": "ChyPz6ZKiVbj"
   },
   "outputs": [],
   "source": [
    "rz_dict = {'bilinear': Image.BILINEAR,\n",
    "           'bicubic': Image.BICUBIC,\n",
    "           'lanczos': Image.LANCZOS,\n",
    "           'nearest': Image.NEAREST}\n",
    "\n",
    "def cv2_jpg(img, compress_val):\n",
    "    img_cv2 = img[:, :, ::-1]\n",
    "    encode_param = [int(cv2.IMWRITE_JPEG_QUALITY), compress_val]\n",
    "    result, encimg = cv2.imencode('.jpg', img_cv2, encode_param)\n",
    "    decimg = cv2.imdecode(encimg, 1)\n",
    "    return decimg[:, :, ::-1]\n",
    "\n",
    "\n",
    "def pil_jpg(img, compress_val):\n",
    "    out = BytesIO()\n",
    "    img = Image.fromarray(img)\n",
    "    img.save(out, format='jpeg', quality=compress_val)\n",
    "    img = Image.open(out)\n",
    "    # load from memory before ByteIO closes\n",
    "    img = np.array(img)\n",
    "    out.close()\n",
    "    return img\n",
    "\n",
    "jpeg_dict = {'cv2': cv2_jpg, 'pil': pil_jpg}\n",
    "\n",
    "def jpeg_from_key(img, compress_val, key):\n",
    "    method = jpeg_dict[key]\n",
    "    return method(img, compress_val)\n",
    "\n",
    "\n",
    "def sample_discrete(s):\n",
    "    if len(s) == 1:\n",
    "        return s[0]\n",
    "    return choice(s)\n",
    "\n",
    "\n",
    "def custom_resize(img):\n",
    "    interp = sample_discrete([\"bilinear\"])\n",
    "    return TF.resize(img, resize, interpolation=rz_dict[interp])\n",
    "\n",
    "\n",
    "def sample_continuous(s):\n",
    "    if len(s) == 1:\n",
    "        return s[0]\n",
    "    if len(s) == 2:\n",
    "        rg = s[1] - s[0]\n",
    "        return random() * rg + s[0]\n",
    "    raise ValueError(\"Length of iterable s should be 1 or 2.\")\n",
    "\n",
    "\n",
    "def gaussian_blur(img, sigma):\n",
    "    gaussian_filter(img[:, :, 0], output=img[:, :, 0], sigma=sigma)\n",
    "    gaussian_filter(img[:, :, 1], output=img[:, :, 1], sigma=sigma)\n",
    "    gaussian_filter(img[:, :, 2], output=img[:, :, 2], sigma=sigma)\n",
    "\n",
    "\n",
    "def data_augment(img):\n",
    "    img = np.array(img)\n",
    "\n",
    "    if random() < blur_prob:\n",
    "        sig = sample_continuous(blur_sig)\n",
    "        gaussian_blur(img, sig)\n",
    "\n",
    "    if random() < jpg_prob:\n",
    "        method = sample_discrete(jpg_method)\n",
    "        qual = sample_discrete(jpg_qual)\n",
    "        img = jpeg_from_key(img, qual, method)\n",
    "\n",
    "    return Image.fromarray(img)\n"
   ]
  },
  {
   "cell_type": "markdown",
   "metadata": {
    "colab_type": "text",
    "id": "DpKToNvuGBY3"
   },
   "source": [
    "### *Dataset creation code*\n",
    "  - We are using pytorch's torchvision package for loading the the images and converting them into tensors."
   ]
  },
  {
   "cell_type": "code",
   "execution_count": null,
   "metadata": {
    "colab": {},
    "colab_type": "code",
    "id": "F8WSyYvzGFGL"
   },
   "outputs": [],
   "source": [
    "def dataset_folder(root):\n",
    "  crop_func = transforms.RandomCrop if train else transforms.CenterCrop\n",
    "  if train:\n",
    "      flip_func = transforms.RandomHorizontalFlip()\n",
    "  else:\n",
    "      flip_func = transforms.Lambda(lambda img: img)\n",
    "  # if not train:\n",
    "  #     rz_func = transforms.Lambda(lambda img: img)\n",
    "  # else:\n",
    "  #     rz_func = transforms.Lambda(lambda img: custom_resize(img))\n",
    "  rz_func = transforms.Lambda(lambda img: custom_resize(img))\n",
    "\n",
    "  dset = datasets.ImageFolder(root, transforms.Compose([\n",
    "          rz_func,\n",
    "          transforms.Lambda(lambda img: data_augment(img)),\n",
    "          crop_func(crop_size),\n",
    "          flip_func,\n",
    "          transforms.ToTensor(),\n",
    "          transforms.Normalize(mean=[0.485, 0.456, 0.406], std=[0.229, 0.224, 0.225]),\n",
    "      ]))\n",
    "  return dset\n",
    "\n",
    "\n",
    "def get_dataloader(test=False):\n",
    "    global train, classes\n",
    "    if test:\n",
    "      train = False\n",
    "      classes = ['test_whichfaceisreal']\n",
    "    else:\n",
    "      train = True\n",
    "      classes = ['whichfaceisreal']\n",
    "    dset_lst = []\n",
    "    for cls in classes:\n",
    "        root = dataroot + '/' + cls\n",
    "        dset = dataset_folder(root)\n",
    "        dset_lst.append(dset)\n",
    "    dataset = torch.utils.data.ConcatDataset(dset_lst)\n",
    "    return torch.utils.data.DataLoader(dataset,\n",
    "                                              batch_size=batch_size,\n",
    "                                              shuffle=shuffle,\n",
    "                                              sampler=sampler,\n",
    "                                              num_workers=num_threads)"
   ]
  },
  {
   "cell_type": "markdown",
   "metadata": {
    "colab_type": "text",
    "id": "-JBEG6KT8HpC"
   },
   "source": [
    "### *Model architecture description*\n",
    "  - We are using pytorch's implementaion of resnet50.\n",
    "  - If we choose to use pretrained weights, we will be using the weights provided by pytorch which is trained on imagenet.\n",
    "  - We have opted to freeze all the layers except the 4th layer and the FC layer of the resnet50."
   ]
  },
  {
   "cell_type": "code",
   "execution_count": null,
   "metadata": {
    "colab": {},
    "colab_type": "code",
    "id": "KM7fX5A_TE1G"
   },
   "outputs": [],
   "source": [
    "def conv3x3(in_planes, out_planes, stride=1):\n",
    "    \"\"\"3x3 convolution with padding\"\"\"\n",
    "    return nn.Conv2d(in_planes, out_planes, kernel_size=3, stride=stride,\n",
    "                     padding=1, bias=False)\n",
    "\n",
    "\n",
    "def conv1x1(in_planes, out_planes, stride=1):\n",
    "    \"\"\"1x1 convolution\"\"\"\n",
    "    return nn.Conv2d(in_planes, out_planes, kernel_size=1, stride=stride, bias=False)\n",
    "\n",
    "\n",
    "class Bottleneck(nn.Module):\n",
    "    expansion = 4\n",
    "\n",
    "    def __init__(self, inplanes, planes, stride=1, downsample=None):\n",
    "        super(Bottleneck, self).__init__()\n",
    "\n",
    "        self.conv1 = conv1x1(inplanes, planes)\n",
    "        self.bn1 = nn.BatchNorm2d(planes)\n",
    "\n",
    "        self.conv2 = conv3x3(planes, planes, stride)\n",
    "        self.bn2 = nn.BatchNorm2d(planes)\n",
    "\n",
    "        self.conv3 = conv1x1(planes, planes * self.expansion)\n",
    "        self.bn3 = nn.BatchNorm2d(planes * self.expansion)\n",
    "\n",
    "        self.relu = nn.ReLU(inplace=True)\n",
    "        self.downsample = downsample\n",
    "        self.stride = stride\n",
    "\n",
    "    def forward(self, x):\n",
    "        identity = x\n",
    "\n",
    "        out = self.conv1(x)\n",
    "        out = self.bn1(out)\n",
    "        out = self.relu(out)\n",
    "\n",
    "        out = self.conv2(out)\n",
    "        out = self.bn2(out)\n",
    "        out = self.relu(out)\n",
    "\n",
    "        out = self.conv3(out)\n",
    "        out = self.bn3(out)\n",
    "\n",
    "        if self.downsample is not None:\n",
    "            identity = self.downsample(x)\n",
    "\n",
    "        out += identity\n",
    "        out = self.relu(out)\n",
    "\n",
    "        return out\n",
    "\n",
    "\n",
    "class ResNet(nn.Module):\n",
    "\n",
    "    def __init__(self, block, layers, num_classes=1000, zero_init_residual=False):\n",
    "        super(ResNet, self).__init__()\n",
    "        self.inplanes = 64\n",
    "        # Conv_1 Layers\n",
    "        self.conv1 = nn.Conv2d(3, 64, kernel_size=7, stride=2, padding=3,\n",
    "                               bias=False)\n",
    "        self.bn1 = nn.BatchNorm2d(64)\n",
    "        self.relu = nn.ReLU(inplace=True)\n",
    "        self.maxpool = nn.MaxPool2d(kernel_size=3, stride=2, padding=1)\n",
    "        \n",
    "        self.layer1 = self._make_layer(block, 64, layers[0])\n",
    "        self.layer2 = self._make_layer(block, 128, layers[1], stride=2)\n",
    "        self.layer3 = self._make_layer(block, 256, layers[2], stride=2)\n",
    "        self.layer4 = self._make_layer(block, 512, layers[3], stride=2)\n",
    "        self.avgpool = nn.AdaptiveAvgPool2d((1, 1))\n",
    "        self.fc = nn.Linear(512 * block.expansion, num_classes)\n",
    "\n",
    "        for m in self.modules():\n",
    "            if isinstance(m, nn.Conv2d):\n",
    "                nn.init.kaiming_normal_(m.weight, mode='fan_out', nonlinearity='relu')\n",
    "            elif isinstance(m, nn.BatchNorm2d):\n",
    "                nn.init.constant_(m.weight, 1)\n",
    "                nn.init.constant_(m.bias, 0)\n",
    "\n",
    "        # Zero-initialize the last BN in each residual branch,\n",
    "        # so that the residual branch starts with zeros, and each residual block behaves like an identity.\n",
    "        # This improves the model by 0.2~0.3% according to https://arxiv.org/abs/1706.02677\n",
    "        if zero_init_residual:\n",
    "            for m in self.modules():\n",
    "                if isinstance(m, Bottleneck):\n",
    "                    nn.init.constant_(m.bn3.weight, 0)\n",
    "                elif isinstance(m, BasicBlock):\n",
    "                    nn.init.constant_(m.bn2.weight, 0)\n",
    "\n",
    "    def _make_layer(self, block, planes, blocks, stride=1):\n",
    "        downsample = None\n",
    "        if stride != 1 or self.inplanes != planes * block.expansion:\n",
    "            downsample = nn.Sequential(\n",
    "                conv1x1(self.inplanes, planes * block.expansion, stride),\n",
    "                nn.BatchNorm2d(planes * block.expansion),\n",
    "            )\n",
    "\n",
    "        layers = []\n",
    "        layers.append(block(self.inplanes, planes, stride, downsample))\n",
    "        self.inplanes = planes * block.expansion\n",
    "        for _ in range(1, blocks):\n",
    "            layers.append(block(self.inplanes, planes))\n",
    "\n",
    "        return nn.Sequential(*layers)\n",
    "\n",
    "    def forward(self, x):\n",
    "        x = self.conv1(x)\n",
    "        x = self.bn1(x)\n",
    "        x = self.relu(x)\n",
    "        x = self.maxpool(x)\n",
    "\n",
    "        x = self.layer1(x)\n",
    "        x = self.layer2(x)\n",
    "        x = self.layer3(x)\n",
    "        x = self.layer4(x)\n",
    "\n",
    "        x = self.avgpool(x)\n",
    "        x = x.view(x.size(0), -1)\n",
    "        x = self.fc(x)\n",
    "\n",
    "        return x\n",
    "\n",
    "\n",
    "def resnet50(pretrained=False, not_freeze=None, **kwargs):\n",
    "    \"\"\"Constructs a ResNet-50 model.\n",
    "    Args:\n",
    "        pretrained (bool): If True, returns a model pre-trained on ImageNet\n",
    "    \"\"\"\n",
    "    model = ResNet(Bottleneck, [3, 4, 6, 3], **kwargs)\n",
    "    if pretrained:\n",
    "        state_dict = model_zoo.load_url('https://download.pytorch.org/models/resnet50-19c8e357.pth')\n",
    "        state_dict['fc.weight'] = state_dict['fc.weight'][[kwargs.get('num_classes', 1)]]\n",
    "        state_dict['fc.bias'] = state_dict['fc.bias'][:kwargs.get('num_classes', 1)]\n",
    "        model.load_state_dict(state_dict)\n",
    "        if not_freeze:\n",
    "            for name, child in model.named_children():\n",
    "                if name not in not_freeze:\n",
    "                    for name2, params in child.named_parameters():\n",
    "                        params.requires_grad = False\n",
    "    return model"
   ]
  },
  {
   "cell_type": "code",
   "execution_count": null,
   "metadata": {
    "colab": {},
    "colab_type": "code",
    "id": "n2qZ71UuU-Zr"
   },
   "outputs": [],
   "source": [
    "# helper functions\n",
    "def show(_img):\n",
    "    npimg = _img.numpy()\n",
    "    plt.imshow(np.transpose(npimg, (1,2,0)), interpolation='nearest')\n",
    "\n",
    "def matplotlib_imshow(img, one_channel=False):\n",
    "    if one_channel:\n",
    "        img = img.mean(dim=0)\n",
    "    img = img / 2 + 0.5     # unnormalize\n",
    "    npimg = img.numpy()\n",
    "    if one_channel:\n",
    "        plt.imshow(npimg, cmap=\"Greys\")\n",
    "    else:\n",
    "        plt.imshow(np.transpose(npimg, (1, 2, 0)))\n",
    "\n",
    "def images_to_probs(net, images):\n",
    "    '''\n",
    "    Generates predictions and corresponding probabilities from a trained\n",
    "    network and a list of images\n",
    "    '''\n",
    "    pred_class = []\n",
    "    prob = []\n",
    "    with torch.no_grad():\n",
    "      output = net(images).detach().cpu().sigmoid().squeeze().tolist()\n",
    "    for p in output:\n",
    "      if p>0.5:\n",
    "        pred_class.append('fake')\n",
    "        prob.append(p)\n",
    "      else:\n",
    "        pred_class.append('real')\n",
    "        prob.append(1-p)\n",
    "    \n",
    "    return pred_class, prob\n",
    "\n",
    "\n",
    "def plot_classes_preds(net, images, labels):\n",
    "    '''\n",
    "    Generates matplotlib Figure using a trained network, along with images\n",
    "    and labels from a batch, that shows the network's top prediction along\n",
    "    with its probability, alongside the actual label, coloring this\n",
    "    information based on whether the prediction was correct or not.\n",
    "    Uses the \"images_to_probs\" function.\n",
    "    '''\n",
    "    _classes = ['real', 'fake']\n",
    "    preds, probs = images_to_probs(net, images)\n",
    "    # plot the images in the batch, along with predicted and true labels\n",
    "    fig = plt.figure(figsize=(12, 48))\n",
    "    for idx in np.arange(4):\n",
    "        ax = fig.add_subplot(1, 4, idx+1, xticks=[], yticks=[])\n",
    "        matplotlib_imshow(images[idx].cpu())\n",
    "        ax.set_title(\"{0}, {1:.1f}%\\n(label: {2})\".format(\n",
    "            preds[idx],\n",
    "            probs[idx] * 100.0,\n",
    "            _classes[labels[idx].cpu()]),\n",
    "                    color=(\"green\" if preds[idx]==_classes[labels[idx].item()] else \"red\"))\n",
    "    return fig\n",
    "\n",
    "\n",
    "def validate(model, data_loader_test):\n",
    "\n",
    "    with torch.no_grad():\n",
    "        y_true, y_pred = [], []\n",
    "        for img, label in data_loader_test:\n",
    "            in_tens = img.cuda()\n",
    "            y_pred.extend(model(in_tens).sigmoid().flatten().tolist())\n",
    "            y_true.extend(label.flatten().tolist())\n",
    "\n",
    "    y_true, y_pred = np.array(y_true), np.array(y_pred)\n",
    "    r_acc = accuracy_score(y_true[y_true == 0], y_pred[y_true == 0] > 0.5)\n",
    "    f_acc = accuracy_score(y_true[y_true == 1], y_pred[y_true == 1] > 0.5)\n",
    "    acc = accuracy_score(y_true, y_pred > 0.5)\n",
    "    ap = average_precision_score(y_true, y_pred)\n",
    "    return acc, ap, r_acc, f_acc, y_true, y_pred"
   ]
  },
  {
   "cell_type": "code",
   "execution_count": null,
   "metadata": {
    "colab": {},
    "colab_type": "code",
    "id": "LWrvSQgiVZXW"
   },
   "outputs": [],
   "source": [
    "def train_model(model, epochs, lr, optimizer, criterion, data_loader, data_loader_test):\n",
    "  running_loss = 0.0\n",
    "  # override the learning rate\n",
    "  if lr != learning_rate:\n",
    "    for param_group in optimizer.param_groups:\n",
    "        param_group['lr'] = lr\n",
    "\n",
    "  for epoch in range(epochs):\n",
    "    # decay the learning rate for every two epochs\n",
    "    if epoch%2==0 and epoch and epoch < 5:\n",
    "      lr = lr/10\n",
    "      for param_group in optimizer.param_groups:\n",
    "          param_group['lr'] = lr\n",
    "\n",
    "    for batch_idx, (inputs, labels) in enumerate(data_loader):\n",
    "      inputs, labels = inputs.to('cuda'), labels.to('cuda')\n",
    "      optimizer.zero_grad()\n",
    "      output = model(inputs)\n",
    "\n",
    "      loss = criterion(output, labels.type_as(output).unsqueeze(1))\n",
    "      loss.backward()\n",
    "      optimizer.step()\n",
    "\n",
    "      running_loss += loss.item()\n",
    "      colab_op.clear('status_text')\n",
    "      with colab_op.use_tags('status_text'):\n",
    "        print(f\"epoch: {epoch}, batch:{batch_idx}, loss: {loss.item()}, lr: {lr}\")\n",
    "\n",
    "    writer.add_scalar(f'TrainLoss', running_loss/(len(data_loader)*batch_idx), epoch)\n",
    "    writer.flush()\n",
    "    running_loss = 0.0\n",
    "    acc, ap, _, _, _, _ = validate(model, data_loader_test)\n",
    "    writer.add_scalar('Accuracy', acc*100, epoch)\n",
    "    writer.add_scalar('AP', ap, epoch)\n",
    "    writer.add_figure('predictions vs. actuals', plot_classes_preds(model, inputs, labels), global_step=epoch * len(data_loader) + batch_idx)\n"
   ]
  },
  {
   "cell_type": "code",
   "execution_count": null,
   "metadata": {
    "colab": {},
    "colab_type": "code",
    "id": "dPKtp6LBs4z8"
   },
   "outputs": [],
   "source": [
    "# training options\n",
    "batch_size = 64\n",
    "epochs = 10\n",
    "learning_rate = 0.001\n"
   ]
  },
  {
   "cell_type": "markdown",
   "metadata": {
    "colab_type": "text",
    "id": "GbBZZKUUIFbq"
   },
   "source": [
    "### *We have used tensorboard to keep track of the training metrics as it provides an interactive UI.*\n",
    "  - We can also use ngrok to monitor the progress remotely as tensorboard is a webpage."
   ]
  },
  {
   "cell_type": "code",
   "execution_count": null,
   "metadata": {
    "colab": {},
    "colab_type": "code",
    "id": "hrdGtPkq_x7h"
   },
   "outputs": [],
   "source": [
    "!rm -rf /content/drive/My\\ Drive/Colab\\ Notebooks/runs\n",
    "%tensorboard --logdir /content/drive/My\\ Drive/Colab\\ Notebooks/runs\n",
    "writer = SummaryWriter('/content/drive/My Drive/Colab Notebooks/runs')\n",
    "# data loaders\n",
    "data_loader = get_dataloader()\n",
    "data_loader_test = get_dataloader(test=True)\n",
    "# training params\n",
    "model = resnet50(pretrained=True, not_freeze=['layer4', 'fc'], num_classes=1).cuda().train()\n",
    "lr = learning_rate\n",
    "optimizer = torch.optim.Adam(model.parameters(), lr=lr)\n",
    "criterion = nn.BCEWithLogitsLoss()\n",
    "train_model(model, 10, lr, optimizer, criterion, data_loader, data_loader_test)"
   ]
  },
  {
   "cell_type": "markdown",
   "metadata": {
    "colab_type": "text",
    "id": "Qf73K-ZwJTz4"
   },
   "source": [
    "### Plotting the ROC and AUC curve"
   ]
  },
  {
   "cell_type": "code",
   "execution_count": null,
   "metadata": {
    "colab": {},
    "colab_type": "code",
    "id": "3lh7VPHIt3Qk"
   },
   "outputs": [],
   "source": [
    "torch.save(model.state_dict(), \"model.torch\")"
   ]
  },
  {
   "cell_type": "code",
   "execution_count": null,
   "metadata": {
    "colab": {
     "base_uri": "https://localhost:8080/",
     "height": 623
    },
    "colab_type": "code",
    "id": "j4nPFXEFHZ4e",
    "outputId": "a22e9ca7-4d34-420e-d8af-f3642d584731"
   },
   "outputs": [
    {
     "data": {
      "text/plain": [
       "'                         roc_auc_score - 0.98595'"
      ]
     },
     "execution_count": 22,
     "metadata": {
      "tags": []
     },
     "output_type": "execute_result"
    },
    {
     "data": {
      "image/png": "[encoded data removed]",
      "text/plain": [
       "<Figure size 720x720 with 1 Axes>"
      ]
     },
     "metadata": {
      "needs_background": "light",
      "tags": []
     },
     "output_type": "display_data"
    }
   ],
   "source": [
    "with torch.no_grad():\n",
    "        y_true, y_pred = [], []\n",
    "        for img, label in data_loader_test:\n",
    "            in_tens = img.cuda()\n",
    "            y_pred.extend(model(in_tens).sigmoid().flatten().tolist())\n",
    "            y_true.extend(label.flatten().tolist())\n",
    "\n",
    "fpr, tpr, _ = roc_curve(y_true, y_pred)\n",
    "# plot the roc curve for the model\n",
    "fig = plt.figure(figsize=(10, 10))\n",
    "plt.plot(fpr, tpr, marker='.', label='ROC Curve')\n",
    "# axis labels\n",
    "plt.xlabel('False Positive Rate')\n",
    "plt.ylabel('True Positive Rate')\n",
    "f'                         roc_auc_score - {roc_auc_score(y_true, y_pred)}'"
   ]
  },
  {
   "cell_type": "markdown",
   "metadata": {
    "colab_type": "text",
    "id": "W8WQ86XZE9GA"
   },
   "source": [
    "### The following code is to just to move around data"
   ]
  },
  {
   "cell_type": "code",
   "execution_count": null,
   "metadata": {
    "colab": {},
    "colab_type": "code",
    "id": "kD5Bu-l8_Q0k"
   },
   "outputs": [],
   "source": [
    "# import glob\n",
    "# import shutil"
   ]
  },
  {
   "cell_type": "code",
   "execution_count": null,
   "metadata": {
    "colab": {},
    "colab_type": "code",
    "id": "lv3DVjHG_mD3"
   },
   "outputs": [],
   "source": [
    "# fake = glob.glob('/content/drive/My Drive/Colab Notebooks/whichfaceisreal/1_fake/*')\n",
    "# real = glob.glob('/content/drive/My Drive/Colab Notebooks/whichfaceisreal/0_real/*')\n",
    "# shuffle(fake)\n",
    "# shuffle(real)"
   ]
  },
  {
   "cell_type": "code",
   "execution_count": null,
   "metadata": {
    "colab": {},
    "colab_type": "code",
    "id": "CIXwNB9t_m14"
   },
   "outputs": [],
   "source": [
    "# mkdir test_whichfaceisreal\n",
    "# cd test_whichfaceisreal\n",
    "# !mkdir 1_fake\n",
    "# !mkdir 0_real"
   ]
  },
  {
   "cell_type": "code",
   "execution_count": null,
   "metadata": {
    "colab": {},
    "colab_type": "code",
    "id": "M3O1Rn6HBKGL"
   },
   "outputs": [],
   "source": [
    "# for i in real[:200]:\n",
    "#   shutil.move(i, \"0_real\")\n",
    "\n",
    "# for i in fake[:200]:\n",
    "#   shutil.move(i, \"1_fake\")"
   ]
  },
  {
   "cell_type": "markdown",
   "metadata": {
    "colab": {},
    "colab_type": "code",
    "id": "lyhFVNh1DS4i"
   },
   "source": [
    "### Server code"
   ]
  },
  {
   "cell_type": "code",
   "execution_count": 1,
   "metadata": {
    "colab": {},
    "colab_type": "code",
    "id": "ZeCwnTU7EFa5"
   },
   "outputs": [],
   "source": [
    "from flask import Flask, jsonify, request\n",
    "from flask_cors import CORS\n",
    "from glob import glob\n",
    "\n",
    "import torch\n",
    "import torch.nn as nn\n",
    "import torch.optim as optim\n",
    "import torch.nn.functional as F\n",
    "import torch.utils.model_zoo as model_zoo\n",
    "\n",
    "import cv2\n",
    "import torchvision\n",
    "import numpy as np\n",
    "import torchvision.datasets as datasets\n",
    "import torchvision.transforms as transforms\n",
    "import torchvision.transforms.functional as TF\n",
    "from random import random, choice\n",
    "from io import BytesIO\n",
    "from PIL import Image\n",
    "from PIL import ImageFile\n",
    "from scipy.ndimage.filters import gaussian_filter"
   ]
  },
  {
   "cell_type": "code",
   "execution_count": 2,
   "metadata": {},
   "outputs": [],
   "source": [
    "crop_size = 224\n",
    "resize = 256\n",
    "\n",
    "def custom_resize(img):\n",
    "    interp = \"bilinear\"\n",
    "    return TF.resize(img, resize, interpolation=Image.BILINEAR)\n",
    "\n",
    "loader = transforms.Compose([\n",
    "          transforms.Lambda(lambda img: custom_resize(img)),\n",
    "#           transforms.Lambda(lambda img: data_augment(img)),\n",
    "          transforms.CenterCrop(crop_size),\n",
    "          transforms.ToTensor(),\n",
    "          transforms.Normalize(mean=[0.485, 0.456, 0.406], std=[0.229, 0.224, 0.225]),\n",
    "      ])\n",
    "\n",
    "def image_loader(img_path):\n",
    "    \"\"\"load image, returns cuda tensor\"\"\"\n",
    "    image = Image.open(img_path)\n",
    "    image = loader(image).float().unsqueeze(0)\n",
    "    return image"
   ]
  },
  {
   "cell_type": "code",
   "execution_count": 3,
   "metadata": {},
   "outputs": [],
   "source": [
    "def conv3x3(in_planes, out_planes, stride=1):\n",
    "    \"\"\"3x3 convolution with padding\"\"\"\n",
    "    return nn.Conv2d(in_planes, out_planes, kernel_size=3, stride=stride,\n",
    "                     padding=1, bias=False)\n",
    "\n",
    "\n",
    "def conv1x1(in_planes, out_planes, stride=1):\n",
    "    \"\"\"1x1 convolution\"\"\"\n",
    "    return nn.Conv2d(in_planes, out_planes, kernel_size=1, stride=stride, bias=False)\n",
    "\n",
    "\n",
    "class Bottleneck(nn.Module):\n",
    "    expansion = 4\n",
    "\n",
    "    def __init__(self, inplanes, planes, stride=1, downsample=None):\n",
    "        super(Bottleneck, self).__init__()\n",
    "\n",
    "        self.conv1 = conv1x1(inplanes, planes)\n",
    "        self.bn1 = nn.BatchNorm2d(planes)\n",
    "\n",
    "        self.conv2 = conv3x3(planes, planes, stride)\n",
    "        self.bn2 = nn.BatchNorm2d(planes)\n",
    "\n",
    "        self.conv3 = conv1x1(planes, planes * self.expansion)\n",
    "        self.bn3 = nn.BatchNorm2d(planes * self.expansion)\n",
    "\n",
    "        self.relu = nn.ReLU(inplace=True)\n",
    "        self.downsample = downsample\n",
    "        self.stride = stride\n",
    "\n",
    "    def forward(self, x):\n",
    "        identity = x\n",
    "\n",
    "        out = self.conv1(x)\n",
    "        out = self.bn1(out)\n",
    "        out = self.relu(out)\n",
    "\n",
    "        out = self.conv2(out)\n",
    "        out = self.bn2(out)\n",
    "        out = self.relu(out)\n",
    "\n",
    "        out = self.conv3(out)\n",
    "        out = self.bn3(out)\n",
    "\n",
    "        if self.downsample is not None:\n",
    "            identity = self.downsample(x)\n",
    "\n",
    "        out += identity\n",
    "        out = self.relu(out)\n",
    "\n",
    "        return out\n",
    "\n",
    "\n",
    "class ResNet(nn.Module):\n",
    "\n",
    "    def __init__(self, block, layers, num_classes=1000, zero_init_residual=False):\n",
    "        super(ResNet, self).__init__()\n",
    "        self.inplanes = 64\n",
    "        # Conv_1 Layers\n",
    "        self.conv1 = nn.Conv2d(3, 64, kernel_size=7, stride=2, padding=3,\n",
    "                               bias=False)\n",
    "        self.bn1 = nn.BatchNorm2d(64)\n",
    "        self.relu = nn.ReLU(inplace=True)\n",
    "        self.maxpool = nn.MaxPool2d(kernel_size=3, stride=2, padding=1)\n",
    "        \n",
    "        self.layer1 = self._make_layer(block, 64, layers[0])\n",
    "        self.layer2 = self._make_layer(block, 128, layers[1], stride=2)\n",
    "        self.layer3 = self._make_layer(block, 256, layers[2], stride=2)\n",
    "        self.layer4 = self._make_layer(block, 512, layers[3], stride=2)\n",
    "        self.avgpool = nn.AdaptiveAvgPool2d((1, 1))\n",
    "        self.fc = nn.Linear(512 * block.expansion, num_classes)\n",
    "\n",
    "        for m in self.modules():\n",
    "            if isinstance(m, nn.Conv2d):\n",
    "                nn.init.kaiming_normal_(m.weight, mode='fan_out', nonlinearity='relu')\n",
    "            elif isinstance(m, nn.BatchNorm2d):\n",
    "                nn.init.constant_(m.weight, 1)\n",
    "                nn.init.constant_(m.bias, 0)\n",
    "\n",
    "        if zero_init_residual:\n",
    "            for m in self.modules():\n",
    "                if isinstance(m, Bottleneck):\n",
    "                    nn.init.constant_(m.bn3.weight, 0)\n",
    "                elif isinstance(m, BasicBlock):\n",
    "                    nn.init.constant_(m.bn2.weight, 0)\n",
    "\n",
    "    def _make_layer(self, block, planes, blocks, stride=1):\n",
    "        downsample = None\n",
    "        if stride != 1 or self.inplanes != planes * block.expansion:\n",
    "            downsample = nn.Sequential(\n",
    "                conv1x1(self.inplanes, planes * block.expansion, stride),\n",
    "                nn.BatchNorm2d(planes * block.expansion),\n",
    "            )\n",
    "\n",
    "        layers = []\n",
    "        layers.append(block(self.inplanes, planes, stride, downsample))\n",
    "        self.inplanes = planes * block.expansion\n",
    "        for _ in range(1, blocks):\n",
    "            layers.append(block(self.inplanes, planes))\n",
    "\n",
    "        return nn.Sequential(*layers)\n",
    "\n",
    "    def forward(self, x):\n",
    "        x = self.conv1(x)\n",
    "        x = self.bn1(x)\n",
    "        x = self.relu(x)\n",
    "        x = self.maxpool(x)\n",
    "\n",
    "        x = self.layer1(x)\n",
    "        x = self.layer2(x)\n",
    "        x = self.layer3(x)\n",
    "        x = self.layer4(x)\n",
    "\n",
    "        x = self.avgpool(x)\n",
    "        x = x.view(x.size(0), -1)\n",
    "        x = self.fc(x)\n",
    "\n",
    "        return x\n",
    "\n",
    "\n",
    "def resnet50_inference(**kwargs):\n",
    "    model = ResNet(Bottleneck, [3, 4, 6, 3], **kwargs)\n",
    "    return model"
   ]
  },
  {
   "cell_type": "code",
   "execution_count": 4,
   "metadata": {},
   "outputs": [],
   "source": [
    "model = resnet50_inference(num_classes=1)\n",
    "model.load_state_dict(torch.load(\"/Users/nikhilvasudeva/Downloads/CSE574Project/model.torch\", map_location=torch.device('cpu')))\n",
    "model = model.eval()"
   ]
  },
  {
   "cell_type": "code",
   "execution_count": 5,
   "metadata": {},
   "outputs": [
    {
     "data": {
      "text/plain": [
       "<flask_cors.extension.CORS at 0x111dedd50>"
      ]
     },
     "execution_count": 5,
     "metadata": {},
     "output_type": "execute_result"
    }
   ],
   "source": [
    "app = Flask(__name__)\n",
    "CORS(app)"
   ]
  },
  {
   "cell_type": "code",
   "execution_count": 6,
   "metadata": {},
   "outputs": [],
   "source": [
    "fake_paths = glob(\"/Users/nikhilvasudeva/Downloads/CSE574Project/data/1_fake/*\")\n",
    "real_paths = glob(\"/Users/nikhilvasudeva/Downloads/CSE574Project/data/0_real/*\")\n",
    "\n",
    "@app.route(\"/get_predicitons\", methods=[\"GET\"])\n",
    "def get_response():\n",
    "    fake_img = choice(fake_paths)\n",
    "    real_img = choice(real_paths)\n",
    "    img1 = choice([fake_img, real_img])\n",
    "    img2 = real_img\n",
    "    fake = \"img1\"\n",
    "\n",
    "    if img1 == real_img:\n",
    "        fake = \"img2\"\n",
    "        img2 = fake_img\n",
    "\n",
    "    with torch.no_grad():\n",
    "        output = model(image_loader(fake_img))\n",
    "        probs = (output).sigmoid().flatten().item()\n",
    "\n",
    "    if probs > 0.5:\n",
    "        model_pred = fake\n",
    "    else:\n",
    "        probs = 1-probs\n",
    "        if fake == \"img1\":\n",
    "            model_pred = \"img2\"\n",
    "        else:\n",
    "            model_pred = \"img1\"\n",
    "\n",
    "    print({\"img1\": img1, \"img2\": img2, \"fake\": fake, \"model\": {\"fake\": model_pred, \"probability\": int(probs*100)}})\n",
    "    return jsonify({\"img1\": img1, \"img2\": img2, \"fake\": fake, \"model\": {\"fake\": model_pred, \"probability\": int(probs*100)}})"
   ]
  },
  {
   "cell_type": "code",
   "execution_count": null,
   "metadata": {},
   "outputs": [
    {
     "name": "stdout",
     "output_type": "stream",
     "text": [
      " * Serving Flask app \"__main__\" (lazy loading)\n",
      " * Environment: production\n",
      "   WARNING: This is a development server. Do not use it in a production deployment.\n",
      "   Use a production WSGI server instead.\n",
      " * Debug mode: off\n"
     ]
    },
    {
     "name": "stderr",
     "output_type": "stream",
     "text": [
      " * Running on http://127.0.0.1:5000/ (Press CTRL+C to quit)\n",
      "127.0.0.1 - - [04/May/2020 17:16:24] \"GET /get_predicitons HTTP/1.1\" 200 -\n"
     ]
    },
    {
     "name": "stdout",
     "output_type": "stream",
     "text": [
      "{'img1': '/Users/nikhilvasudeva/Downloads/CSE574Project/data/1_fake/image-2019-02-17_022406.jpeg', 'img2': '/Users/nikhilvasudeva/Downloads/CSE574Project/data/0_real/00186.jpeg', 'fake': 'img1', 'model': {'fake': 'img1', 'probability': 99}}\n"
     ]
    },
    {
     "name": "stderr",
     "output_type": "stream",
     "text": [
      "127.0.0.1 - - [04/May/2020 17:39:07] \"GET /get_predicitons HTTP/1.1\" 200 -\n"
     ]
    },
    {
     "name": "stdout",
     "output_type": "stream",
     "text": [
      "{'img1': '/Users/nikhilvasudeva/Downloads/CSE574Project/data/1_fake/image-2019-02-17_025658.jpeg', 'img2': '/Users/nikhilvasudeva/Downloads/CSE574Project/data/0_real/00801.jpeg', 'fake': 'img1', 'model': {'fake': 'img2', 'probability': 68}}\n"
     ]
    },
    {
     "name": "stderr",
     "output_type": "stream",
     "text": [
      "127.0.0.1 - - [04/May/2020 17:39:33] \"GET /get_predicitons HTTP/1.1\" 200 -\n"
     ]
    },
    {
     "name": "stdout",
     "output_type": "stream",
     "text": [
      "{'img1': '/Users/nikhilvasudeva/Downloads/CSE574Project/data/1_fake/image-2019-02-17_020024.jpeg', 'img2': '/Users/nikhilvasudeva/Downloads/CSE574Project/data/0_real/00243.jpeg', 'fake': 'img1', 'model': {'fake': 'img1', 'probability': 98}}\n"
     ]
    },
    {
     "name": "stderr",
     "output_type": "stream",
     "text": [
      "127.0.0.1 - - [04/May/2020 17:45:10] \"GET /get_predicitons HTTP/1.1\" 200 -\n"
     ]
    },
    {
     "name": "stdout",
     "output_type": "stream",
     "text": [
      "{'img1': '/Users/nikhilvasudeva/Downloads/CSE574Project/data/0_real/00798.jpeg', 'img2': '/Users/nikhilvasudeva/Downloads/CSE574Project/data/1_fake/image-2019-02-17_023433.jpeg', 'fake': 'img2', 'model': {'fake': 'img2', 'probability': 99}}\n"
     ]
    },
    {
     "name": "stderr",
     "output_type": "stream",
     "text": [
      "127.0.0.1 - - [04/May/2020 17:57:29] \"GET /get_predicitons HTTP/1.1\" 200 -\n"
     ]
    },
    {
     "name": "stdout",
     "output_type": "stream",
     "text": [
      "{'img1': '/Users/nikhilvasudeva/Downloads/CSE574Project/data/1_fake/image-2019-02-17_022838.jpeg', 'img2': '/Users/nikhilvasudeva/Downloads/CSE574Project/data/0_real/00297.jpeg', 'fake': 'img1', 'model': {'fake': 'img1', 'probability': 99}}\n"
     ]
    }
   ],
   "source": [
    "app.run()"
   ]
  },
  {
   "cell_type": "code",
   "execution_count": null,
   "metadata": {},
   "outputs": [],
   "source": []
  }
 ],
 "metadata": {
  "accelerator": "GPU",
  "colab": {
   "collapsed_sections": [],
   "name": "CSE574_project.ipynb",
   "provenance": []
  },
  "kernelspec": {
   "display_name": "Python 3",
   "language": "python",
   "name": "python3"
  },
  "language_info": {
   "codemirror_mode": {
    "name": "ipython",
    "version": 3
   },
   "file_extension": ".py",
   "mimetype": "text/x-python",
   "name": "python",
   "nbconvert_exporter": "python",
   "pygments_lexer": "ipython3",
   "version": "3.7.4"
  }
 },
 "nbformat": 4,
 "nbformat_minor": 4
}
