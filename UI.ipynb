{
 "cells": [
  {
   "cell_type": "code",
   "execution_count": 2,
   "metadata": {},
   "outputs": [],
   "source": [
    "import tkinter as tk\n",
    "from tkinter import filedialog"
   ]
  },
  {
   "cell_type": "code",
   "execution_count": null,
   "metadata": {},
   "outputs": [],
   "source": [
    "window = tk.Tk()\n",
    "\n",
    "window.title(\"Flower Identification\")\n",
    "\n",
    "window.geometry('350x200')\n",
    "\n",
    "lbl = tk.Label(window, text = \"Import Picture of Flower ->\")\n",
    "\n",
    "lbl.grid(column = 0, row = 0)\n",
    "\n",
    "txt = tk.Entry(window, width = 10)\n",
    "\n",
    "txt.grid(column = 1, row = 0)\n",
    "\n",
    "def click():\n",
    "    res = \"The Flower is\" + txt.get()\n",
    "    lbl.configure(text = res)\n",
    "    filename = filedialog.askopenfilename()\n",
    "\n",
    "btn = tk.Button(window, text=\"Search\", command = click)\n",
    "\n",
    "btn.grid(column=3, row=0)\n",
    "    \n",
    "\n",
    "window.mainloop()\n"
   ]
  },
  {
   "cell_type": "code",
   "execution_count": null,
   "metadata": {},
   "outputs": [],
   "source": []
  }
 ],
 "metadata": {
  "kernelspec": {
   "display_name": "Python 3",
   "language": "python",
   "name": "python3"
  },
  "language_info": {
   "codemirror_mode": {
    "name": "ipython",
    "version": 3
   },
   "file_extension": ".py",
   "mimetype": "text/x-python",
   "name": "python",
   "nbconvert_exporter": "python",
   "pygments_lexer": "ipython3",
   "version": "3.7.3"
  }
 },
 "nbformat": 4,
 "nbformat_minor": 2
}
