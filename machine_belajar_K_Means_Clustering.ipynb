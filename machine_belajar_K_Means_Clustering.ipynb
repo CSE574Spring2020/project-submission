{
  "nbformat": 4,
  "nbformat_minor": 0,
  "metadata": {
    "colab": {
      "name": "machine-belajar_K-Means_Clustering",
      "provenance": [],
      "collapsed_sections": [],
      "machine_shape": "hm"
    },
    "kernelspec": {
      "name": "python3",
      "display_name": "Python 3"
    },
    "accelerator": "GPU"
  },
  "cells": [
    {
      "cell_type": "markdown",
      "metadata": {
        "id": "Lb-ce_VjAVNa",
        "colab_type": "text"
      },
      "source": [
        "Hevaily inspired by: https://github.com/rafaljanwojcik/Unsupervised-Sentiment-Analysis"
      ]
    },
    {
      "cell_type": "markdown",
      "metadata": {
        "id": "Uq-dUpQ71XET",
        "colab_type": "text"
      },
      "source": [
        "1. To this runtime, upload the poli_data_format.csv file and the pretrained Indonesian word2vec model, *id.bin*: https://drive.google.com/file/d/0B0ZXk88koS2KQWxEemNNUHhnTWc/view (credit https://github.com/Kyubyong/wordvectors)\n",
        "2. Clone cleaned Indonesian tweets and import packages:"
      ]
    },
    {
      "cell_type": "code",
      "metadata": {
        "id": "ZMMf5_TU532f",
        "colab_type": "code",
        "outputId": "a790b7a2-bec3-404a-d75d-87a29f535c8c",
        "colab": {
          "base_uri": "https://localhost:8080/",
          "height": 91
        }
      },
      "source": [
        "!git clone https://github.com/ridife/dataset-idsa.git\n",
        "#!unzip dataset-idsa/Indonesian\\ Sentiment\\ Tweet\\ Dataset\\ Unlabeled.zip"
      ],
      "execution_count": 1,
      "outputs": [
        {
          "output_type": "stream",
          "text": [
            "Cloning into 'dataset-idsa'...\n",
            "remote: Enumerating objects: 6, done.\u001b[K\n",
            "remote: Total 6 (delta 0), reused 0 (delta 0), pack-reused 6\u001b[K\n",
            "Unpacking objects: 100% (6/6), done.\n"
          ],
          "name": "stdout"
        }
      ]
    },
    {
      "cell_type": "code",
      "metadata": {
        "id": "sdEkkEU27sCV",
        "colab_type": "code",
        "colab": {}
      },
      "source": [
        "import pandas as pd\n",
        "import numpy as np\n",
        "from gensim.models import Word2Vec\n",
        "from sklearn.cluster import KMeans"
      ],
      "execution_count": 0,
      "outputs": []
    },
    {
      "cell_type": "markdown",
      "metadata": {
        "id": "ziDCts59CBsh",
        "colab_type": "text"
      },
      "source": [
        "3. Figure out sentiment value of words in the word2vec model:"
      ]
    },
    {
      "cell_type": "code",
      "metadata": {
        "id": "TsQnSlAz7_sd",
        "colab_type": "code",
        "outputId": "f7998a4d-5ae5-42bc-bbcc-79f0482abb5e",
        "colab": {
          "base_uri": "https://localhost:8080/",
          "height": 74
        }
      },
      "source": [
        "word_vectors = Word2Vec.load('id.bin').wv"
      ],
      "execution_count": 3,
      "outputs": [
        {
          "output_type": "stream",
          "text": [
            "/usr/local/lib/python3.6/dist-packages/smart_open/smart_open_lib.py:253: UserWarning: This function is deprecated, use smart_open.open instead. See the migration notes for details: https://github.com/RaRe-Technologies/smart_open/blob/master/README.rst#migrating-to-the-new-open-function\n",
            "  'See the migration notes for details: %s' % _MIGRATION_NOTES_URL\n"
          ],
          "name": "stderr"
        }
      ]
    },
    {
      "cell_type": "code",
      "metadata": {
        "id": "VQOzLBCmNCRi",
        "colab_type": "code",
        "colab": {}
      },
      "source": [
        "model = KMeans(n_clusters=2, max_iter=1000, random_state=True, n_init=100).fit(X=word_vectors.vectors)"
      ],
      "execution_count": 0,
      "outputs": []
    },
    {
      "cell_type": "code",
      "metadata": {
        "id": "Sg0XHodH2fFY",
        "colab_type": "code",
        "colab": {}
      },
      "source": [
        "model.fit(word_vectors.vectors)\n",
        "y_kmeans = model.predict(word_vectors.vectors)"
      ],
      "execution_count": 0,
      "outputs": []
    },
    {
      "cell_type": "markdown",
      "metadata": {
        "id": "2CyzN6Or8v-O",
        "colab_type": "text"
      },
      "source": [
        "3.1 Graph sentiment value clusters"
      ]
    },
    {
      "cell_type": "code",
      "metadata": {
        "id": "8Egqb45_2-zB",
        "colab_type": "code",
        "outputId": "3dfbdf60-4df8-46d7-d0b9-ce216534e066",
        "colab": {
          "base_uri": "https://localhost:8080/",
          "height": 74
        }
      },
      "source": [
        "%matplotlib inline\n",
        "import matplotlib.pyplot as plt\n",
        "import seaborn as sns; sns.set()"
      ],
      "execution_count": 6,
      "outputs": [
        {
          "output_type": "stream",
          "text": [
            "/usr/local/lib/python3.6/dist-packages/statsmodels/tools/_testing.py:19: FutureWarning: pandas.util.testing is deprecated. Use the functions in the public API at pandas.testing instead.\n",
            "  import pandas.util.testing as tm\n"
          ],
          "name": "stderr"
        }
      ]
    },
    {
      "cell_type": "code",
      "metadata": {
        "id": "OWeygs5K2wV1",
        "colab_type": "code",
        "outputId": "ac23bd7f-b64a-4d99-9563-93a565a7aedf",
        "colab": {
          "base_uri": "https://localhost:8080/",
          "height": 268
        }
      },
      "source": [
        "plt.scatter(word_vectors.vectors[:, 0], word_vectors.vectors[:, 1], c=y_kmeans, s=50, cmap='viridis')\n",
        "\n",
        "centers = model.cluster_centers_\n",
        "plt.scatter(centers[:, 0], centers[:, 1], c='black', s=200, alpha=0.5);"
      ],
      "execution_count": 7,
      "outputs": [
        {
          "output_type": "display_data",
          "data": {
            "image/png": "[encoded data removed]",
            "text/plain": [
              "<Figure size 432x288 with 1 Axes>"
            ]
          },
          "metadata": {
            "tags": []
          }
        }
      ]
    },
    {
      "cell_type": "code",
      "metadata": {
        "id": "kqZ32XK2AzFB",
        "colab_type": "code",
        "outputId": "d9220a2a-8429-43ec-88fc-c70f8222002e",
        "colab": {
          "base_uri": "https://localhost:8080/",
          "height": 74
        }
      },
      "source": [
        "words = pd.DataFrame(word_vectors.vocab.keys())\n",
        "words.columns = ['words']\n",
        "words['vectors'] = words.words.apply(lambda x: word_vectors.wv[f'{x}'])\n",
        "words['cluster'] = words.vectors.apply(lambda x: model.predict([np.array(x)]))\n",
        "words.cluster = words.cluster.apply(lambda x: x[0])\n",
        "words['cluster_value'] = [-1 if i==0 else 1 for i in words.cluster] # cluster #0 seems to lean more negatively, and cluster #1 leans more positive\n",
        "words['closeness_score'] = words.apply(lambda x: 1/(model.transform([x.vectors]).min()), axis=1)\n",
        "words['sentiment_coeff'] = words.closeness_score * words.cluster_value"
      ],
      "execution_count": 8,
      "outputs": [
        {
          "output_type": "stream",
          "text": [
            "/usr/local/lib/python3.6/dist-packages/ipykernel_launcher.py:3: DeprecationWarning: Call to deprecated `wv` (Attribute will be removed in 4.0.0, use self instead).\n",
            "  This is separate from the ipykernel package so we can avoid doing imports until\n"
          ],
          "name": "stderr"
        }
      ]
    },
    {
      "cell_type": "code",
      "metadata": {
        "id": "i5S-HUj4BWz1",
        "colab_type": "code",
        "outputId": "a5ac5aa7-b68e-4708-e49f-0b0b3dbcef84",
        "colab": {
          "base_uri": "https://localhost:8080/",
          "height": 921
        }
      },
      "source": [
        "words.head(10)"
      ],
      "execution_count": 9,
      "outputs": [
        {
          "output_type": "execute_result",
          "data": {
            "text/html": [
              "<div>\n",
              "<style scoped>\n",
              "    .dataframe tbody tr th:only-of-type {\n",
              "        vertical-align: middle;\n",
              "    }\n",
              "\n",
              "    .dataframe tbody tr th {\n",
              "        vertical-align: top;\n",
              "    }\n",
              "\n",
              "    .dataframe thead th {\n",
              "        text-align: right;\n",
              "    }\n",
              "</style>\n",
              "<table border=\"1\" class=\"dataframe\">\n",
              "  <thead>\n",
              "    <tr style=\"text-align: right;\">\n",
              "      <th></th>\n",
              "      <th>words</th>\n",
              "      <th>vectors</th>\n",
              "      <th>cluster</th>\n",
              "      <th>cluster_value</th>\n",
              "      <th>closeness_score</th>\n",
              "      <th>sentiment_coeff</th>\n",
              "    </tr>\n",
              "  </thead>\n",
              "  <tbody>\n",
              "    <tr>\n",
              "      <th>0</th>\n",
              "      <td>bukunya</td>\n",
              "      <td>[0.043560997, 0.88694453, -1.429345, 0.8567183...</td>\n",
              "      <td>0</td>\n",
              "      <td>-1</td>\n",
              "      <td>0.057561</td>\n",
              "      <td>-0.057561</td>\n",
              "    </tr>\n",
              "    <tr>\n",
              "      <th>1</th>\n",
              "      <td>sambung</td>\n",
              "      <td>[-0.34190354, 0.18776654, -0.6192795, 0.195348...</td>\n",
              "      <td>1</td>\n",
              "      <td>1</td>\n",
              "      <td>0.152269</td>\n",
              "      <td>0.152269</td>\n",
              "    </tr>\n",
              "    <tr>\n",
              "      <th>2</th>\n",
              "      <td>anyer</td>\n",
              "      <td>[-0.7063486, 0.553293, -0.5543846, 0.4856817, ...</td>\n",
              "      <td>0</td>\n",
              "      <td>-1</td>\n",
              "      <td>0.173120</td>\n",
              "      <td>-0.173120</td>\n",
              "    </tr>\n",
              "    <tr>\n",
              "      <th>3</th>\n",
              "      <td>kuripan</td>\n",
              "      <td>[-0.4620376, 0.07623836, 0.25089735, 0.5410571...</td>\n",
              "      <td>0</td>\n",
              "      <td>-1</td>\n",
              "      <td>0.201900</td>\n",
              "      <td>-0.201900</td>\n",
              "    </tr>\n",
              "    <tr>\n",
              "      <th>4</th>\n",
              "      <td>persijap</td>\n",
              "      <td>[-0.42356607, 0.37748742, 0.46421722, -0.12916...</td>\n",
              "      <td>0</td>\n",
              "      <td>-1</td>\n",
              "      <td>0.165229</td>\n",
              "      <td>-0.165229</td>\n",
              "    </tr>\n",
              "    <tr>\n",
              "      <th>5</th>\n",
              "      <td>murung</td>\n",
              "      <td>[-0.23928656, 0.22169685, -0.39104718, 0.67618...</td>\n",
              "      <td>0</td>\n",
              "      <td>-1</td>\n",
              "      <td>0.106330</td>\n",
              "      <td>-0.106330</td>\n",
              "    </tr>\n",
              "    <tr>\n",
              "      <th>6</th>\n",
              "      <td>woods</td>\n",
              "      <td>[0.06976533, 0.3684684, 0.343332, 1.0271071, 0...</td>\n",
              "      <td>0</td>\n",
              "      <td>-1</td>\n",
              "      <td>0.133103</td>\n",
              "      <td>-0.133103</td>\n",
              "    </tr>\n",
              "    <tr>\n",
              "      <th>7</th>\n",
              "      <td>spiders</td>\n",
              "      <td>[0.022209955, 0.74383307, -0.93456376, -0.4563...</td>\n",
              "      <td>0</td>\n",
              "      <td>-1</td>\n",
              "      <td>0.065728</td>\n",
              "      <td>-0.065728</td>\n",
              "    </tr>\n",
              "    <tr>\n",
              "      <th>8</th>\n",
              "      <td>francesco</td>\n",
              "      <td>[-0.6846506, 0.2922618, 0.030286498, 0.5536658...</td>\n",
              "      <td>0</td>\n",
              "      <td>-1</td>\n",
              "      <td>0.140665</td>\n",
              "      <td>-0.140665</td>\n",
              "    </tr>\n",
              "    <tr>\n",
              "      <th>9</th>\n",
              "      <td>woody</td>\n",
              "      <td>[-0.16098414, 0.22051175, -0.33928707, 0.57241...</td>\n",
              "      <td>0</td>\n",
              "      <td>-1</td>\n",
              "      <td>0.148798</td>\n",
              "      <td>-0.148798</td>\n",
              "    </tr>\n",
              "  </tbody>\n",
              "</table>\n",
              "</div>"
            ],
            "text/plain": [
              "       words  ... sentiment_coeff\n",
              "0    bukunya  ...       -0.057561\n",
              "1    sambung  ...        0.152269\n",
              "2      anyer  ...       -0.173120\n",
              "3    kuripan  ...       -0.201900\n",
              "4   persijap  ...       -0.165229\n",
              "5     murung  ...       -0.106330\n",
              "6      woods  ...       -0.133103\n",
              "7    spiders  ...       -0.065728\n",
              "8  francesco  ...       -0.140665\n",
              "9      woody  ...       -0.148798\n",
              "\n",
              "[10 rows x 6 columns]"
            ]
          },
          "metadata": {
            "tags": []
          },
          "execution_count": 9
        }
      ]
    },
    {
      "cell_type": "code",
      "metadata": {
        "id": "GuCPC194PXvA",
        "colab_type": "code",
        "colab": {}
      },
      "source": [
        "words[['words', 'sentiment_coeff']].to_csv('/content/sentiment_dictionary.csv', index=False)\n",
        "sentiment_map = pd.read_csv('/content/sentiment_dictionary.csv')\n",
        "sentiment_dict = dict(zip(sentiment_map.words.values, sentiment_map.sentiment_coeff.values))"
      ],
      "execution_count": 0,
      "outputs": []
    },
    {
      "cell_type": "markdown",
      "metadata": {
        "id": "C1sSnxIACL8g",
        "colab_type": "text"
      },
      "source": [
        "4. Get TF-IDF weighting of words within the tweets"
      ]
    },
    {
      "cell_type": "code",
      "metadata": {
        "id": "cu0lVyFdMtJ8",
        "colab_type": "code",
        "colab": {}
      },
      "source": [
        "from sklearn.feature_extraction.text import TfidfVectorizer\n",
        "from sklearn.metrics import accuracy_score, confusion_matrix, precision_score, recall_score, f1_score\n",
        "from IPython.display import display"
      ],
      "execution_count": 0,
      "outputs": []
    },
    {
      "cell_type": "code",
      "metadata": {
        "id": "G6tjwQ8vO1mq",
        "colab_type": "code",
        "colab": {}
      },
      "source": [
        "final_file = pd.read_csv('/content/dataset-idsa/Indonesian Sentiment Twitter Dataset Labeled.csv', sep='\\t', header=0)\n",
        "df2 = pd.read_csv('poli_data_format.csv', sep='\\t', header=0)\n",
        "final_file = pd.concat([final_file, df2])\n",
        "final_file.columns = ['sen', 'tweet']\n",
        "final_file = final_file[final_file.sen != 0]\n",
        "final_file = final_file.reset_index(drop=True)"
      ],
      "execution_count": 0,
      "outputs": []
    },
    {
      "cell_type": "code",
      "metadata": {
        "id": "m2-U7NlK1KYd",
        "colab_type": "code",
        "outputId": "e0c377f6-a3bb-4b7b-d1c3-4e82f5027aec",
        "colab": {
          "base_uri": "https://localhost:8080/",
          "height": 424
        }
      },
      "source": [
        "final_file # base truths of tweet sentiments"
      ],
      "execution_count": 14,
      "outputs": [
        {
          "output_type": "execute_result",
          "data": {
            "text/html": [
              "<div>\n",
              "<style scoped>\n",
              "    .dataframe tbody tr th:only-of-type {\n",
              "        vertical-align: middle;\n",
              "    }\n",
              "\n",
              "    .dataframe tbody tr th {\n",
              "        vertical-align: top;\n",
              "    }\n",
              "\n",
              "    .dataframe thead th {\n",
              "        text-align: right;\n",
              "    }\n",
              "</style>\n",
              "<table border=\"1\" class=\"dataframe\">\n",
              "  <thead>\n",
              "    <tr style=\"text-align: right;\">\n",
              "      <th></th>\n",
              "      <th>sen</th>\n",
              "      <th>tweet</th>\n",
              "    </tr>\n",
              "  </thead>\n",
              "  <tbody>\n",
              "    <tr>\n",
              "      <th>0</th>\n",
              "      <td>-1</td>\n",
              "      <td>lagu bosan apa yang aku save ni huhuhuhuhuhuhu...</td>\n",
              "    </tr>\n",
              "    <tr>\n",
              "      <th>1</th>\n",
              "      <td>-1</td>\n",
              "      <td>kita lanjutkan saja diam ini hingga kau dan ak...</td>\n",
              "    </tr>\n",
              "    <tr>\n",
              "      <th>2</th>\n",
              "      <td>1</td>\n",
              "      <td>doa rezeki tak putus inna haa zaa larizquna ma...</td>\n",
              "    </tr>\n",
              "    <tr>\n",
              "      <th>3</th>\n",
              "      <td>1</td>\n",
              "      <td>makasih loh ntar kita bagi hasil aku 99 9 sisa...</td>\n",
              "    </tr>\n",
              "    <tr>\n",
              "      <th>4</th>\n",
              "      <td>-1</td>\n",
              "      <td>aku tak faham betul jenis orang malaysia yang ...</td>\n",
              "    </tr>\n",
              "    <tr>\n",
              "      <th>...</th>\n",
              "      <td>...</td>\n",
              "      <td>...</td>\n",
              "    </tr>\n",
              "    <tr>\n",
              "      <th>5700</th>\n",
              "      <td>1</td>\n",
              "      <td>tolak propaganda opm papua aman damai indonesia</td>\n",
              "    </tr>\n",
              "    <tr>\n",
              "      <th>5701</th>\n",
              "      <td>1</td>\n",
              "      <td>tp niat contohnya pembagian sembako berbuat baik</td>\n",
              "    </tr>\n",
              "    <tr>\n",
              "      <th>5702</th>\n",
              "      <td>1</td>\n",
              "      <td>tunda mudik mudik bawa virus keluarga dikampung</td>\n",
              "    </tr>\n",
              "    <tr>\n",
              "      <th>5703</th>\n",
              "      <td>1</td>\n",
              "      <td>ucapan duka hentihentinya mengalir termasuk pr...</td>\n",
              "    </tr>\n",
              "    <tr>\n",
              "      <th>5704</th>\n",
              "      <td>1</td>\n",
              "      <td>yesss said uang didu dan pak endut ditampar ke...</td>\n",
              "    </tr>\n",
              "  </tbody>\n",
              "</table>\n",
              "<p>5705 rows × 2 columns</p>\n",
              "</div>"
            ],
            "text/plain": [
              "      sen                                              tweet\n",
              "0      -1  lagu bosan apa yang aku save ni huhuhuhuhuhuhu...\n",
              "1      -1  kita lanjutkan saja diam ini hingga kau dan ak...\n",
              "2       1  doa rezeki tak putus inna haa zaa larizquna ma...\n",
              "3       1  makasih loh ntar kita bagi hasil aku 99 9 sisa...\n",
              "4      -1  aku tak faham betul jenis orang malaysia yang ...\n",
              "...   ...                                                ...\n",
              "5700    1    tolak propaganda opm papua aman damai indonesia\n",
              "5701    1   tp niat contohnya pembagian sembako berbuat baik\n",
              "5702    1    tunda mudik mudik bawa virus keluarga dikampung\n",
              "5703    1  ucapan duka hentihentinya mengalir termasuk pr...\n",
              "5704    1  yesss said uang didu dan pak endut ditampar ke...\n",
              "\n",
              "[5705 rows x 2 columns]"
            ]
          },
          "metadata": {
            "tags": []
          },
          "execution_count": 14
        }
      ]
    },
    {
      "cell_type": "markdown",
      "metadata": {
        "id": "Ok0NDN6pUD4p",
        "colab_type": "text"
      },
      "source": [
        "5. Edit the sentences such that every word is replaced by its TF-IDF weighting, so as to determine how much sentiment importance should be given to a word"
      ]
    },
    {
      "cell_type": "code",
      "metadata": {
        "id": "yTqADEh3O1kP",
        "colab_type": "code",
        "colab": {}
      },
      "source": [
        "file_weighting = final_file.copy()"
      ],
      "execution_count": 0,
      "outputs": []
    },
    {
      "cell_type": "code",
      "metadata": {
        "id": "S5H52ZeJO1go",
        "colab_type": "code",
        "outputId": "ceca6411-a9dd-483e-b139-3a5d66e3ec63",
        "colab": {
          "base_uri": "https://localhost:8080/",
          "height": 74
        }
      },
      "source": [
        "tfidf = TfidfVectorizer(tokenizer=lambda y: y.split(), norm=None)\n",
        "tfidf.fit(file_weighting.tweet)\n",
        "features = pd.Series(tfidf.get_feature_names())\n",
        "transformed = tfidf.transform(file_weighting.tweet)"
      ],
      "execution_count": 16,
      "outputs": [
        {
          "output_type": "stream",
          "text": [
            "/usr/local/lib/python3.6/dist-packages/sklearn/feature_extraction/text.py:507: UserWarning: The parameter 'token_pattern' will not be used since 'tokenizer' is not None'\n",
            "  warnings.warn(\"The parameter 'token_pattern' will not be used\"\n"
          ],
          "name": "stderr"
        }
      ]
    },
    {
      "cell_type": "code",
      "metadata": {
        "id": "9lAJoIoyQAX4",
        "colab_type": "code",
        "colab": {}
      },
      "source": [
        "def create_tfidf_dictionary(x, transformed_file, features):\n",
        "    vector_coo = transformed_file[x.name].tocoo()\n",
        "    vector_coo.col = features.iloc[vector_coo.col].values\n",
        "    dict_from_coo = dict(zip(vector_coo.col, vector_coo.data))\n",
        "    return dict_from_coo\n",
        "\n",
        "def replace_tfidf_words(x, transformed_file, features):\n",
        "    dictionary = create_tfidf_dictionary(x, transformed_file, features)   \n",
        "    return list(map(lambda y:dictionary[f'{y}'.lower()], x.tweet.split()))"
      ],
      "execution_count": 0,
      "outputs": []
    },
    {
      "cell_type": "code",
      "metadata": {
        "id": "G_RJIHxVQJIJ",
        "colab_type": "code",
        "outputId": "dd1b5923-f2e1-4775-aa82-cf90fac09aff",
        "colab": {
          "base_uri": "https://localhost:8080/",
          "height": 54
        }
      },
      "source": [
        "%%time\n",
        "replaced_tfidf_scores = file_weighting.apply(lambda x: replace_tfidf_words(x, transformed, features), axis=1) # this step takes around 3-4 minutes minutes to calculate"
      ],
      "execution_count": 18,
      "outputs": [
        {
          "output_type": "stream",
          "text": [
            "CPU times: user 2.71 s, sys: 48.3 ms, total: 2.75 s\n",
            "Wall time: 2.71 s\n"
          ],
          "name": "stdout"
        }
      ]
    },
    {
      "cell_type": "code",
      "metadata": {
        "id": "01nPnnLF5Ai-",
        "colab_type": "code",
        "outputId": "bda7f93d-caa6-4ae5-8319-b8d713925d8d",
        "colab": {
          "base_uri": "https://localhost:8080/",
          "height": 239
        }
      },
      "source": [
        "replaced_tfidf_scores"
      ],
      "execution_count": 19,
      "outputs": [
        {
          "output_type": "execute_result",
          "data": {
            "text/plain": [
              "0       [7.010216202158187, 7.251378258975075, 3.74664...\n",
              "1       [2.9111210371774883, 8.550661243105335, 5.1166...\n",
              "2       [6.038355619129221, 6.604751094050022, 3.28969...\n",
              "3       [6.513779315844296, 6.75890177387728, 6.876684...\n",
              "4       [3.6957644229639186, 6.579399326202136, 6.0939...\n",
              "                              ...                        \n",
              "5700    [7.3466884387794, 8.039835619339346, 8.9561263...\n",
              "5701    [5.490390448413773, 6.876684809533664, 8.03983...\n",
              "5702    [8.039835619339346, 13.753369619067328, 13.753...\n",
              "5703    [14.020432404316374, 6.75890177387728, 8.26297...\n",
              "5704    [8.262979170653555, 8.262979170653555, 6.81606...\n",
              "Length: 5705, dtype: object"
            ]
          },
          "metadata": {
            "tags": []
          },
          "execution_count": 19
        }
      ]
    },
    {
      "cell_type": "markdown",
      "metadata": {
        "id": "em1R3jvI7O1G",
        "colab_type": "text"
      },
      "source": [
        "6. Construct a separate dataframe where each word is replaced by its respective sentiment coefficient value"
      ]
    },
    {
      "cell_type": "code",
      "metadata": {
        "id": "NUMeeF5uQMfh",
        "colab_type": "code",
        "colab": {}
      },
      "source": [
        "def replace_sentiment_words(word, sentiment_dict):\n",
        "    try:\n",
        "        out = sentiment_dict[word]\n",
        "    except KeyError:\n",
        "        out = 0\n",
        "    return out"
      ],
      "execution_count": 0,
      "outputs": []
    },
    {
      "cell_type": "code",
      "metadata": {
        "id": "HZlySgFNQMqr",
        "colab_type": "code",
        "colab": {}
      },
      "source": [
        "replaced_closeness_scores = file_weighting.tweet.apply(lambda x: list(map(lambda y: replace_sentiment_words(y, sentiment_dict), x.split())))"
      ],
      "execution_count": 0,
      "outputs": []
    },
    {
      "cell_type": "code",
      "metadata": {
        "id": "8mY62gwk1uJF",
        "colab_type": "code",
        "outputId": "c3a45343-638c-40d4-dfea-2f155efc9eaf",
        "colab": {
          "base_uri": "https://localhost:8080/",
          "height": 239
        }
      },
      "source": [
        "replaced_closeness_scores"
      ],
      "execution_count": 22,
      "outputs": [
        {
          "output_type": "execute_result",
          "data": {
            "text/plain": [
              "0       [-0.04314065709493973, 0.12238638329760487, 0....\n",
              "1       [0.053848427250173726, 0.19201445288504476, 0....\n",
              "2       [0.05764759432741174, 0.1454372276962121, 0.05...\n",
              "3       [0, -0.13949143974656836, 0, 0.053848427250173...\n",
              "4       [0.05207689523959176, 0.05074421579377466, 0, ...\n",
              "                              ...                        \n",
              "5700    [0.105862873369871, 0.0772429859700645, 0, -0....\n",
              "5701    [-0.15142198119170702, 0.07270590705969145, 0....\n",
              "5702    [-0.1877366164779535, -0.13213123072994815, -0...\n",
              "5703    [0.07404354906765186, 0.0915378098629264, 0, 0...\n",
              "5704    [0, -0.08970175621750892, 0.048757978531943566...\n",
              "Name: tweet, Length: 5705, dtype: object"
            ]
          },
          "metadata": {
            "tags": []
          },
          "execution_count": 22
        }
      ]
    },
    {
      "cell_type": "markdown",
      "metadata": {
        "id": "K0UnPIkI7wYe",
        "colab_type": "text"
      },
      "source": [
        "7. Create yet another dataframe with the applied values of both the TF-IDF scores and the sentiment coefficients"
      ]
    },
    {
      "cell_type": "code",
      "metadata": {
        "id": "0THHB-geQM2p",
        "colab_type": "code",
        "colab": {}
      },
      "source": [
        "replacement_df = pd.DataFrame(data=[replaced_closeness_scores, replaced_tfidf_scores, file_weighting.tweet, file_weighting.sen]).T\n",
        "replacement_df.columns = ['sentiment_coeff', 'tfidf_scores', 'tweet', 'true_sentiment']\n",
        "replacement_df['true_sentiment'] = [1 if i==1 else 0 for i in replacement_df.true_sentiment]\n",
        "# determine the sentiment value of a tweet, then predict based on posi/negativity of this value\n",
        "replacement_df['sentiment_val'] = replacement_df.apply(lambda x: np.array(x.loc['sentiment_coeff']) @ np.array(x.loc['tfidf_scores']), axis=1)\n",
        "replacement_df['predicted_sentiment'] = (replacement_df.sentiment_val>0).astype('int8')"
      ],
      "execution_count": 0,
      "outputs": []
    },
    {
      "cell_type": "code",
      "metadata": {
        "id": "PastCypM5YPM",
        "colab_type": "code",
        "outputId": "1967b66c-06cc-4fd0-b0bc-424977b6243d",
        "colab": {
          "base_uri": "https://localhost:8080/",
          "height": 843
        }
      },
      "source": [
        "replacement_df"
      ],
      "execution_count": 24,
      "outputs": [
        {
          "output_type": "execute_result",
          "data": {
            "text/html": [
              "<div>\n",
              "<style scoped>\n",
              "    .dataframe tbody tr th:only-of-type {\n",
              "        vertical-align: middle;\n",
              "    }\n",
              "\n",
              "    .dataframe tbody tr th {\n",
              "        vertical-align: top;\n",
              "    }\n",
              "\n",
              "    .dataframe thead th {\n",
              "        text-align: right;\n",
              "    }\n",
              "</style>\n",
              "<table border=\"1\" class=\"dataframe\">\n",
              "  <thead>\n",
              "    <tr style=\"text-align: right;\">\n",
              "      <th></th>\n",
              "      <th>sentiment_coeff</th>\n",
              "      <th>tfidf_scores</th>\n",
              "      <th>tweet</th>\n",
              "      <th>true_sentiment</th>\n",
              "      <th>sentiment_val</th>\n",
              "      <th>predicted_sentiment</th>\n",
              "    </tr>\n",
              "  </thead>\n",
              "  <tbody>\n",
              "    <tr>\n",
              "      <th>0</th>\n",
              "      <td>[-0.04314065709493973, 0.12238638329760487, 0....</td>\n",
              "      <td>[7.010216202158187, 7.251378258975075, 3.74664...</td>\n",
              "      <td>lagu bosan apa yang aku save ni huhuhuhuhuhuhu...</td>\n",
              "      <td>0</td>\n",
              "      <td>-0.369726</td>\n",
              "      <td>0</td>\n",
              "    </tr>\n",
              "    <tr>\n",
              "      <th>1</th>\n",
              "      <td>[0.053848427250173726, 0.19201445288504476, 0....</td>\n",
              "      <td>[2.9111210371774883, 8.550661243105335, 5.1166...</td>\n",
              "      <td>kita lanjutkan saja diam ini hingga kau dan ak...</td>\n",
              "      <td>0</td>\n",
              "      <td>6.620240</td>\n",
              "      <td>1</td>\n",
              "    </tr>\n",
              "    <tr>\n",
              "      <th>2</th>\n",
              "      <td>[0.05764759432741174, 0.1454372276962121, 0.05...</td>\n",
              "      <td>[6.038355619129221, 6.604751094050022, 3.28969...</td>\n",
              "      <td>doa rezeki tak putus inna haa zaa larizquna ma...</td>\n",
              "      <td>1</td>\n",
              "      <td>1.952561</td>\n",
              "      <td>1</td>\n",
              "    </tr>\n",
              "    <tr>\n",
              "      <th>3</th>\n",
              "      <td>[0, -0.13949143974656836, 0, 0.053848427250173...</td>\n",
              "      <td>[6.513779315844296, 6.75890177387728, 6.876684...</td>\n",
              "      <td>makasih loh ntar kita bagi hasil aku 99 9 sisa...</td>\n",
              "      <td>1</td>\n",
              "      <td>0.952328</td>\n",
              "      <td>1</td>\n",
              "    </tr>\n",
              "    <tr>\n",
              "      <th>4</th>\n",
              "      <td>[0.05207689523959176, 0.05074421579377466, 0, ...</td>\n",
              "      <td>[3.6957644229639186, 6.579399326202136, 6.0939...</td>\n",
              "      <td>aku tak faham betul jenis orang malaysia yang ...</td>\n",
              "      <td>0</td>\n",
              "      <td>-0.192003</td>\n",
              "      <td>0</td>\n",
              "    </tr>\n",
              "    <tr>\n",
              "      <th>...</th>\n",
              "      <td>...</td>\n",
              "      <td>...</td>\n",
              "      <td>...</td>\n",
              "      <td>...</td>\n",
              "      <td>...</td>\n",
              "      <td>...</td>\n",
              "    </tr>\n",
              "    <tr>\n",
              "      <th>5700</th>\n",
              "      <td>[0.105862873369871, 0.0772429859700645, 0, -0....</td>\n",
              "      <td>[7.3466884387794, 8.039835619339346, 8.9561263...</td>\n",
              "      <td>tolak propaganda opm papua aman damai indonesia</td>\n",
              "      <td>1</td>\n",
              "      <td>2.140173</td>\n",
              "      <td>1</td>\n",
              "    </tr>\n",
              "    <tr>\n",
              "      <th>5701</th>\n",
              "      <td>[-0.15142198119170702, 0.07270590705969145, 0....</td>\n",
              "      <td>[5.490390448413773, 6.876684809533664, 8.03983...</td>\n",
              "      <td>tp niat contohnya pembagian sembako berbuat baik</td>\n",
              "      <td>1</td>\n",
              "      <td>-0.245876</td>\n",
              "      <td>0</td>\n",
              "    </tr>\n",
              "    <tr>\n",
              "      <th>5702</th>\n",
              "      <td>[-0.1877366164779535, -0.13213123072994815, -0...</td>\n",
              "      <td>[8.039835619339346, 13.753369619067328, 13.753...</td>\n",
              "      <td>tunda mudik mudik bawa virus keluarga dikampung</td>\n",
              "      <td>1</td>\n",
              "      <td>-3.641420</td>\n",
              "      <td>0</td>\n",
              "    </tr>\n",
              "    <tr>\n",
              "      <th>5703</th>\n",
              "      <td>[0.07404354906765186, 0.0915378098629264, 0, 0...</td>\n",
              "      <td>[14.020432404316374, 6.75890177387728, 8.26297...</td>\n",
              "      <td>ucapan duka hentihentinya mengalir termasuk pr...</td>\n",
              "      <td>1</td>\n",
              "      <td>3.336698</td>\n",
              "      <td>1</td>\n",
              "    </tr>\n",
              "    <tr>\n",
              "      <th>5704</th>\n",
              "      <td>[0, -0.08970175621750892, 0.048757978531943566...</td>\n",
              "      <td>[8.262979170653555, 8.262979170653555, 6.81606...</td>\n",
              "      <td>yesss said uang didu dan pak endut ditampar ke...</td>\n",
              "      <td>1</td>\n",
              "      <td>1.035062</td>\n",
              "      <td>1</td>\n",
              "    </tr>\n",
              "  </tbody>\n",
              "</table>\n",
              "<p>5705 rows × 6 columns</p>\n",
              "</div>"
            ],
            "text/plain": [
              "                                        sentiment_coeff  ... predicted_sentiment\n",
              "0     [-0.04314065709493973, 0.12238638329760487, 0....  ...                   0\n",
              "1     [0.053848427250173726, 0.19201445288504476, 0....  ...                   1\n",
              "2     [0.05764759432741174, 0.1454372276962121, 0.05...  ...                   1\n",
              "3     [0, -0.13949143974656836, 0, 0.053848427250173...  ...                   1\n",
              "4     [0.05207689523959176, 0.05074421579377466, 0, ...  ...                   0\n",
              "...                                                 ...  ...                 ...\n",
              "5700  [0.105862873369871, 0.0772429859700645, 0, -0....  ...                   1\n",
              "5701  [-0.15142198119170702, 0.07270590705969145, 0....  ...                   0\n",
              "5702  [-0.1877366164779535, -0.13213123072994815, -0...  ...                   0\n",
              "5703  [0.07404354906765186, 0.0915378098629264, 0, 0...  ...                   1\n",
              "5704  [0, -0.08970175621750892, 0.048757978531943566...  ...                   1\n",
              "\n",
              "[5705 rows x 6 columns]"
            ]
          },
          "metadata": {
            "tags": []
          },
          "execution_count": 24
        }
      ]
    },
    {
      "cell_type": "markdown",
      "metadata": {
        "id": "lCRq4S_bzmzt",
        "colab_type": "text"
      },
      "source": [
        "8. Create the confusion matrix, comparing base truths with the predicted ones"
      ]
    },
    {
      "cell_type": "code",
      "metadata": {
        "id": "EFqjwqvYQS4R",
        "colab_type": "code",
        "outputId": "d2d2d686-f74c-4750-a9e9-253b3114b8c5",
        "colab": {
          "base_uri": "https://localhost:8080/",
          "height": 344
        }
      },
      "source": [
        "predicted_classes = replacement_df.predicted_sentiment\n",
        "y_test = replacement_df.true_sentiment\n",
        "\n",
        "conf_matrix = pd.DataFrame(confusion_matrix(replacement_df.true_sentiment, replacement_df.predicted_sentiment))\n",
        "print('Confusion Matrix')\n",
        "display(conf_matrix)\n",
        "\n",
        "test_scores = accuracy_score(y_test,predicted_classes), precision_score(y_test, predicted_classes), recall_score(y_test, predicted_classes), f1_score(y_test, predicted_classes)\n",
        "\n",
        "print('\\n \\n Scores')\n",
        "scores = pd.DataFrame(data=[test_scores])\n",
        "scores.columns = ['accuracy', 'precision', 'recall', 'f1']\n",
        "scores = scores.T\n",
        "scores.columns = ['scores']\n",
        "display(scores)"
      ],
      "execution_count": 25,
      "outputs": [
        {
          "output_type": "stream",
          "text": [
            "Confusion Matrix\n"
          ],
          "name": "stdout"
        },
        {
          "output_type": "display_data",
          "data": {
            "text/html": [
              "<div>\n",
              "<style scoped>\n",
              "    .dataframe tbody tr th:only-of-type {\n",
              "        vertical-align: middle;\n",
              "    }\n",
              "\n",
              "    .dataframe tbody tr th {\n",
              "        vertical-align: top;\n",
              "    }\n",
              "\n",
              "    .dataframe thead th {\n",
              "        text-align: right;\n",
              "    }\n",
              "</style>\n",
              "<table border=\"1\" class=\"dataframe\">\n",
              "  <thead>\n",
              "    <tr style=\"text-align: right;\">\n",
              "      <th></th>\n",
              "      <th>0</th>\n",
              "      <th>1</th>\n",
              "    </tr>\n",
              "  </thead>\n",
              "  <tbody>\n",
              "    <tr>\n",
              "      <th>0</th>\n",
              "      <td>920</td>\n",
              "      <td>2028</td>\n",
              "    </tr>\n",
              "    <tr>\n",
              "      <th>1</th>\n",
              "      <td>857</td>\n",
              "      <td>1900</td>\n",
              "    </tr>\n",
              "  </tbody>\n",
              "</table>\n",
              "</div>"
            ],
            "text/plain": [
              "     0     1\n",
              "0  920  2028\n",
              "1  857  1900"
            ]
          },
          "metadata": {
            "tags": []
          }
        },
        {
          "output_type": "stream",
          "text": [
            "\n",
            " \n",
            " Scores\n"
          ],
          "name": "stdout"
        },
        {
          "output_type": "display_data",
          "data": {
            "text/html": [
              "<div>\n",
              "<style scoped>\n",
              "    .dataframe tbody tr th:only-of-type {\n",
              "        vertical-align: middle;\n",
              "    }\n",
              "\n",
              "    .dataframe tbody tr th {\n",
              "        vertical-align: top;\n",
              "    }\n",
              "\n",
              "    .dataframe thead th {\n",
              "        text-align: right;\n",
              "    }\n",
              "</style>\n",
              "<table border=\"1\" class=\"dataframe\">\n",
              "  <thead>\n",
              "    <tr style=\"text-align: right;\">\n",
              "      <th></th>\n",
              "      <th>scores</th>\n",
              "    </tr>\n",
              "  </thead>\n",
              "  <tbody>\n",
              "    <tr>\n",
              "      <th>accuracy</th>\n",
              "      <td>0.494303</td>\n",
              "    </tr>\n",
              "    <tr>\n",
              "      <th>precision</th>\n",
              "      <td>0.483707</td>\n",
              "    </tr>\n",
              "    <tr>\n",
              "      <th>recall</th>\n",
              "      <td>0.689155</td>\n",
              "    </tr>\n",
              "    <tr>\n",
              "      <th>f1</th>\n",
              "      <td>0.568437</td>\n",
              "    </tr>\n",
              "  </tbody>\n",
              "</table>\n",
              "</div>"
            ],
            "text/plain": [
              "             scores\n",
              "accuracy   0.494303\n",
              "precision  0.483707\n",
              "recall     0.689155\n",
              "f1         0.568437"
            ]
          },
          "metadata": {
            "tags": []
          }
        }
      ]
    }
  ]
}