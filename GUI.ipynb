{
 "cells": [
  {
   "cell_type": "markdown",
   "metadata": {},
   "source": [
    "## GUI Application\n",
    "### Please install `ipywidgets` and `sklearn` before running this file\n",
    "With conda:\n",
    "```shell\n",
    "conda install -c conda-forge ipywidgets for 'ipywidgets'\n",
    "conda install scikit-learn for 'sklearn'\n",
    "\n",
    "```\n"
   ]
  },
  {
   "cell_type": "code",
   "execution_count": 13,
   "metadata": {},
   "outputs": [],
   "source": [
    "from ipywidgets import *\n",
    "import joblib\n",
    "import pandas as pd\n",
    "from sklearn.linear_model import LogisticRegression as lg\n",
    "from sklearn.ensemble import RandomForestClassifier\n",
    "from sklearn.datasets import make_classification\n",
    "from sklearn.datasets import load_iris\n",
    "from sklearn.naive_bayes import GaussianNB\n",
    "from sklearn.neural_network import MLPClassifier"
   ]
  },
  {
   "cell_type": "markdown",
   "metadata": {},
   "source": [
    "# Set GUI Components"
   ]
  },
  {
   "cell_type": "code",
   "execution_count": 14,
   "metadata": {},
   "outputs": [],
   "source": [
    "boolean_vars = ['Side', 'Traffic_Signal', 'Civil_Twilight',\n",
    "       'Nautical_Twilight']\n",
    "des_for_bool = ['Shows the relative side of the street (Right/Left) in address field.','A POI annotation which indicates presence of traffic_signal in a nearby location.','Shows the period of day (i.e. day or night) based on civil twilight.','Shows the period of day (i.e. day or night) based on nautical twilight.']\n",
    "def form_bool(x):\n",
    "    if x == True:\n",
    "        return 1\n",
    "    else: return -1\n",
    "\n",
    "\n",
    "layout = Layout(border='0.5px solid black',width='400px',height='30')\n",
    "layout1 = Layout(border='0.5px solid black',width='150px',height='30')\n",
    "style = {'description_width': 'initial'}\n",
    "\n",
    "# create object for variables\n",
    "var1 = Dropdown(options = [201.0, 241.0, 245.0, 203.0, 244.0, 343.0, 406.0, 246.0, 229.0, 222.0, 202.0, 247.0, 206.0, 236.0, 339.0, 341.0, 248.0, 336.0,239.0, 200.0, 351.0], \n",
    "                description = 'TMC:', \n",
    "                description_tooltip = 'A traffic accident may have a Traffic Message Channel (TMC) code which provides more detailed description of the event.',\n",
    "                layout=layout1, style = style)\n",
    "\n",
    "var2 = FloatSlider(value = 0,min = 0, max = 200, step = 0.1, description = 'Distance(mi):', \n",
    "                   description_tooltip ='The length of the road extent affected by the accident.',\n",
    "                   orientation='horizontal',layout=layout, style = style)\n",
    "\n",
    "var3 = FloatSlider(value = 0,min = -150, max = 150, step = 0.1, description = 'Wind_Chill(F):', \n",
    "                   description_tooltip ='The wind chill (in Fahrenheit) ',\n",
    "                   orientation='horizontal',layout=layout, style = style)\n",
    "\n",
    "var4 = FloatSlider(value = 0,min = 0, max = 100, step = 0.1, description = 'Humidity(%):', \n",
    "                   description_tooltip ='The humidity (in percentage)',\n",
    "                   orientation='horizontal',layout=layout, style = style)\n",
    "\n",
    "var5 = FloatSlider(value = 0,min = 0, max = 100, step = 0.1, description = 'Visibility(mi):', \n",
    "                   description_tooltip ='The visibility (in miles)',\n",
    "                   orientation='horizontal',layout=layout, style = style)\n",
    "\n",
    "var6 = FloatSlider(value = 0,min = 0, max = 350, step = 0.1, description = 'Wind_Speed(mph):', \n",
    "                   description_tooltip ='The wind speed (in miles per hour)',\n",
    "                   orientation='horizontal',layout=layout, style = style)\n",
    "\n",
    "boolean_vars = ['Side', 'Traffic_Signal', 'Civil_Twilight',\n",
    "       'Nautical_Twilight']\n",
    "des_for_bool = ['Shows the relative side of the street (Right/Left) in address field.','A POI annotation which indicates presence of traffic_signal in a nearby location.','Shows the period of day (i.e. day or night) based on civil twilight.','Shows the period of day (i.e. day or night) based on nautical twilight.']\n",
    "bool_vs = [Checkbox(value=False, description=boolean_vars[i],disabled=False,\n",
    "                    layout=layout1, style = style,tooltip =des_for_bool[i]) for i in range(len(boolean_vars))]\n",
    "\n",
    "# all_vars = [var1,var2,var3,var4,var5,var6]\n",
    "\n",
    "# for i in bool_vs:\n",
    "#     all_vars.append(i)\n",
    "    \n",
    "# create object for user to select model\n",
    "model_names = {'Logistic_Regression': 'lg_.pkl','Logistic_Regression_scaled': 'lg_scaled.pkl','Random_Forest': 'rf.pkl','Random_Forest_scaled': 'rf_scaled.pkl', \n",
    "               'Naive_Bayes_Classifier_scaled': 'gnb_scaled.pkl', 'Neural_Networks': 'NN.pkl', 'Neural_Networks_scaled': 'NN_scale.pkl','Decision_Tree': 'dt.pkl','Decision_Tree_scaled': 'dt_scaled.pkl'}\n",
    "mod = Dropdown(options = ['Logistic_Regression 72.35%','Logistic_Regression_scaled 72.23%','Random_Forest 69.95%', 'Random_Forest_scaled 70.03%', \n",
    "                          'Naive_Bayes_Classifier_scaled 69.86%','Neural_Networks 68.70%','Neural_Networks_scaled 68.66%','Decision_Tree 73.07%', 'Decision_Tree_scaled 72.92%'], description = 'Model:',\n",
    "               description_tooltip = 'The machine learning model with its accuracy.',\n",
    "               layout=Layout(border='0.5px solid black',height='30'))\n",
    "\n",
    "# buttom\n",
    "btn = Button(description='Predict',disabled=False, icon = 'car', tooltip = 'Click me',\n",
    "             description_tooltip = 'Click me.',\n",
    "             layout=Layout(justify_content='center', border='1px solid black',margin='0 0 0 150px'))\n",
    "\n",
    "# buttom function\n",
    "def on_button_clicked(b):\n",
    "    predicted_class = []\n",
    "    test = {'TMC': var1.value, 'Distance(mi)': var2.value,'Side':form_bool(bool_vs[0].value), 'Wind_Chill(F)': var3.value, 'Humidity(%)': var4.value, \n",
    "                'Visibility(mi)': var5.value, 'Wind_Speed(mph)': var6.value, 'Traffic_Signal': form_bool(bool_vs[1].value),\n",
    "                'Civil_Twilight': form_bool(bool_vs[2].value), 'Nautical_Twilight': form_bool(bool_vs[3].value)}\n",
    "    test_x = pd.DataFrame(test,index=[i for i in range(11)])\n",
    "    for key in model_names:\n",
    "        s1.value, s2.value,s3.value,s4.value = 0,0,0,0 # initial the prediction\n",
    "        if mod.value.split(' ')[0] == key:\n",
    "            model_n = model_names[key]\n",
    "            model = joblib.load('save/' + model_n) # Load models\n",
    "            predicted_class = model.predict(test_x) # predict\n",
    "            # print('According to the data and the model you selected, the predicted Severity is ', predicted_class[0])\n",
    "    if predicted_class[0] == 1:\n",
    "        s1.value = 1\n",
    "    elif predicted_class[0] == 2:\n",
    "        s2.value = 1\n",
    "    elif predicted_class[0] == 3:\n",
    "        s3.value = 1\n",
    "    else:\n",
    "        s4.value = 1\n",
    "btn.on_click(on_button_clicked)"
   ]
  },
  {
   "cell_type": "markdown",
   "metadata": {},
   "source": [
    "# Complete GUI"
   ]
  },
  {
   "cell_type": "code",
   "execution_count": 15,
   "metadata": {
    "scrolled": false
   },
   "outputs": [
    {
     "data": {
      "application/vnd.jupyter.widget-view+json": {
       "model_id": "bef68506e8a3475a988959a41a3e8e61",
       "version_major": 2,
       "version_minor": 0
      },
      "text/plain": [
       "AppLayout(children=(HTML(value=\"<h2 class = 'text-center'><img src='images/car-aci.png' style= 'width:50px;hei…"
      ]
     },
     "metadata": {},
     "output_type": "display_data"
    }
   ],
   "source": [
    "# header\n",
    "h1 = HTML(\"<h2 class = 'text-center'><img src='images/car-aci.png' style= 'width:50px;height:50px'' >Car Accident Severity Prediction<h2><i class='car-crash'></i>\")\n",
    "h2 = HTML(\"<h4 class = 'text-left'>Please fill the accident details below:<h4>\")\n",
    "h3 = HTML(\"<h4 class = 'text-left'>Predicted Severity:<h4>\")\n",
    "header = h1\n",
    "\n",
    "# left\n",
    "line1 = HBox([var2,bool_vs[0]])\n",
    "line2 = HBox([var3,bool_vs[1]])\n",
    "line3 = HBox([var4,bool_vs[2]])\n",
    "line4 = HBox([var5,bool_vs[3]])\n",
    "line5 = HBox([var6,var1])\n",
    "\n",
    "left = VBox([h2,line1,line2,line3,line4,line5])\n",
    "\n",
    "# right_side\n",
    "bar_style =  ['success', 'info', 'warning', 'danger', '']  \n",
    "s1 = IntProgress(description='Severity 1', max = 1, value=1,bar_style = bar_style[0])\n",
    "s2 = IntProgress(description='Severity 2', max = 1, value=0,bar_style = bar_style[1])\n",
    "s3 = IntProgress(description='Severity 3', max = 1, value=0,bar_style = bar_style[2])\n",
    "s4 = IntProgress(description='Severity 4', max = 1, value=0,bar_style = bar_style[3])\n",
    "\n",
    "right_side = VBox([h3,mod,s1,s2,s3,s4,btn])\n",
    "\n",
    "# footer\n",
    "footer = HTML(\"<h4 class = 'text-left'><p>*** Check Boxes Descriptions:</p><h4><h5><p><b>Side:&nbsp;</b> Shows the relative side of the street (Right/Left) in address field.</p><p><b>Traffic_Signal:&nbsp;</b> A POI annotation which indicates presence of traffic_signal in a nearby location.</p><p><b>Civil_Twilight:&nbsp;</b> Shows the period of day (i.e. day or night) based on civil twilight.</p><p><b>Nautical_Twilight:&nbsp;</b> Shows the period of day (i.e. day or night) based on nautical twilight.</p><h5>\")\n",
    "\n",
    "AppLayout(header=header,\n",
    "          left_sidebar=left,\n",
    "          center=None,\n",
    "          right_sidebar=right_side,\n",
    "          footer=footer,\n",
    "          pane_widths=[3, 2, 2],\n",
    "          pane_heights=[1, 2, 1]\n",
    "         )"
   ]
  },
  {
   "cell_type": "code",
   "execution_count": null,
   "metadata": {},
   "outputs": [],
   "source": []
  },
  {
   "cell_type": "code",
   "execution_count": null,
   "metadata": {},
   "outputs": [],
   "source": []
  }
 ],
 "metadata": {
  "kernelspec": {
   "display_name": "Python 3",
   "language": "python",
   "name": "python3"
  },
  "language_info": {
   "codemirror_mode": {
    "name": "ipython",
    "version": 3
   },
   "file_extension": ".py",
   "mimetype": "text/x-python",
   "name": "python",
   "nbconvert_exporter": "python",
   "pygments_lexer": "ipython3",
   "version": "3.7.3"
  },
  "nbTranslate": {
   "displayLangs": [
    "*"
   ],
   "hotkey": "alt-t",
   "langInMainMenu": true,
   "sourceLang": "en",
   "targetLang": "fr",
   "useGoogleTranslate": true
  },
  "varInspector": {
   "cols": {
    "lenName": 16,
    "lenType": 16,
    "lenVar": 40
   },
   "kernels_config": {
    "python": {
     "delete_cmd_postfix": "",
     "delete_cmd_prefix": "del ",
     "library": "var_list.py",
     "varRefreshCmd": "print(var_dic_list())"
    },
    "r": {
     "delete_cmd_postfix": ") ",
     "delete_cmd_prefix": "rm(",
     "library": "var_list.r",
     "varRefreshCmd": "cat(var_dic_list()) "
    }
   },
   "types_to_exclude": [
    "module",
    "function",
    "builtin_function_or_method",
    "instance",
    "_Feature"
   ],
   "window_display": false
  }
 },
 "nbformat": 4,
 "nbformat_minor": 2
}
