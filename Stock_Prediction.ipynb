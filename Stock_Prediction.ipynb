{
 "cells": [
  {
   "cell_type": "code",
   "execution_count": 52,
   "metadata": {},
   "outputs": [],
   "source": [
    "#import libraries\n",
    "import pandas as pd\n",
    "import matplotlib.pyplot as plt\n",
    "import numpy as np\n",
    "import seaborn as sns\n",
    "import warnings\n",
    "import datetime\n",
    "import time\n",
    "from matplotlib import rcParams\n",
    "from statsmodels.graphics.tsaplots import plot_acf,plot_pacf\n",
    "from statsmodels.tsa.stattools import adfuller\n",
    "import tensorflow as tf\n",
    "from statsmodels.tsa.arima_model import ARIMA\n",
    "from pandas import DataFrame\n",
    "from matplotlib import pyplot\n",
    "from keras.models import Sequential\n",
    "from keras.layers import Dense,LSTM\n",
    "from sklearn.preprocessing import MinMaxScaler\n",
    "from keras.layers import Dropout\n",
    "import xgboost as xgb\n",
    "\n",
    "# to install sklearn: pip install -U scikit-learn\n",
    "from sklearn.ensemble import RandomForestRegressor\n",
    "from sklearn.metrics import mean_squared_error\n",
    "from sklearn.metrics import mean_absolute_error"
   ]
  },
  {
   "cell_type": "code",
   "execution_count": 53,
   "metadata": {},
   "outputs": [],
   "source": [
    "all_stocks = pd.read_csv(\"./data/all_stocks_2006-01-01_to_2018-01-01.csv\",parse_dates = [\"Date\"])"
   ]
  },
  {
   "cell_type": "code",
   "execution_count": 54,
   "metadata": {},
   "outputs": [
    {
     "data": {
      "text/html": [
       "<div>\n",
       "<style scoped>\n",
       "    .dataframe tbody tr th:only-of-type {\n",
       "        vertical-align: middle;\n",
       "    }\n",
       "\n",
       "    .dataframe tbody tr th {\n",
       "        vertical-align: top;\n",
       "    }\n",
       "\n",
       "    .dataframe thead th {\n",
       "        text-align: right;\n",
       "    }\n",
       "</style>\n",
       "<table border=\"1\" class=\"dataframe\">\n",
       "  <thead>\n",
       "    <tr style=\"text-align: right;\">\n",
       "      <th></th>\n",
       "      <th>Date</th>\n",
       "      <th>Open</th>\n",
       "      <th>High</th>\n",
       "      <th>Low</th>\n",
       "      <th>Close</th>\n",
       "      <th>Volume</th>\n",
       "      <th>Name</th>\n",
       "    </tr>\n",
       "  </thead>\n",
       "  <tbody>\n",
       "    <tr>\n",
       "      <th>0</th>\n",
       "      <td>2006-01-03</td>\n",
       "      <td>77.76</td>\n",
       "      <td>79.35</td>\n",
       "      <td>77.24</td>\n",
       "      <td>79.11</td>\n",
       "      <td>3117200</td>\n",
       "      <td>MMM</td>\n",
       "    </tr>\n",
       "    <tr>\n",
       "      <th>1</th>\n",
       "      <td>2006-01-04</td>\n",
       "      <td>79.49</td>\n",
       "      <td>79.49</td>\n",
       "      <td>78.25</td>\n",
       "      <td>78.71</td>\n",
       "      <td>2558000</td>\n",
       "      <td>MMM</td>\n",
       "    </tr>\n",
       "    <tr>\n",
       "      <th>2</th>\n",
       "      <td>2006-01-05</td>\n",
       "      <td>78.41</td>\n",
       "      <td>78.65</td>\n",
       "      <td>77.56</td>\n",
       "      <td>77.99</td>\n",
       "      <td>2529500</td>\n",
       "      <td>MMM</td>\n",
       "    </tr>\n",
       "    <tr>\n",
       "      <th>3</th>\n",
       "      <td>2006-01-06</td>\n",
       "      <td>78.64</td>\n",
       "      <td>78.90</td>\n",
       "      <td>77.64</td>\n",
       "      <td>78.63</td>\n",
       "      <td>2479500</td>\n",
       "      <td>MMM</td>\n",
       "    </tr>\n",
       "    <tr>\n",
       "      <th>4</th>\n",
       "      <td>2006-01-09</td>\n",
       "      <td>78.50</td>\n",
       "      <td>79.83</td>\n",
       "      <td>78.46</td>\n",
       "      <td>79.02</td>\n",
       "      <td>1845600</td>\n",
       "      <td>MMM</td>\n",
       "    </tr>\n",
       "  </tbody>\n",
       "</table>\n",
       "</div>"
      ],
      "text/plain": [
       "        Date   Open   High    Low  Close   Volume Name\n",
       "0 2006-01-03  77.76  79.35  77.24  79.11  3117200  MMM\n",
       "1 2006-01-04  79.49  79.49  78.25  78.71  2558000  MMM\n",
       "2 2006-01-05  78.41  78.65  77.56  77.99  2529500  MMM\n",
       "3 2006-01-06  78.64  78.90  77.64  78.63  2479500  MMM\n",
       "4 2006-01-09  78.50  79.83  78.46  79.02  1845600  MMM"
      ]
     },
     "execution_count": 54,
     "metadata": {},
     "output_type": "execute_result"
    }
   ],
   "source": [
    "all_stocks.head()"
   ]
  },
  {
   "cell_type": "markdown",
   "metadata": {},
   "source": [
    "#Data Cleaning: \n",
    "1.Outlier Check\n",
    "2.Fill missing values"
   ]
  },
  {
   "cell_type": "code",
   "execution_count": 55,
   "metadata": {},
   "outputs": [
    {
     "data": {
      "image/png": "[encoded data removed]",
      "text/plain": [
       "<Figure size 432x288 with 1 Axes>"
      ]
     },
     "metadata": {
      "needs_background": "light"
     },
     "output_type": "display_data"
    }
   ],
   "source": [
    "sns.boxplot(y=\"Open\",data=all_stocks)\n",
    "plt.title(\"Open Price\")\n",
    "plt.show()\n"
   ]
  },
  {
   "cell_type": "code",
   "execution_count": 56,
   "metadata": {},
   "outputs": [
    {
     "data": {
      "image/png": "[encoded data removed]",
      "text/plain": [
       "<Figure size 432x288 with 1 Axes>"
      ]
     },
     "metadata": {
      "needs_background": "light"
     },
     "output_type": "display_data"
    }
   ],
   "source": [
    "sns.boxplot(y=\"Close\",data=all_stocks)\n",
    "plt.title(\"Close Price\")\n",
    "plt.show()"
   ]
  },
  {
   "cell_type": "code",
   "execution_count": 57,
   "metadata": {},
   "outputs": [
    {
     "data": {
      "image/png": "[encoded data removed]",
      "text/plain": [
       "<Figure size 432x288 with 1 Axes>"
      ]
     },
     "metadata": {
      "needs_background": "light"
     },
     "output_type": "display_data"
    }
   ],
   "source": [
    "sns.boxplot(y=\"Low\",data=all_stocks)\n",
    "plt.title(\"Low Price\")\n",
    "plt.show()"
   ]
  },
  {
   "cell_type": "code",
   "execution_count": 58,
   "metadata": {},
   "outputs": [
    {
     "data": {
      "image/png": "[encoded data removed]",
      "text/plain": [
       "<Figure size 432x288 with 1 Axes>"
      ]
     },
     "metadata": {
      "needs_background": "light"
     },
     "output_type": "display_data"
    }
   ],
   "source": [
    "sns.boxplot(y=\"High\",data=all_stocks)\n",
    "plt.title(\"High Price\")\n",
    "plt.show()"
   ]
  },
  {
   "cell_type": "code",
   "execution_count": 59,
   "metadata": {},
   "outputs": [
    {
     "name": "stdout",
     "output_type": "stream",
     "text": [
      "0 percentile value is 6.75\n",
      "10 percentile value is 22.91\n",
      "20 percentile value is 30.04\n",
      "30 percentile value is 37.8\n",
      "40 percentile value is 48.78\n",
      "50 percentile value is 60.05\n",
      "60 percentile value is 72.46\n",
      "70 percentile value is 85.84\n",
      "80 percentile value is 106.06\n",
      "90 percentile value is 157.23\n",
      "100 percentile values is  nan\n"
     ]
    }
   ],
   "source": [
    "for i in range(0,100,10):\n",
    "    var = all_stocks['Open'].values\n",
    "    var = np.sort(var,axis=None)\n",
    "    print(\"{} percentile value is {}\".format(i,var[int(len(var)*float(i)/100)]))\n",
    "print(\"100 percentile values is \",var[-1])"
   ]
  },
  {
   "cell_type": "code",
   "execution_count": 60,
   "metadata": {},
   "outputs": [
    {
     "name": "stdout",
     "output_type": "stream",
     "text": [
      "90 percentile value is 157.23\n",
      "91 percentile value is 164.1\n",
      "92 percentile value is 173.27\n",
      "93 percentile value is 184.37\n",
      "94 percentile value is 195.5\n",
      "95 percentile value is 215.63\n",
      "96 percentile value is 245.53\n",
      "97 percentile value is 296.72\n",
      "98 percentile value is 423.82\n",
      "99 percentile value is 715.9\n",
      "100 percentile values is  nan\n"
     ]
    }
   ],
   "source": [
    "for i in range(90,100,1):\n",
    "    var = all_stocks['Open'].values\n",
    "    var = np.sort(var,axis=None)\n",
    "    print(\"{} percentile value is {}\".format(i,var[int(len(var)*float(i)/100)]))\n",
    "print(\"100 percentile values is \",var[-1])"
   ]
  },
  {
   "cell_type": "code",
   "execution_count": 61,
   "metadata": {},
   "outputs": [
    {
     "data": {
      "text/html": [
       "<div>\n",
       "<style scoped>\n",
       "    .dataframe tbody tr th:only-of-type {\n",
       "        vertical-align: middle;\n",
       "    }\n",
       "\n",
       "    .dataframe tbody tr th {\n",
       "        vertical-align: top;\n",
       "    }\n",
       "\n",
       "    .dataframe thead th {\n",
       "        text-align: right;\n",
       "    }\n",
       "</style>\n",
       "<table border=\"1\" class=\"dataframe\">\n",
       "  <thead>\n",
       "    <tr style=\"text-align: right;\">\n",
       "      <th></th>\n",
       "      <th>Date</th>\n",
       "      <th>Open</th>\n",
       "      <th>High</th>\n",
       "      <th>Low</th>\n",
       "      <th>Close</th>\n",
       "      <th>Volume</th>\n",
       "      <th>Name</th>\n",
       "    </tr>\n",
       "  </thead>\n",
       "  <tbody>\n",
       "    <tr>\n",
       "      <th>90569</th>\n",
       "      <td>2017-11-27</td>\n",
       "      <td>1202.66</td>\n",
       "      <td>1213.41</td>\n",
       "      <td>1191.15</td>\n",
       "      <td>1195.83</td>\n",
       "      <td>6744045</td>\n",
       "      <td>AMZN</td>\n",
       "    </tr>\n",
       "    <tr>\n",
       "      <th>90570</th>\n",
       "      <td>2017-11-28</td>\n",
       "      <td>1204.88</td>\n",
       "      <td>1205.34</td>\n",
       "      <td>1188.52</td>\n",
       "      <td>1193.60</td>\n",
       "      <td>4559449</td>\n",
       "      <td>AMZN</td>\n",
       "    </tr>\n",
       "  </tbody>\n",
       "</table>\n",
       "</div>"
      ],
      "text/plain": [
       "            Date     Open     High      Low    Close   Volume  Name\n",
       "90569 2017-11-27  1202.66  1213.41  1191.15  1195.83  6744045  AMZN\n",
       "90570 2017-11-28  1204.88  1205.34  1188.52  1193.60  4559449  AMZN"
      ]
     },
     "execution_count": 61,
     "metadata": {},
     "output_type": "execute_result"
    }
   ],
   "source": [
    "all_stocks[all_stocks['Open']>1200]"
   ]
  },
  {
   "cell_type": "code",
   "execution_count": 62,
   "metadata": {},
   "outputs": [
    {
     "name": "stdout",
     "output_type": "stream",
     "text": [
      "0 percentile value is 6.66\n",
      "10 percentile value is 22.9\n",
      "20 percentile value is 30.04\n",
      "30 percentile value is 37.8\n",
      "40 percentile value is 48.78\n",
      "50 percentile value is 60.05\n",
      "60 percentile value is 72.49\n",
      "70 percentile value is 85.85\n",
      "80 percentile value is 106.07\n",
      "90 percentile value is 157.06\n",
      "100 percentile values is  1195.83\n"
     ]
    }
   ],
   "source": [
    "for i in range(0,100,10):\n",
    "    var = all_stocks['Close'].values\n",
    "    var = np.sort(var,axis=None)\n",
    "    print(\"{} percentile value is {}\".format(i,var[int(len(var)*float(i)/100)]))\n",
    "print(\"100 percentile values is \",var[-1])"
   ]
  },
  {
   "cell_type": "code",
   "execution_count": 63,
   "metadata": {},
   "outputs": [
    {
     "name": "stdout",
     "output_type": "stream",
     "text": [
      "0 percentile value is 7.17\n",
      "10 percentile value is 23.21\n",
      "20 percentile value is 30.35\n",
      "30 percentile value is 38.18\n",
      "40 percentile value is 49.28\n",
      "50 percentile value is 60.64\n",
      "60 percentile value is 73.18\n",
      "70 percentile value is 86.55\n",
      "80 percentile value is 106.87\n",
      "90 percentile value is 158.47\n",
      "100 percentile values is  nan\n"
     ]
    }
   ],
   "source": [
    "for i in range(0,100,10):\n",
    "    var = all_stocks['High'].values\n",
    "    var = np.sort(var,axis=None)\n",
    "    print(\"{} percentile value is {}\".format(i,var[int(len(var)*float(i)/100)]))\n",
    "print(\"100 percentile values is \",var[-1])"
   ]
  },
  {
   "cell_type": "code",
   "execution_count": 64,
   "metadata": {},
   "outputs": [
    {
     "name": "stdout",
     "output_type": "stream",
     "text": [
      "0 percentile value is 0.0\n",
      "10 percentile value is 22.59\n",
      "20 percentile value is 29.74\n",
      "30 percentile value is 37.4\n",
      "40 percentile value is 48.26\n",
      "50 percentile value is 59.5\n",
      "60 percentile value is 71.78\n",
      "70 percentile value is 85.05\n",
      "80 percentile value is 105.18\n",
      "90 percentile value is 155.93\n",
      "100 percentile values is  nan\n"
     ]
    }
   ],
   "source": [
    "for i in range(0,100,10):\n",
    "    var = all_stocks['Low'].values\n",
    "    var = np.sort(var,axis=None)\n",
    "    print(\"{} percentile value is {}\".format(i,var[int(len(var)*float(i)/100)]))\n",
    "print(\"100 percentile values is \",var[-1])"
   ]
  },
  {
   "cell_type": "code",
   "execution_count": 65,
   "metadata": {},
   "outputs": [
    {
     "data": {
      "text/plain": [
       "Date       0\n",
       "Open      25\n",
       "High      10\n",
       "Low       20\n",
       "Close      0\n",
       "Volume     0\n",
       "Name       0\n",
       "dtype: int64"
      ]
     },
     "execution_count": 65,
     "metadata": {},
     "output_type": "execute_result"
    }
   ],
   "source": [
    "all_stocks.isnull().sum()"
   ]
  },
  {
   "cell_type": "code",
   "execution_count": 66,
   "metadata": {},
   "outputs": [
    {
     "data": {
      "text/html": [
       "<div>\n",
       "<style scoped>\n",
       "    .dataframe tbody tr th:only-of-type {\n",
       "        vertical-align: middle;\n",
       "    }\n",
       "\n",
       "    .dataframe tbody tr th {\n",
       "        vertical-align: top;\n",
       "    }\n",
       "\n",
       "    .dataframe thead th {\n",
       "        text-align: right;\n",
       "    }\n",
       "</style>\n",
       "<table border=\"1\" class=\"dataframe\">\n",
       "  <thead>\n",
       "    <tr style=\"text-align: right;\">\n",
       "      <th></th>\n",
       "      <th>Date</th>\n",
       "      <th>Open</th>\n",
       "      <th>High</th>\n",
       "      <th>Low</th>\n",
       "      <th>Close</th>\n",
       "      <th>Volume</th>\n",
       "      <th>Name</th>\n",
       "    </tr>\n",
       "  </thead>\n",
       "  <tbody>\n",
       "    <tr>\n",
       "      <th>2913</th>\n",
       "      <td>2017-07-31</td>\n",
       "      <td>NaN</td>\n",
       "      <td>201.66</td>\n",
       "      <td>NaN</td>\n",
       "      <td>201.17</td>\n",
       "      <td>1833625</td>\n",
       "      <td>MMM</td>\n",
       "    </tr>\n",
       "    <tr>\n",
       "      <th>5933</th>\n",
       "      <td>2017-07-31</td>\n",
       "      <td>NaN</td>\n",
       "      <td>85.70</td>\n",
       "      <td>NaN</td>\n",
       "      <td>85.23</td>\n",
       "      <td>3079797</td>\n",
       "      <td>AXP</td>\n",
       "    </tr>\n",
       "    <tr>\n",
       "      <th>11972</th>\n",
       "      <td>2017-07-31</td>\n",
       "      <td>NaN</td>\n",
       "      <td>NaN</td>\n",
       "      <td>NaN</td>\n",
       "      <td>242.46</td>\n",
       "      <td>5777271</td>\n",
       "      <td>BA</td>\n",
       "    </tr>\n",
       "    <tr>\n",
       "      <th>14992</th>\n",
       "      <td>2017-07-31</td>\n",
       "      <td>NaN</td>\n",
       "      <td>NaN</td>\n",
       "      <td>NaN</td>\n",
       "      <td>113.95</td>\n",
       "      <td>4486013</td>\n",
       "      <td>CAT</td>\n",
       "    </tr>\n",
       "    <tr>\n",
       "      <th>18012</th>\n",
       "      <td>2017-07-31</td>\n",
       "      <td>NaN</td>\n",
       "      <td>110.00</td>\n",
       "      <td>NaN</td>\n",
       "      <td>109.19</td>\n",
       "      <td>7561205</td>\n",
       "      <td>CVX</td>\n",
       "    </tr>\n",
       "    <tr>\n",
       "      <th>24051</th>\n",
       "      <td>2017-07-31</td>\n",
       "      <td>NaN</td>\n",
       "      <td>NaN</td>\n",
       "      <td>45.79</td>\n",
       "      <td>45.84</td>\n",
       "      <td>13622891</td>\n",
       "      <td>KO</td>\n",
       "    </tr>\n",
       "    <tr>\n",
       "      <th>25815</th>\n",
       "      <td>2012-08-01</td>\n",
       "      <td>NaN</td>\n",
       "      <td>NaN</td>\n",
       "      <td>NaN</td>\n",
       "      <td>49.14</td>\n",
       "      <td>0</td>\n",
       "      <td>DIS</td>\n",
       "    </tr>\n",
       "    <tr>\n",
       "      <th>27071</th>\n",
       "      <td>2017-07-31</td>\n",
       "      <td>NaN</td>\n",
       "      <td>110.14</td>\n",
       "      <td>NaN</td>\n",
       "      <td>109.93</td>\n",
       "      <td>6815349</td>\n",
       "      <td>DIS</td>\n",
       "    </tr>\n",
       "    <tr>\n",
       "      <th>30091</th>\n",
       "      <td>2017-07-31</td>\n",
       "      <td>NaN</td>\n",
       "      <td>80.39</td>\n",
       "      <td>NaN</td>\n",
       "      <td>80.04</td>\n",
       "      <td>12820175</td>\n",
       "      <td>XOM</td>\n",
       "    </tr>\n",
       "    <tr>\n",
       "      <th>33111</th>\n",
       "      <td>2017-07-31</td>\n",
       "      <td>NaN</td>\n",
       "      <td>25.69</td>\n",
       "      <td>NaN</td>\n",
       "      <td>25.61</td>\n",
       "      <td>30616287</td>\n",
       "      <td>GE</td>\n",
       "    </tr>\n",
       "    <tr>\n",
       "      <th>36131</th>\n",
       "      <td>2017-07-31</td>\n",
       "      <td>NaN</td>\n",
       "      <td>225.50</td>\n",
       "      <td>NaN</td>\n",
       "      <td>225.33</td>\n",
       "      <td>1999637</td>\n",
       "      <td>GS</td>\n",
       "    </tr>\n",
       "    <tr>\n",
       "      <th>39151</th>\n",
       "      <td>2017-07-31</td>\n",
       "      <td>NaN</td>\n",
       "      <td>149.98</td>\n",
       "      <td>NaN</td>\n",
       "      <td>149.60</td>\n",
       "      <td>5253318</td>\n",
       "      <td>HD</td>\n",
       "    </tr>\n",
       "    <tr>\n",
       "      <th>42171</th>\n",
       "      <td>2017-07-31</td>\n",
       "      <td>NaN</td>\n",
       "      <td>144.93</td>\n",
       "      <td>NaN</td>\n",
       "      <td>144.67</td>\n",
       "      <td>4355718</td>\n",
       "      <td>IBM</td>\n",
       "    </tr>\n",
       "    <tr>\n",
       "      <th>48210</th>\n",
       "      <td>2017-07-31</td>\n",
       "      <td>NaN</td>\n",
       "      <td>133.58</td>\n",
       "      <td>NaN</td>\n",
       "      <td>132.72</td>\n",
       "      <td>5440788</td>\n",
       "      <td>JNJ</td>\n",
       "    </tr>\n",
       "    <tr>\n",
       "      <th>51230</th>\n",
       "      <td>2017-07-31</td>\n",
       "      <td>NaN</td>\n",
       "      <td>92.36</td>\n",
       "      <td>NaN</td>\n",
       "      <td>91.80</td>\n",
       "      <td>11520329</td>\n",
       "      <td>JPM</td>\n",
       "    </tr>\n",
       "    <tr>\n",
       "      <th>54250</th>\n",
       "      <td>2017-07-31</td>\n",
       "      <td>NaN</td>\n",
       "      <td>NaN</td>\n",
       "      <td>154.85</td>\n",
       "      <td>155.14</td>\n",
       "      <td>4280364</td>\n",
       "      <td>MCD</td>\n",
       "    </tr>\n",
       "    <tr>\n",
       "      <th>57269</th>\n",
       "      <td>2017-07-31</td>\n",
       "      <td>NaN</td>\n",
       "      <td>NaN</td>\n",
       "      <td>63.51</td>\n",
       "      <td>63.88</td>\n",
       "      <td>11714888</td>\n",
       "      <td>MRK</td>\n",
       "    </tr>\n",
       "    <tr>\n",
       "      <th>63308</th>\n",
       "      <td>2017-07-31</td>\n",
       "      <td>NaN</td>\n",
       "      <td>59.12</td>\n",
       "      <td>58.33</td>\n",
       "      <td>59.05</td>\n",
       "      <td>6225907</td>\n",
       "      <td>NKE</td>\n",
       "    </tr>\n",
       "    <tr>\n",
       "      <th>66328</th>\n",
       "      <td>2017-07-31</td>\n",
       "      <td>NaN</td>\n",
       "      <td>NaN</td>\n",
       "      <td>NaN</td>\n",
       "      <td>33.16</td>\n",
       "      <td>21982573</td>\n",
       "      <td>PFE</td>\n",
       "    </tr>\n",
       "    <tr>\n",
       "      <th>69348</th>\n",
       "      <td>2017-07-31</td>\n",
       "      <td>NaN</td>\n",
       "      <td>91.07</td>\n",
       "      <td>NaN</td>\n",
       "      <td>90.82</td>\n",
       "      <td>7835661</td>\n",
       "      <td>PG</td>\n",
       "    </tr>\n",
       "    <tr>\n",
       "      <th>72368</th>\n",
       "      <td>2017-07-31</td>\n",
       "      <td>NaN</td>\n",
       "      <td>NaN</td>\n",
       "      <td>NaN</td>\n",
       "      <td>128.09</td>\n",
       "      <td>1077258</td>\n",
       "      <td>TRV</td>\n",
       "    </tr>\n",
       "    <tr>\n",
       "      <th>75388</th>\n",
       "      <td>2017-07-31</td>\n",
       "      <td>NaN</td>\n",
       "      <td>119.34</td>\n",
       "      <td>118.44</td>\n",
       "      <td>118.57</td>\n",
       "      <td>2172327</td>\n",
       "      <td>UTX</td>\n",
       "    </tr>\n",
       "    <tr>\n",
       "      <th>78408</th>\n",
       "      <td>2017-07-31</td>\n",
       "      <td>NaN</td>\n",
       "      <td>NaN</td>\n",
       "      <td>NaN</td>\n",
       "      <td>191.81</td>\n",
       "      <td>3776476</td>\n",
       "      <td>UNH</td>\n",
       "    </tr>\n",
       "    <tr>\n",
       "      <th>81428</th>\n",
       "      <td>2017-07-31</td>\n",
       "      <td>NaN</td>\n",
       "      <td>48.57</td>\n",
       "      <td>NaN</td>\n",
       "      <td>48.40</td>\n",
       "      <td>28456827</td>\n",
       "      <td>VZ</td>\n",
       "    </tr>\n",
       "    <tr>\n",
       "      <th>84448</th>\n",
       "      <td>2017-07-31</td>\n",
       "      <td>NaN</td>\n",
       "      <td>NaN</td>\n",
       "      <td>NaN</td>\n",
       "      <td>79.99</td>\n",
       "      <td>6263189</td>\n",
       "      <td>WMT</td>\n",
       "    </tr>\n",
       "  </tbody>\n",
       "</table>\n",
       "</div>"
      ],
      "text/plain": [
       "            Date  Open    High     Low   Close    Volume Name\n",
       "2913  2017-07-31   NaN  201.66     NaN  201.17   1833625  MMM\n",
       "5933  2017-07-31   NaN   85.70     NaN   85.23   3079797  AXP\n",
       "11972 2017-07-31   NaN     NaN     NaN  242.46   5777271   BA\n",
       "14992 2017-07-31   NaN     NaN     NaN  113.95   4486013  CAT\n",
       "18012 2017-07-31   NaN  110.00     NaN  109.19   7561205  CVX\n",
       "24051 2017-07-31   NaN     NaN   45.79   45.84  13622891   KO\n",
       "25815 2012-08-01   NaN     NaN     NaN   49.14         0  DIS\n",
       "27071 2017-07-31   NaN  110.14     NaN  109.93   6815349  DIS\n",
       "30091 2017-07-31   NaN   80.39     NaN   80.04  12820175  XOM\n",
       "33111 2017-07-31   NaN   25.69     NaN   25.61  30616287   GE\n",
       "36131 2017-07-31   NaN  225.50     NaN  225.33   1999637   GS\n",
       "39151 2017-07-31   NaN  149.98     NaN  149.60   5253318   HD\n",
       "42171 2017-07-31   NaN  144.93     NaN  144.67   4355718  IBM\n",
       "48210 2017-07-31   NaN  133.58     NaN  132.72   5440788  JNJ\n",
       "51230 2017-07-31   NaN   92.36     NaN   91.80  11520329  JPM\n",
       "54250 2017-07-31   NaN     NaN  154.85  155.14   4280364  MCD\n",
       "57269 2017-07-31   NaN     NaN   63.51   63.88  11714888  MRK\n",
       "63308 2017-07-31   NaN   59.12   58.33   59.05   6225907  NKE\n",
       "66328 2017-07-31   NaN     NaN     NaN   33.16  21982573  PFE\n",
       "69348 2017-07-31   NaN   91.07     NaN   90.82   7835661   PG\n",
       "72368 2017-07-31   NaN     NaN     NaN  128.09   1077258  TRV\n",
       "75388 2017-07-31   NaN  119.34  118.44  118.57   2172327  UTX\n",
       "78408 2017-07-31   NaN     NaN     NaN  191.81   3776476  UNH\n",
       "81428 2017-07-31   NaN   48.57     NaN   48.40  28456827   VZ\n",
       "84448 2017-07-31   NaN     NaN     NaN   79.99   6263189  WMT"
      ]
     },
     "execution_count": 66,
     "metadata": {},
     "output_type": "execute_result"
    }
   ],
   "source": [
    "all_stocks[all_stocks.Open.isnull()]"
   ]
  },
  {
   "cell_type": "code",
   "execution_count": 68,
   "metadata": {},
   "outputs": [
    {
     "data": {
      "text/plain": [
       "DatetimeIndex(['2006-01-02', '2006-01-16', '2006-02-20', '2006-04-14',\n",
       "               '2006-05-29', '2006-07-04', '2006-09-04', '2006-11-23',\n",
       "               '2006-12-25', '2007-01-01',\n",
       "               ...\n",
       "               '2017-01-02', '2017-01-16', '2017-02-20', '2017-04-14',\n",
       "               '2017-05-29', '2017-07-04', '2017-09-04', '2017-11-23',\n",
       "               '2017-12-25', '2018-01-01'],\n",
       "              dtype='datetime64[ns]', length=111, freq=None)"
      ]
     },
     "execution_count": 68,
     "metadata": {},
     "output_type": "execute_result"
    }
   ],
   "source": [
    "rng = pd.date_range(start='2006-01-01', end='2018-01-01', freq='B')\n",
    "rng[~rng.isin(all_stocks.Date.unique())]"
   ]
  },
  {
   "cell_type": "code",
   "execution_count": 69,
   "metadata": {},
   "outputs": [
    {
     "data": {
      "text/plain": [
       "Name\n",
       "JNJ      3020\n",
       "JPM      3020\n",
       "WMT      3020\n",
       "VZ       3020\n",
       "UTX      3020\n",
       "UNH      3020\n",
       "TRV      3020\n",
       "PG       3020\n",
       "PFE      3020\n",
       "NKE      3020\n",
       "MMM      3020\n",
       "MCD      3020\n",
       "KO       3020\n",
       "XOM      3020\n",
       "GE       3020\n",
       "IBM      3020\n",
       "HD       3020\n",
       "GS       3020\n",
       "AXP      3020\n",
       "BA       3020\n",
       "CAT      3020\n",
       "DIS      3020\n",
       "CVX      3020\n",
       "CSCO     3019\n",
       "AMZN     3019\n",
       "INTC     3019\n",
       "AAPL     3019\n",
       "MSFT     3019\n",
       "MRK      3019\n",
       "GOOGL    3019\n",
       "AABA     3019\n",
       "Name: Date, dtype: int64"
      ]
     },
     "execution_count": 69,
     "metadata": {},
     "output_type": "execute_result"
    }
   ],
   "source": [
    "all_stocks.groupby('Name').count().sort_values('Date', ascending=False)['Date']"
   ]
  },
  {
   "cell_type": "code",
   "execution_count": 70,
   "metadata": {},
   "outputs": [
    {
     "data": {
      "text/html": [
       "<div>\n",
       "<style scoped>\n",
       "    .dataframe tbody tr th:only-of-type {\n",
       "        vertical-align: middle;\n",
       "    }\n",
       "\n",
       "    .dataframe tbody tr th {\n",
       "        vertical-align: top;\n",
       "    }\n",
       "\n",
       "    .dataframe thead th {\n",
       "        text-align: right;\n",
       "    }\n",
       "</style>\n",
       "<table border=\"1\" class=\"dataframe\">\n",
       "  <thead>\n",
       "    <tr style=\"text-align: right;\">\n",
       "      <th></th>\n",
       "      <th>Date</th>\n",
       "      <th>Open</th>\n",
       "      <th>High</th>\n",
       "      <th>Low</th>\n",
       "      <th>Close</th>\n",
       "      <th>Volume</th>\n",
       "      <th>Name</th>\n",
       "    </tr>\n",
       "  </thead>\n",
       "  <tbody>\n",
       "    <tr>\n",
       "      <th>13147</th>\n",
       "      <td>2010-04-01</td>\n",
       "      <td>63.29</td>\n",
       "      <td>64.2</td>\n",
       "      <td>63.29</td>\n",
       "      <td>63.99</td>\n",
       "      <td>7830447</td>\n",
       "      <td>CAT</td>\n",
       "    </tr>\n",
       "  </tbody>\n",
       "</table>\n",
       "</div>"
      ],
      "text/plain": [
       "            Date   Open  High    Low  Close   Volume Name\n",
       "13147 2010-04-01  63.29  64.2  63.29  63.99  7830447  CAT"
      ]
     },
     "execution_count": 70,
     "metadata": {},
     "output_type": "execute_result"
    }
   ],
   "source": [
    "gdf = all_stocks[all_stocks.Name == 'AABA']\n",
    "cdf = all_stocks[all_stocks.Name == 'CAT']\n",
    "cdf[~cdf.Date.isin(gdf.Date)]"
   ]
  },
  {
   "cell_type": "code",
   "execution_count": 71,
   "metadata": {},
   "outputs": [
    {
     "data": {
      "text/plain": [
       "31"
      ]
     },
     "execution_count": 71,
     "metadata": {},
     "output_type": "execute_result"
    }
   ],
   "source": [
    "# Total number of companies\n",
    "all_stocks.Name.unique().size"
   ]
  },
  {
   "cell_type": "code",
   "execution_count": 72,
   "metadata": {},
   "outputs": [
    {
     "data": {
      "text/plain": [
       "Date\n",
       "2006-01-03    31\n",
       "2006-01-04    31\n",
       "2006-01-05    31\n",
       "2006-01-06    31\n",
       "2006-01-09    31\n",
       "2006-01-10    31\n",
       "2006-01-11    31\n",
       "2006-01-12    31\n",
       "2006-01-13    31\n",
       "2006-01-17    31\n",
       "2006-01-18    31\n",
       "2006-01-19    31\n",
       "2006-01-20    31\n",
       "2006-01-23    31\n",
       "2006-01-24    31\n",
       "2006-01-25    31\n",
       "2006-01-26    31\n",
       "2006-01-27    31\n",
       "2006-01-30    31\n",
       "2006-01-31    31\n",
       "2006-02-01    31\n",
       "2006-02-02    31\n",
       "2006-02-03    31\n",
       "2006-02-06    31\n",
       "2006-02-07    31\n",
       "2006-02-08    31\n",
       "2006-02-09    31\n",
       "2006-02-10    31\n",
       "2006-02-13    31\n",
       "2006-02-14    31\n",
       "              ..\n",
       "2017-11-16    31\n",
       "2017-11-17    31\n",
       "2017-11-20    31\n",
       "2017-11-21    31\n",
       "2017-11-22    31\n",
       "2017-11-24    31\n",
       "2017-11-27    31\n",
       "2017-11-28    31\n",
       "2017-11-29    31\n",
       "2017-11-30    31\n",
       "2017-12-01    31\n",
       "2017-12-04    31\n",
       "2017-12-05    31\n",
       "2017-12-06    31\n",
       "2017-12-07    31\n",
       "2017-12-08    31\n",
       "2017-12-11    31\n",
       "2017-12-12    31\n",
       "2017-12-13    31\n",
       "2017-12-14    31\n",
       "2017-12-15    31\n",
       "2017-12-18    31\n",
       "2017-12-19    31\n",
       "2017-12-20    31\n",
       "2017-12-21    31\n",
       "2017-12-22    31\n",
       "2017-12-26    31\n",
       "2017-12-27    31\n",
       "2017-12-28    31\n",
       "2017-12-29    31\n",
       "Name: Name, Length: 3020, dtype: int64"
      ]
     },
     "execution_count": 72,
     "metadata": {},
     "output_type": "execute_result"
    }
   ],
   "source": [
    "all_stocks.groupby('Date').Name.unique().apply(len)"
   ]
  },
  {
   "cell_type": "code",
   "execution_count": 73,
   "metadata": {},
   "outputs": [
    {
     "data": {
      "text/html": [
       "<div>\n",
       "<style scoped>\n",
       "    .dataframe tbody tr th:only-of-type {\n",
       "        vertical-align: middle;\n",
       "    }\n",
       "\n",
       "    .dataframe tbody tr th {\n",
       "        vertical-align: top;\n",
       "    }\n",
       "\n",
       "    .dataframe thead th {\n",
       "        text-align: right;\n",
       "    }\n",
       "</style>\n",
       "<table border=\"1\" class=\"dataframe\">\n",
       "  <thead>\n",
       "    <tr style=\"text-align: right;\">\n",
       "      <th></th>\n",
       "      <th>Date</th>\n",
       "      <th>Open</th>\n",
       "      <th>High</th>\n",
       "      <th>Low</th>\n",
       "      <th>Close</th>\n",
       "      <th>Volume</th>\n",
       "      <th>Name</th>\n",
       "    </tr>\n",
       "  </thead>\n",
       "  <tbody>\n",
       "    <tr>\n",
       "      <th>2913</th>\n",
       "      <td>2017-07-31</td>\n",
       "      <td>200.79</td>\n",
       "      <td>201.66</td>\n",
       "      <td>198.69</td>\n",
       "      <td>201.17</td>\n",
       "      <td>1833625</td>\n",
       "      <td>MMM</td>\n",
       "    </tr>\n",
       "    <tr>\n",
       "      <th>5933</th>\n",
       "      <td>2017-07-31</td>\n",
       "      <td>83.88</td>\n",
       "      <td>85.70</td>\n",
       "      <td>83.62</td>\n",
       "      <td>85.23</td>\n",
       "      <td>3079797</td>\n",
       "      <td>AXP</td>\n",
       "    </tr>\n",
       "    <tr>\n",
       "      <th>8952</th>\n",
       "      <td>2017-07-31</td>\n",
       "      <td>149.90</td>\n",
       "      <td>150.33</td>\n",
       "      <td>148.13</td>\n",
       "      <td>148.73</td>\n",
       "      <td>19845920</td>\n",
       "      <td>AAPL</td>\n",
       "    </tr>\n",
       "    <tr>\n",
       "      <th>11972</th>\n",
       "      <td>2017-07-31</td>\n",
       "      <td>240.82</td>\n",
       "      <td>242.00</td>\n",
       "      <td>238.55</td>\n",
       "      <td>242.46</td>\n",
       "      <td>5777271</td>\n",
       "      <td>BA</td>\n",
       "    </tr>\n",
       "    <tr>\n",
       "      <th>14992</th>\n",
       "      <td>2017-07-31</td>\n",
       "      <td>114.45</td>\n",
       "      <td>114.90</td>\n",
       "      <td>113.48</td>\n",
       "      <td>113.95</td>\n",
       "      <td>4486013</td>\n",
       "      <td>CAT</td>\n",
       "    </tr>\n",
       "    <tr>\n",
       "      <th>18012</th>\n",
       "      <td>2017-07-31</td>\n",
       "      <td>106.71</td>\n",
       "      <td>110.00</td>\n",
       "      <td>106.36</td>\n",
       "      <td>109.19</td>\n",
       "      <td>7561205</td>\n",
       "      <td>CVX</td>\n",
       "    </tr>\n",
       "    <tr>\n",
       "      <th>21031</th>\n",
       "      <td>2017-07-31</td>\n",
       "      <td>31.54</td>\n",
       "      <td>31.59</td>\n",
       "      <td>31.37</td>\n",
       "      <td>31.45</td>\n",
       "      <td>19256428</td>\n",
       "      <td>CSCO</td>\n",
       "    </tr>\n",
       "    <tr>\n",
       "      <th>24051</th>\n",
       "      <td>2017-07-31</td>\n",
       "      <td>46.00</td>\n",
       "      <td>46.12</td>\n",
       "      <td>45.79</td>\n",
       "      <td>45.84</td>\n",
       "      <td>13622891</td>\n",
       "      <td>KO</td>\n",
       "    </tr>\n",
       "    <tr>\n",
       "      <th>27071</th>\n",
       "      <td>2017-07-31</td>\n",
       "      <td>109.98</td>\n",
       "      <td>110.14</td>\n",
       "      <td>109.66</td>\n",
       "      <td>109.93</td>\n",
       "      <td>6815349</td>\n",
       "      <td>DIS</td>\n",
       "    </tr>\n",
       "    <tr>\n",
       "      <th>30091</th>\n",
       "      <td>2017-07-31</td>\n",
       "      <td>79.65</td>\n",
       "      <td>80.39</td>\n",
       "      <td>78.27</td>\n",
       "      <td>80.04</td>\n",
       "      <td>12820175</td>\n",
       "      <td>XOM</td>\n",
       "    </tr>\n",
       "    <tr>\n",
       "      <th>33111</th>\n",
       "      <td>2017-07-31</td>\n",
       "      <td>25.86</td>\n",
       "      <td>25.69</td>\n",
       "      <td>25.40</td>\n",
       "      <td>25.61</td>\n",
       "      <td>30616287</td>\n",
       "      <td>GE</td>\n",
       "    </tr>\n",
       "    <tr>\n",
       "      <th>36131</th>\n",
       "      <td>2017-07-31</td>\n",
       "      <td>221.77</td>\n",
       "      <td>225.50</td>\n",
       "      <td>220.86</td>\n",
       "      <td>225.33</td>\n",
       "      <td>1999637</td>\n",
       "      <td>GS</td>\n",
       "    </tr>\n",
       "    <tr>\n",
       "      <th>39151</th>\n",
       "      <td>2017-07-31</td>\n",
       "      <td>147.90</td>\n",
       "      <td>149.98</td>\n",
       "      <td>147.32</td>\n",
       "      <td>149.60</td>\n",
       "      <td>5253318</td>\n",
       "      <td>HD</td>\n",
       "    </tr>\n",
       "    <tr>\n",
       "      <th>42171</th>\n",
       "      <td>2017-07-31</td>\n",
       "      <td>144.81</td>\n",
       "      <td>144.93</td>\n",
       "      <td>143.84</td>\n",
       "      <td>144.67</td>\n",
       "      <td>4355718</td>\n",
       "      <td>IBM</td>\n",
       "    </tr>\n",
       "    <tr>\n",
       "      <th>45190</th>\n",
       "      <td>2017-07-31</td>\n",
       "      <td>35.47</td>\n",
       "      <td>35.74</td>\n",
       "      <td>35.32</td>\n",
       "      <td>35.47</td>\n",
       "      <td>27056989</td>\n",
       "      <td>INTC</td>\n",
       "    </tr>\n",
       "    <tr>\n",
       "      <th>48210</th>\n",
       "      <td>2017-07-31</td>\n",
       "      <td>131.14</td>\n",
       "      <td>133.58</td>\n",
       "      <td>130.52</td>\n",
       "      <td>132.72</td>\n",
       "      <td>5440788</td>\n",
       "      <td>JNJ</td>\n",
       "    </tr>\n",
       "    <tr>\n",
       "      <th>51230</th>\n",
       "      <td>2017-07-31</td>\n",
       "      <td>91.45</td>\n",
       "      <td>92.36</td>\n",
       "      <td>90.90</td>\n",
       "      <td>91.80</td>\n",
       "      <td>11520329</td>\n",
       "      <td>JPM</td>\n",
       "    </tr>\n",
       "    <tr>\n",
       "      <th>54250</th>\n",
       "      <td>2017-07-31</td>\n",
       "      <td>156.36</td>\n",
       "      <td>156.66</td>\n",
       "      <td>154.85</td>\n",
       "      <td>155.14</td>\n",
       "      <td>4280364</td>\n",
       "      <td>MCD</td>\n",
       "    </tr>\n",
       "    <tr>\n",
       "      <th>57269</th>\n",
       "      <td>2017-07-31</td>\n",
       "      <td>63.81</td>\n",
       "      <td>64.36</td>\n",
       "      <td>63.51</td>\n",
       "      <td>63.88</td>\n",
       "      <td>11714888</td>\n",
       "      <td>MRK</td>\n",
       "    </tr>\n",
       "    <tr>\n",
       "      <th>60288</th>\n",
       "      <td>2017-07-31</td>\n",
       "      <td>73.30</td>\n",
       "      <td>73.44</td>\n",
       "      <td>72.41</td>\n",
       "      <td>72.70</td>\n",
       "      <td>23600054</td>\n",
       "      <td>MSFT</td>\n",
       "    </tr>\n",
       "    <tr>\n",
       "      <th>63308</th>\n",
       "      <td>2017-07-31</td>\n",
       "      <td>58.15</td>\n",
       "      <td>59.12</td>\n",
       "      <td>58.33</td>\n",
       "      <td>59.05</td>\n",
       "      <td>6225907</td>\n",
       "      <td>NKE</td>\n",
       "    </tr>\n",
       "    <tr>\n",
       "      <th>66328</th>\n",
       "      <td>2017-07-31</td>\n",
       "      <td>33.06</td>\n",
       "      <td>33.17</td>\n",
       "      <td>32.81</td>\n",
       "      <td>33.16</td>\n",
       "      <td>21982573</td>\n",
       "      <td>PFE</td>\n",
       "    </tr>\n",
       "    <tr>\n",
       "      <th>69348</th>\n",
       "      <td>2017-07-31</td>\n",
       "      <td>90.56</td>\n",
       "      <td>91.07</td>\n",
       "      <td>89.96</td>\n",
       "      <td>90.82</td>\n",
       "      <td>7835661</td>\n",
       "      <td>PG</td>\n",
       "    </tr>\n",
       "    <tr>\n",
       "      <th>72368</th>\n",
       "      <td>2017-07-31</td>\n",
       "      <td>126.11</td>\n",
       "      <td>127.47</td>\n",
       "      <td>125.72</td>\n",
       "      <td>128.09</td>\n",
       "      <td>1077258</td>\n",
       "      <td>TRV</td>\n",
       "    </tr>\n",
       "    <tr>\n",
       "      <th>75388</th>\n",
       "      <td>2017-07-31</td>\n",
       "      <td>118.79</td>\n",
       "      <td>119.34</td>\n",
       "      <td>118.44</td>\n",
       "      <td>118.57</td>\n",
       "      <td>2172327</td>\n",
       "      <td>UTX</td>\n",
       "    </tr>\n",
       "    <tr>\n",
       "      <th>78408</th>\n",
       "      <td>2017-07-31</td>\n",
       "      <td>189.11</td>\n",
       "      <td>191.24</td>\n",
       "      <td>187.60</td>\n",
       "      <td>191.81</td>\n",
       "      <td>3776476</td>\n",
       "      <td>UNH</td>\n",
       "    </tr>\n",
       "    <tr>\n",
       "      <th>81428</th>\n",
       "      <td>2017-07-31</td>\n",
       "      <td>47.70</td>\n",
       "      <td>48.57</td>\n",
       "      <td>47.12</td>\n",
       "      <td>48.40</td>\n",
       "      <td>28456827</td>\n",
       "      <td>VZ</td>\n",
       "    </tr>\n",
       "    <tr>\n",
       "      <th>84448</th>\n",
       "      <td>2017-07-31</td>\n",
       "      <td>79.80</td>\n",
       "      <td>79.96</td>\n",
       "      <td>79.54</td>\n",
       "      <td>79.99</td>\n",
       "      <td>6263189</td>\n",
       "      <td>WMT</td>\n",
       "    </tr>\n",
       "    <tr>\n",
       "      <th>87467</th>\n",
       "      <td>2017-07-31</td>\n",
       "      <td>960.00</td>\n",
       "      <td>961.19</td>\n",
       "      <td>941.72</td>\n",
       "      <td>945.50</td>\n",
       "      <td>2293389</td>\n",
       "      <td>GOOGL</td>\n",
       "    </tr>\n",
       "    <tr>\n",
       "      <th>90486</th>\n",
       "      <td>2017-07-31</td>\n",
       "      <td>1019.05</td>\n",
       "      <td>1019.05</td>\n",
       "      <td>987.02</td>\n",
       "      <td>987.78</td>\n",
       "      <td>7352063</td>\n",
       "      <td>AMZN</td>\n",
       "    </tr>\n",
       "    <tr>\n",
       "      <th>93505</th>\n",
       "      <td>2017-07-31</td>\n",
       "      <td>59.70</td>\n",
       "      <td>59.89</td>\n",
       "      <td>58.07</td>\n",
       "      <td>58.40</td>\n",
       "      <td>6738130</td>\n",
       "      <td>AABA</td>\n",
       "    </tr>\n",
       "  </tbody>\n",
       "</table>\n",
       "</div>"
      ],
      "text/plain": [
       "            Date     Open     High     Low   Close    Volume   Name\n",
       "2913  2017-07-31   200.79   201.66  198.69  201.17   1833625    MMM\n",
       "5933  2017-07-31    83.88    85.70   83.62   85.23   3079797    AXP\n",
       "8952  2017-07-31   149.90   150.33  148.13  148.73  19845920   AAPL\n",
       "11972 2017-07-31   240.82   242.00  238.55  242.46   5777271     BA\n",
       "14992 2017-07-31   114.45   114.90  113.48  113.95   4486013    CAT\n",
       "18012 2017-07-31   106.71   110.00  106.36  109.19   7561205    CVX\n",
       "21031 2017-07-31    31.54    31.59   31.37   31.45  19256428   CSCO\n",
       "24051 2017-07-31    46.00    46.12   45.79   45.84  13622891     KO\n",
       "27071 2017-07-31   109.98   110.14  109.66  109.93   6815349    DIS\n",
       "30091 2017-07-31    79.65    80.39   78.27   80.04  12820175    XOM\n",
       "33111 2017-07-31    25.86    25.69   25.40   25.61  30616287     GE\n",
       "36131 2017-07-31   221.77   225.50  220.86  225.33   1999637     GS\n",
       "39151 2017-07-31   147.90   149.98  147.32  149.60   5253318     HD\n",
       "42171 2017-07-31   144.81   144.93  143.84  144.67   4355718    IBM\n",
       "45190 2017-07-31    35.47    35.74   35.32   35.47  27056989   INTC\n",
       "48210 2017-07-31   131.14   133.58  130.52  132.72   5440788    JNJ\n",
       "51230 2017-07-31    91.45    92.36   90.90   91.80  11520329    JPM\n",
       "54250 2017-07-31   156.36   156.66  154.85  155.14   4280364    MCD\n",
       "57269 2017-07-31    63.81    64.36   63.51   63.88  11714888    MRK\n",
       "60288 2017-07-31    73.30    73.44   72.41   72.70  23600054   MSFT\n",
       "63308 2017-07-31    58.15    59.12   58.33   59.05   6225907    NKE\n",
       "66328 2017-07-31    33.06    33.17   32.81   33.16  21982573    PFE\n",
       "69348 2017-07-31    90.56    91.07   89.96   90.82   7835661     PG\n",
       "72368 2017-07-31   126.11   127.47  125.72  128.09   1077258    TRV\n",
       "75388 2017-07-31   118.79   119.34  118.44  118.57   2172327    UTX\n",
       "78408 2017-07-31   189.11   191.24  187.60  191.81   3776476    UNH\n",
       "81428 2017-07-31    47.70    48.57   47.12   48.40  28456827     VZ\n",
       "84448 2017-07-31    79.80    79.96   79.54   79.99   6263189    WMT\n",
       "87467 2017-07-31   960.00   961.19  941.72  945.50   2293389  GOOGL\n",
       "90486 2017-07-31  1019.05  1019.05  987.02  987.78   7352063   AMZN\n",
       "93505 2017-07-31    59.70    59.89   58.07   58.40   6738130   AABA"
      ]
     },
     "execution_count": 73,
     "metadata": {},
     "output_type": "execute_result"
    }
   ],
   "source": [
    "all_stocks.set_index('Date', inplace=True)\n",
    "\n",
    "#Backfill `Open` column\n",
    "values = np.where(all_stocks['2017-07-31']['Open'].isnull(), all_stocks['2017-07-28']['Open'], all_stocks['2017-07-31']['Open'])\n",
    "all_stocks['2017-07-31']= all_stocks['2017-07-31'].assign(Open=values.tolist())\n",
    "\n",
    "values = np.where(all_stocks['2017-07-31']['Close'].isnull(), all_stocks['2017-07-28']['Close'], all_stocks['2017-07-31']['Close'])\n",
    "all_stocks['2017-07-31']= all_stocks['2017-07-31'].assign(Close=values.tolist())\n",
    "\n",
    "values = np.where(all_stocks['2017-07-31']['High'].isnull(), all_stocks['2017-07-28']['High'], all_stocks['2017-07-31']['High'])\n",
    "all_stocks['2017-07-31']= all_stocks['2017-07-31'].assign(High=values.tolist())\n",
    "\n",
    "values = np.where(all_stocks['2017-07-31']['Low'].isnull(), all_stocks['2017-07-28']['Low'], all_stocks['2017-07-31']['Low'])\n",
    "all_stocks['2017-07-31']= all_stocks['2017-07-31'].assign(Low=values.tolist())\n",
    "\n",
    "all_stocks.reset_index(inplace=True)\n",
    "all_stocks[all_stocks.Date == '2017-07-31']"
   ]
  },
  {
   "cell_type": "code",
   "execution_count": 75,
   "metadata": {},
   "outputs": [],
   "source": [
    "missing_data_stocks = ['CSCO','AMZN','INTC','AAPL','MSFT','MRK','GOOGL', 'AABA']\n",
    "columns = all_stocks.columns.values"
   ]
  },
  {
   "cell_type": "code",
   "execution_count": 78,
   "metadata": {},
   "outputs": [
    {
     "name": "stdout",
     "output_type": "stream",
     "text": [
      "Complete\n"
     ]
    }
   ],
   "source": [
    "for stock in missing_data_stocks:\n",
    "    tdf = all_stocks[(all_stocks.Name == stock) & (all_stocks.Date == '2014-03-28')].copy()\n",
    "    tdf.Date = '2014-04-01'\n",
    "    pd.concat([all_stocks, tdf])\n",
    "print(\"Complete\")"
   ]
  },
  {
   "cell_type": "code",
   "execution_count": 80,
   "metadata": {},
   "outputs": [
    {
     "data": {
      "text/html": [
       "<div>\n",
       "<style scoped>\n",
       "    .dataframe tbody tr th:only-of-type {\n",
       "        vertical-align: middle;\n",
       "    }\n",
       "\n",
       "    .dataframe tbody tr th {\n",
       "        vertical-align: top;\n",
       "    }\n",
       "\n",
       "    .dataframe thead th {\n",
       "        text-align: right;\n",
       "    }\n",
       "</style>\n",
       "<table border=\"1\" class=\"dataframe\">\n",
       "  <thead>\n",
       "    <tr style=\"text-align: right;\">\n",
       "      <th></th>\n",
       "      <th>Date</th>\n",
       "      <th>Open</th>\n",
       "      <th>High</th>\n",
       "      <th>Low</th>\n",
       "      <th>Close</th>\n",
       "      <th>Volume</th>\n",
       "      <th>Name</th>\n",
       "    </tr>\n",
       "  </thead>\n",
       "  <tbody>\n",
       "    <tr>\n",
       "      <th>20192</th>\n",
       "      <td>2014-04-01</td>\n",
       "      <td>22.33</td>\n",
       "      <td>23.31</td>\n",
       "      <td>22.3</td>\n",
       "      <td>23.1</td>\n",
       "      <td>80113826</td>\n",
       "      <td>CSCO</td>\n",
       "    </tr>\n",
       "  </tbody>\n",
       "</table>\n",
       "</div>"
      ],
      "text/plain": [
       "            Date   Open   High   Low  Close    Volume  Name\n",
       "20192 2014-04-01  22.33  23.31  22.3   23.1  80113826  CSCO"
      ]
     },
     "execution_count": 80,
     "metadata": {},
     "output_type": "execute_result"
    }
   ],
   "source": [
    "all_stocks[(all_stocks.Name == 'CSCO') & (all_stocks.Date == '2014-04-01')]"
   ]
  },
  {
   "cell_type": "code",
   "execution_count": 81,
   "metadata": {},
   "outputs": [
    {
     "data": {
      "text/html": [
       "<div>\n",
       "<style scoped>\n",
       "    .dataframe tbody tr th:only-of-type {\n",
       "        vertical-align: middle;\n",
       "    }\n",
       "\n",
       "    .dataframe tbody tr th {\n",
       "        vertical-align: top;\n",
       "    }\n",
       "\n",
       "    .dataframe thead th {\n",
       "        text-align: right;\n",
       "    }\n",
       "</style>\n",
       "<table border=\"1\" class=\"dataframe\">\n",
       "  <thead>\n",
       "    <tr style=\"text-align: right;\">\n",
       "      <th></th>\n",
       "      <th>Date</th>\n",
       "      <th>Open</th>\n",
       "      <th>High</th>\n",
       "      <th>Low</th>\n",
       "      <th>Close</th>\n",
       "      <th>Volume</th>\n",
       "      <th>Name</th>\n",
       "    </tr>\n",
       "  </thead>\n",
       "  <tbody>\n",
       "    <tr>\n",
       "      <th>25815</th>\n",
       "      <td>2012-08-01</td>\n",
       "      <td>NaN</td>\n",
       "      <td>NaN</td>\n",
       "      <td>NaN</td>\n",
       "      <td>49.14</td>\n",
       "      <td>0</td>\n",
       "      <td>DIS</td>\n",
       "    </tr>\n",
       "  </tbody>\n",
       "</table>\n",
       "</div>"
      ],
      "text/plain": [
       "            Date  Open  High  Low  Close  Volume Name\n",
       "25815 2012-08-01   NaN   NaN  NaN  49.14       0  DIS"
      ]
     },
     "execution_count": 81,
     "metadata": {},
     "output_type": "execute_result"
    }
   ],
   "source": [
    "all_stocks[all_stocks.Open.isnull()]"
   ]
  },
  {
   "cell_type": "code",
   "execution_count": 82,
   "metadata": {},
   "outputs": [],
   "source": [
    "all_stocks = all_stocks[~((all_stocks.Date == '2012-08-01') & (all_stocks.Name == 'DIS'))]"
   ]
  },
  {
   "cell_type": "code",
   "execution_count": 84,
   "metadata": {},
   "outputs": [
    {
     "data": {
      "text/plain": [
       "Date      0\n",
       "Open      0\n",
       "High      0\n",
       "Low       0\n",
       "Close     0\n",
       "Volume    0\n",
       "Name      0\n",
       "dtype: int64"
      ]
     },
     "execution_count": 84,
     "metadata": {},
     "output_type": "execute_result"
    }
   ],
   "source": [
    "all_stocks.isnull().sum()"
   ]
  },
  {
   "cell_type": "code",
   "execution_count": 85,
   "metadata": {},
   "outputs": [],
   "source": [
    "#We predict the average value of all the 4 prices present in the data, so we create a new column called \"avgPrice\"\n",
    "all_stocks[\"avgPrice\"] = (all_stocks['High']+all_stocks['Low']+all_stocks['Open']+all_stocks['Close'])/4"
   ]
  },
  {
   "cell_type": "code",
   "execution_count": 86,
   "metadata": {},
   "outputs": [
    {
     "data": {
      "text/html": [
       "<div>\n",
       "<style scoped>\n",
       "    .dataframe tbody tr th:only-of-type {\n",
       "        vertical-align: middle;\n",
       "    }\n",
       "\n",
       "    .dataframe tbody tr th {\n",
       "        vertical-align: top;\n",
       "    }\n",
       "\n",
       "    .dataframe thead th {\n",
       "        text-align: right;\n",
       "    }\n",
       "</style>\n",
       "<table border=\"1\" class=\"dataframe\">\n",
       "  <thead>\n",
       "    <tr style=\"text-align: right;\">\n",
       "      <th></th>\n",
       "      <th>Date</th>\n",
       "      <th>Open</th>\n",
       "      <th>High</th>\n",
       "      <th>Low</th>\n",
       "      <th>Close</th>\n",
       "      <th>Volume</th>\n",
       "      <th>Name</th>\n",
       "      <th>avgPrice</th>\n",
       "    </tr>\n",
       "  </thead>\n",
       "  <tbody>\n",
       "    <tr>\n",
       "      <th>0</th>\n",
       "      <td>2006-01-03</td>\n",
       "      <td>77.76</td>\n",
       "      <td>79.35</td>\n",
       "      <td>77.24</td>\n",
       "      <td>79.11</td>\n",
       "      <td>3117200</td>\n",
       "      <td>MMM</td>\n",
       "      <td>78.3650</td>\n",
       "    </tr>\n",
       "    <tr>\n",
       "      <th>1</th>\n",
       "      <td>2006-01-04</td>\n",
       "      <td>79.49</td>\n",
       "      <td>79.49</td>\n",
       "      <td>78.25</td>\n",
       "      <td>78.71</td>\n",
       "      <td>2558000</td>\n",
       "      <td>MMM</td>\n",
       "      <td>78.9850</td>\n",
       "    </tr>\n",
       "    <tr>\n",
       "      <th>2</th>\n",
       "      <td>2006-01-05</td>\n",
       "      <td>78.41</td>\n",
       "      <td>78.65</td>\n",
       "      <td>77.56</td>\n",
       "      <td>77.99</td>\n",
       "      <td>2529500</td>\n",
       "      <td>MMM</td>\n",
       "      <td>78.1525</td>\n",
       "    </tr>\n",
       "    <tr>\n",
       "      <th>3</th>\n",
       "      <td>2006-01-06</td>\n",
       "      <td>78.64</td>\n",
       "      <td>78.90</td>\n",
       "      <td>77.64</td>\n",
       "      <td>78.63</td>\n",
       "      <td>2479500</td>\n",
       "      <td>MMM</td>\n",
       "      <td>78.4525</td>\n",
       "    </tr>\n",
       "    <tr>\n",
       "      <th>4</th>\n",
       "      <td>2006-01-09</td>\n",
       "      <td>78.50</td>\n",
       "      <td>79.83</td>\n",
       "      <td>78.46</td>\n",
       "      <td>79.02</td>\n",
       "      <td>1845600</td>\n",
       "      <td>MMM</td>\n",
       "      <td>78.9525</td>\n",
       "    </tr>\n",
       "  </tbody>\n",
       "</table>\n",
       "</div>"
      ],
      "text/plain": [
       "        Date   Open   High    Low  Close   Volume Name  avgPrice\n",
       "0 2006-01-03  77.76  79.35  77.24  79.11  3117200  MMM   78.3650\n",
       "1 2006-01-04  79.49  79.49  78.25  78.71  2558000  MMM   78.9850\n",
       "2 2006-01-05  78.41  78.65  77.56  77.99  2529500  MMM   78.1525\n",
       "3 2006-01-06  78.64  78.90  77.64  78.63  2479500  MMM   78.4525\n",
       "4 2006-01-09  78.50  79.83  78.46  79.02  1845600  MMM   78.9525"
      ]
     },
     "execution_count": 86,
     "metadata": {},
     "output_type": "execute_result"
    }
   ],
   "source": [
    "all_stocks.head()"
   ]
  },
  {
   "cell_type": "code",
   "execution_count": 87,
   "metadata": {},
   "outputs": [
    {
     "data": {
      "text/plain": [
       "count    93611.000000\n",
       "mean         0.789919\n",
       "std          1.907922\n",
       "min         -0.808701\n",
       "25%          0.035007\n",
       "50%          0.342423\n",
       "75%          0.816421\n",
       "max         24.392810\n",
       "Name: Growth, dtype: float64"
      ]
     },
     "execution_count": 87,
     "metadata": {},
     "output_type": "execute_result"
    }
   ],
   "source": [
    "stock_names = all_stocks.Name.unique()\n",
    "day_prices = all_stocks[all_stocks.Date == all_stocks.Date.min()].avgPrice\n",
    "price_mapping = {n : c for n, c in zip(stock_names, day_prices)}\n",
    "base_mapping = np.array(list(map(lambda x : price_mapping[x], all_stocks['Name'].values)))\n",
    "all_stocks['Growth'] = all_stocks['avgPrice'] / base_mapping - 1\n",
    "all_stocks.Growth.describe()"
   ]
  },
  {
   "cell_type": "code",
   "execution_count": 88,
   "metadata": {},
   "outputs": [
    {
     "data": {
      "text/html": [
       "<div>\n",
       "<style scoped>\n",
       "    .dataframe tbody tr th:only-of-type {\n",
       "        vertical-align: middle;\n",
       "    }\n",
       "\n",
       "    .dataframe tbody tr th {\n",
       "        vertical-align: top;\n",
       "    }\n",
       "\n",
       "    .dataframe thead th {\n",
       "        text-align: right;\n",
       "    }\n",
       "</style>\n",
       "<table border=\"1\" class=\"dataframe\">\n",
       "  <thead>\n",
       "    <tr style=\"text-align: right;\">\n",
       "      <th></th>\n",
       "      <th>Date</th>\n",
       "      <th>Open</th>\n",
       "      <th>High</th>\n",
       "      <th>Low</th>\n",
       "      <th>Close</th>\n",
       "      <th>Volume</th>\n",
       "      <th>Name</th>\n",
       "      <th>avgPrice</th>\n",
       "      <th>Growth</th>\n",
       "    </tr>\n",
       "  </thead>\n",
       "  <tbody>\n",
       "    <tr>\n",
       "      <th>33217</th>\n",
       "      <td>2017-12-29</td>\n",
       "      <td>17.27</td>\n",
       "      <td>17.53</td>\n",
       "      <td>17.27</td>\n",
       "      <td>17.45</td>\n",
       "      <td>76149513</td>\n",
       "      <td>GE</td>\n",
       "      <td>17.380</td>\n",
       "      <td>-0.505794</td>\n",
       "    </tr>\n",
       "    <tr>\n",
       "      <th>30197</th>\n",
       "      <td>2017-12-29</td>\n",
       "      <td>84.00</td>\n",
       "      <td>84.20</td>\n",
       "      <td>83.64</td>\n",
       "      <td>83.64</td>\n",
       "      <td>8523411</td>\n",
       "      <td>XOM</td>\n",
       "      <td>83.870</td>\n",
       "      <td>0.460005</td>\n",
       "    </tr>\n",
       "    <tr>\n",
       "      <th>66434</th>\n",
       "      <td>2017-12-29</td>\n",
       "      <td>36.23</td>\n",
       "      <td>36.49</td>\n",
       "      <td>36.22</td>\n",
       "      <td>36.22</td>\n",
       "      <td>11421487</td>\n",
       "      <td>PFE</td>\n",
       "      <td>36.290</td>\n",
       "      <td>0.528805</td>\n",
       "    </tr>\n",
       "    <tr>\n",
       "      <th>69454</th>\n",
       "      <td>2017-12-29</td>\n",
       "      <td>92.24</td>\n",
       "      <td>92.46</td>\n",
       "      <td>91.88</td>\n",
       "      <td>91.88</td>\n",
       "      <td>4346675</td>\n",
       "      <td>PG</td>\n",
       "      <td>92.115</td>\n",
       "      <td>0.577109</td>\n",
       "    </tr>\n",
       "    <tr>\n",
       "      <th>93611</th>\n",
       "      <td>2017-12-29</td>\n",
       "      <td>69.79</td>\n",
       "      <td>70.13</td>\n",
       "      <td>69.43</td>\n",
       "      <td>69.85</td>\n",
       "      <td>6613070</td>\n",
       "      <td>AABA</td>\n",
       "      <td>69.800</td>\n",
       "      <td>0.738372</td>\n",
       "    </tr>\n",
       "  </tbody>\n",
       "</table>\n",
       "</div>"
      ],
      "text/plain": [
       "            Date   Open   High    Low  Close    Volume  Name  avgPrice  \\\n",
       "33217 2017-12-29  17.27  17.53  17.27  17.45  76149513    GE    17.380   \n",
       "30197 2017-12-29  84.00  84.20  83.64  83.64   8523411   XOM    83.870   \n",
       "66434 2017-12-29  36.23  36.49  36.22  36.22  11421487   PFE    36.290   \n",
       "69454 2017-12-29  92.24  92.46  91.88  91.88   4346675    PG    92.115   \n",
       "93611 2017-12-29  69.79  70.13  69.43  69.85   6613070  AABA    69.800   \n",
       "\n",
       "         Growth  \n",
       "33217 -0.505794  \n",
       "30197  0.460005  \n",
       "66434  0.528805  \n",
       "69454  0.577109  \n",
       "93611  0.738372  "
      ]
     },
     "execution_count": 88,
     "metadata": {},
     "output_type": "execute_result"
    },
    {
     "data": {
      "image/png": "[encoded data removed]",
      "text/plain": [
       "<Figure size 432x288 with 1 Axes>"
      ]
     },
     "metadata": {
      "needs_background": "light"
     },
     "output_type": "display_data"
    }
   ],
   "source": [
    "sample_dates = pd.date_range(start='2006-01-01', end='2018-01-01', freq='B')\n",
    "year_end_dates = sample_dates[sample_dates.is_year_end]\n",
    "year_end_dates\n",
    "worst_stocks = all_stocks[all_stocks.Date == all_stocks.Date.max()].sort_values('Growth').head(5)\n",
    "best_stocks = all_stocks[all_stocks.Date == all_stocks.Date.max()].sort_values('Growth', ascending=False).head(5)\n",
    "ws = worst_stocks.Name.values\n",
    "bs = best_stocks.Name.values\n",
    "tdf = all_stocks.copy()\n",
    "tdf = all_stocks.set_index('Date')\n",
    "tdf[tdf.Name.isin(ws)].groupby('Name').Growth.plot(title='Historical trend of worst 5 stocks of 2017', legend=True)\n",
    "worst_stocks"
   ]
  },
  {
   "cell_type": "code",
   "execution_count": 89,
   "metadata": {},
   "outputs": [
    {
     "data": {
      "text/html": [
       "<div>\n",
       "<style scoped>\n",
       "    .dataframe tbody tr th:only-of-type {\n",
       "        vertical-align: middle;\n",
       "    }\n",
       "\n",
       "    .dataframe tbody tr th {\n",
       "        vertical-align: top;\n",
       "    }\n",
       "\n",
       "    .dataframe thead th {\n",
       "        text-align: right;\n",
       "    }\n",
       "</style>\n",
       "<table border=\"1\" class=\"dataframe\">\n",
       "  <thead>\n",
       "    <tr style=\"text-align: right;\">\n",
       "      <th></th>\n",
       "      <th>Date</th>\n",
       "      <th>Open</th>\n",
       "      <th>High</th>\n",
       "      <th>Low</th>\n",
       "      <th>Close</th>\n",
       "      <th>Volume</th>\n",
       "      <th>Name</th>\n",
       "      <th>avgPrice</th>\n",
       "      <th>Growth</th>\n",
       "    </tr>\n",
       "  </thead>\n",
       "  <tbody>\n",
       "    <tr>\n",
       "      <th>90592</th>\n",
       "      <td>2017-12-29</td>\n",
       "      <td>1182.35</td>\n",
       "      <td>1184.00</td>\n",
       "      <td>1167.50</td>\n",
       "      <td>1169.47</td>\n",
       "      <td>2688391</td>\n",
       "      <td>AMZN</td>\n",
       "      <td>1175.83</td>\n",
       "      <td>23.865556</td>\n",
       "    </tr>\n",
       "    <tr>\n",
       "      <th>9058</th>\n",
       "      <td>2017-12-29</td>\n",
       "      <td>170.52</td>\n",
       "      <td>170.59</td>\n",
       "      <td>169.22</td>\n",
       "      <td>169.23</td>\n",
       "      <td>25999922</td>\n",
       "      <td>AAPL</td>\n",
       "      <td>169.89</td>\n",
       "      <td>15.172299</td>\n",
       "    </tr>\n",
       "    <tr>\n",
       "      <th>63414</th>\n",
       "      <td>2017-12-29</td>\n",
       "      <td>63.21</td>\n",
       "      <td>63.37</td>\n",
       "      <td>62.55</td>\n",
       "      <td>62.55</td>\n",
       "      <td>5222115</td>\n",
       "      <td>NKE</td>\n",
       "      <td>62.92</td>\n",
       "      <td>4.828624</td>\n",
       "    </tr>\n",
       "    <tr>\n",
       "      <th>54356</th>\n",
       "      <td>2017-12-29</td>\n",
       "      <td>172.98</td>\n",
       "      <td>172.98</td>\n",
       "      <td>171.92</td>\n",
       "      <td>172.12</td>\n",
       "      <td>2201771</td>\n",
       "      <td>MCD</td>\n",
       "      <td>172.50</td>\n",
       "      <td>4.099778</td>\n",
       "    </tr>\n",
       "    <tr>\n",
       "      <th>87573</th>\n",
       "      <td>2017-12-29</td>\n",
       "      <td>1055.49</td>\n",
       "      <td>1058.05</td>\n",
       "      <td>1052.70</td>\n",
       "      <td>1053.40</td>\n",
       "      <td>1180340</td>\n",
       "      <td>GOOGL</td>\n",
       "      <td>1054.91</td>\n",
       "      <td>3.925631</td>\n",
       "    </tr>\n",
       "  </tbody>\n",
       "</table>\n",
       "</div>"
      ],
      "text/plain": [
       "            Date     Open     High      Low    Close    Volume   Name  \\\n",
       "90592 2017-12-29  1182.35  1184.00  1167.50  1169.47   2688391   AMZN   \n",
       "9058  2017-12-29   170.52   170.59   169.22   169.23  25999922   AAPL   \n",
       "63414 2017-12-29    63.21    63.37    62.55    62.55   5222115    NKE   \n",
       "54356 2017-12-29   172.98   172.98   171.92   172.12   2201771    MCD   \n",
       "87573 2017-12-29  1055.49  1058.05  1052.70  1053.40   1180340  GOOGL   \n",
       "\n",
       "       avgPrice     Growth  \n",
       "90592   1175.83  23.865556  \n",
       "9058     169.89  15.172299  \n",
       "63414     62.92   4.828624  \n",
       "54356    172.50   4.099778  \n",
       "87573   1054.91   3.925631  "
      ]
     },
     "execution_count": 89,
     "metadata": {},
     "output_type": "execute_result"
    },
    {
     "data": {
      "image/png": "[encoded data removed]",
      "text/plain": [
       "<Figure size 432x288 with 1 Axes>"
      ]
     },
     "metadata": {
      "needs_background": "light"
     },
     "output_type": "display_data"
    }
   ],
   "source": [
    "tdf[tdf.Name.isin(bs)].groupby('Name').Growth.plot(title='Historical trend of best 5 stocks of 2017', legend=True)\n",
    "best_stocks"
   ]
  },
  {
   "cell_type": "code",
   "execution_count": 90,
   "metadata": {},
   "outputs": [
    {
     "data": {
      "text/plain": [
       "<matplotlib.axes._subplots.AxesSubplot at 0x2a106b8f9e8>"
      ]
     },
     "execution_count": 90,
     "metadata": {},
     "output_type": "execute_result"
    },
    {
     "data": {
      "image/png": "[encoded data removed]",
      "text/plain": [
       "<Figure size 1080x720 with 2 Axes>"
      ]
     },
     "metadata": {
      "needs_background": "light"
     },
     "output_type": "display_data"
    }
   ],
   "source": [
    "corr = all_stocks.pivot('Date', 'Name', 'Growth').corr()\n",
    "plt.figure(figsize=(15,10))\n",
    "sns.heatmap(corr)"
   ]
  },
  {
   "cell_type": "code",
   "execution_count": 91,
   "metadata": {},
   "outputs": [],
   "source": [
    "#Reference: http://www.insightsbot.com/augmented-dickey-fuller-test-in-python/\n",
    "#Performing Augmented Dickey Fuller test to see if the data is stationary\n",
    "class StationarityTests:\n",
    "    def __init__(self, significance=.05):\n",
    "        self.SignificanceLevel = significance\n",
    "        self.pValue = None\n",
    "        self.isStationary = None\n",
    "        \n",
    "    def ADF_Stationarity_Test(self, timeseries, printResults = True):\n",
    "        #Dickey-Fuller test:\n",
    "        adfTest = adfuller(timeseries, autolag='AIC')\n",
    "        \n",
    "        self.pValue = adfTest[1]\n",
    "        \n",
    "        if (self.pValue<self.SignificanceLevel):\n",
    "            self.isStationary = True\n",
    "        else:\n",
    "            self.isStationary = False\n",
    "        \n",
    "        if printResults:\n",
    "            dfResults = pd.Series(adfTest[0:4], index=['ADF Test Statistic','P-Value','# Lags Used','# Observations Used'])\n",
    "            #Add Critical Values\n",
    "            for key,value in adfTest[4].items():\n",
    "                dfResults['Critical Value (%s)'%key] = value\n",
    "            print('Augmented Dickey-Fuller Test Results:')\n",
    "            print(dfResults)\n"
   ]
  },
  {
   "cell_type": "markdown",
   "metadata": {},
   "source": [
    "#divide the data into train and test data based on time\n",
    "#data between the years 2006 to 2016 is taken as train data and the data from 2017 to 2018 is taken as test data"
   ]
  },
  {
   "cell_type": "code",
   "execution_count": 92,
   "metadata": {},
   "outputs": [],
   "source": [
    "#we predict the avgPrice for \"Amazon\"\n",
    "all_stocks_amazon = all_stocks[all_stocks['Name']=='AMZN']"
   ]
  },
  {
   "cell_type": "code",
   "execution_count": 93,
   "metadata": {},
   "outputs": [
    {
     "name": "stdout",
     "output_type": "stream",
     "text": [
      "Percentage of train data: 91.6859887379927\n",
      "Percentage of test data: 8.314011262007288\n"
     ]
    },
    {
     "data": {
      "text/plain": [
       "[<matplotlib.lines.Line2D at 0x2a12f0fbe80>]"
      ]
     },
     "execution_count": 93,
     "metadata": {},
     "output_type": "execute_result"
    },
    {
     "data": {
      "image/png": "[encoded data removed]",
      "text/plain": [
       "<Figure size 432x288 with 1 Axes>"
      ]
     },
     "metadata": {
      "needs_background": "light"
     },
     "output_type": "display_data"
    }
   ],
   "source": [
    "mask = (all_stocks_amazon['Date'] >= '2006-01-01') & (all_stocks_amazon['Date']<'2017-01-01')\n",
    "all_stocks_amazon_train_arima = all_stocks_amazon[mask]\n",
    "all_stocks_amazon_test_arima = all_stocks_amazon.loc[~mask]\n",
    "print(\"Percentage of train data: {}\".format((len(all_stocks_amazon_train_arima)/len(all_stocks_amazon))*100))\n",
    "print(\"Percentage of test data: {}\".format((len(all_stocks_amazon_test_arima)/len(all_stocks_amazon))*100))\n",
    "plt.title(\"Amazon Price data\")\n",
    "plt.plot(all_stocks_amazon[\"avgPrice\"])"
   ]
  },
  {
   "cell_type": "code",
   "execution_count": 94,
   "metadata": {},
   "outputs": [
    {
     "name": "stdout",
     "output_type": "stream",
     "text": [
      "Augmented Dickey-Fuller Test Results:\n",
      "ADF Test Statistic         2.980665\n",
      "P-Value                    1.000000\n",
      "# Lags Used               29.000000\n",
      "# Observations Used     2989.000000\n",
      "Critical Value (1%)       -3.432540\n",
      "Critical Value (5%)       -2.862507\n",
      "Critical Value (10%)      -2.567285\n",
      "dtype: float64\n",
      "Is the time series stationary? False\n"
     ]
    }
   ],
   "source": [
    "#check if the amazon data is stationary\n",
    "#From the results it is found that data is not stationary\n",
    "sTest = StationarityTests()\n",
    "sTest.ADF_Stationarity_Test(all_stocks_amazon[\"avgPrice\"], printResults = True)\n",
    "print(\"Is the time series stationary? {0}\".format(sTest.isStationary))"
   ]
  },
  {
   "cell_type": "code",
   "execution_count": 95,
   "metadata": {},
   "outputs": [
    {
     "data": {
      "image/png": "[encoded data removed]",
      "text/plain": [
       "<Figure size 432x288 with 1 Axes>"
      ]
     },
     "execution_count": 95,
     "metadata": {},
     "output_type": "execute_result"
    },
    {
     "data": {
      "image/png": "[encoded data removed]",
      "text/plain": [
       "<Figure size 432x288 with 1 Axes>"
      ]
     },
     "metadata": {
      "needs_background": "light"
     },
     "output_type": "display_data"
    }
   ],
   "source": [
    "plot_acf(all_stocks_amazon[\"avgPrice\"])"
   ]
  },
  {
   "cell_type": "code",
   "execution_count": 96,
   "metadata": {},
   "outputs": [
    {
     "data": {
      "image/png": "[encoded data removed]",
      "text/plain": [
       "<Figure size 432x288 with 1 Axes>"
      ]
     },
     "metadata": {
      "needs_background": "light"
     },
     "output_type": "display_data"
    }
   ],
   "source": [
    "plot_pacf(all_stocks_amazon[\"avgPrice\"])\n",
    "plt.show()"
   ]
  },
  {
   "cell_type": "code",
   "execution_count": 97,
   "metadata": {},
   "outputs": [],
   "source": [
    "#index the data with date to perform arima model\n",
    "all_stocks_amazon_train_arima = all_stocks_amazon_train_arima.set_index('Date')\n",
    "all_stocks_amazon_test_arima = all_stocks_amazon_test_arima.set_index('Date')\n",
    "all_stocks_amazon_train_arima.index = pd.DatetimeIndex(all_stocks_amazon_train_arima.index).to_period('D')\n",
    "all_stocks_amazon_test_arima.index = pd.DatetimeIndex(all_stocks_amazon_test_arima.index).to_period('D')"
   ]
  },
  {
   "cell_type": "code",
   "execution_count": 98,
   "metadata": {},
   "outputs": [
    {
     "name": "stdout",
     "output_type": "stream",
     "text": [
      "                             ARIMA Model Results                              \n",
      "==============================================================================\n",
      "Dep. Variable:             D.avgPrice   No. Observations:                 2767\n",
      "Model:                 ARIMA(2, 1, 1)   Log Likelihood               -8356.720\n",
      "Method:                       css-mle   S.D. of innovations              4.959\n",
      "Date:                Tue, 05 May 2020   AIC                          16723.439\n",
      "Time:                        20:49:51   BIC                          16753.067\n",
      "Sample:                    01-04-2006   HQIC                         16734.140\n",
      "                         - 12-30-2016                                         \n",
      "====================================================================================\n",
      "                       coef    std err          z      P>|z|      [0.025      0.975]\n",
      "------------------------------------------------------------------------------------\n",
      "const                0.2566      0.103      2.490      0.013       0.055       0.459\n",
      "ar.L1.D.avgPrice     0.7265      0.167      4.350      0.000       0.399       1.054\n",
      "ar.L2.D.avgPrice    -0.1358      0.029     -4.646      0.000      -0.193      -0.079\n",
      "ma.L1.D.avgPrice    -0.5524      0.167     -3.302      0.001      -0.880      -0.224\n",
      "                                    Roots                                    \n",
      "=============================================================================\n",
      "                  Real          Imaginary           Modulus         Frequency\n",
      "-----------------------------------------------------------------------------\n",
      "AR.1            2.6740           -0.4598j            2.7133           -0.0271\n",
      "AR.2            2.6740           +0.4598j            2.7133            0.0271\n",
      "MA.1            1.8102           +0.0000j            1.8102            0.0000\n",
      "-----------------------------------------------------------------------------\n"
     ]
    }
   ],
   "source": [
    "#Fit the arima model on amazon data\n",
    "model = ARIMA(all_stocks_amazon_train_arima['avgPrice'],order=(2,1,1))\n",
    "model_fit = model.fit(disp=0)\n",
    "print(model_fit.summary())\n",
    "#model_fit.plot_predict(start = 2517,end = 3020)\n",
    "#plt.show()"
   ]
  },
  {
   "cell_type": "code",
   "execution_count": 99,
   "metadata": {},
   "outputs": [
    {
     "data": {
      "image/png": "[encoded data removed]",
      "text/plain": [
       "<Figure size 432x288 with 1 Axes>"
      ]
     },
     "metadata": {
      "needs_background": "light"
     },
     "output_type": "display_data"
    },
    {
     "data": {
      "image/png": "[encoded data removed]",
      "text/plain": [
       "<Figure size 432x288 with 1 Axes>"
      ]
     },
     "metadata": {
      "needs_background": "light"
     },
     "output_type": "display_data"
    },
    {
     "name": "stdout",
     "output_type": "stream",
     "text": [
      "                 0\n",
      "count  2767.000000\n",
      "mean     -0.000016\n",
      "std       4.959838\n",
      "min     -44.546134\n",
      "25%      -1.418642\n",
      "50%      -0.135437\n",
      "75%       1.352322\n",
      "max      69.707675\n"
     ]
    }
   ],
   "source": [
    "residuals = DataFrame(model_fit.resid)\n",
    "#print(residuals)\n",
    "residuals.plot()\n",
    "pyplot.show()\n",
    "residuals.plot(kind='kde')\n",
    "pyplot.show()\n",
    "print(residuals.describe())"
   ]
  },
  {
   "cell_type": "code",
   "execution_count": 100,
   "metadata": {},
   "outputs": [],
   "source": [
    "#forecast the data in test set\n",
    "fc, se, conf = model_fit.forecast(251, alpha=0.05)\n",
    "fc_series = pd.Series(fc, index=all_stocks_amazon_test_arima.index)\n",
    "lower_series = pd.Series(conf[:, 0], index=all_stocks_amazon_test_arima.index)\n",
    "upper_series = pd.Series(conf[:, 1], index=all_stocks_amazon_test_arima.index)\n"
   ]
  },
  {
   "cell_type": "code",
   "execution_count": 101,
   "metadata": {},
   "outputs": [
    {
     "name": "stdout",
     "output_type": "stream",
     "text": [
      "Mean absolute percentage error for Arima model is: 18.42\n"
     ]
    }
   ],
   "source": [
    "mape_arima = (mean_absolute_error(all_stocks_amazon_test_arima.avgPrice, fc_series))/(sum(all_stocks_amazon_test_arima.avgPrice)/len(all_stocks_amazon_test_arima.avgPrice))*100\n",
    "rmse_arima = np.sqrt(np.sum((fc_series-all_stocks_amazon_test_arima.avgPrice)**2))\n",
    "print(\"Mean absolute percentage error for Arima model is:\",round(mape_arima,2))\n",
    "#print(\"RMSE for Arima model is:\",round(rmse_arima,2))"
   ]
  },
  {
   "cell_type": "code",
   "execution_count": 102,
   "metadata": {},
   "outputs": [
    {
     "data": {
      "image/png": "[encoded data removed]",
      "text/plain": [
       "<Figure size 432x288 with 1 Axes>"
      ]
     },
     "metadata": {
      "needs_background": "light"
     },
     "output_type": "display_data"
    }
   ],
   "source": [
    "fp = fc_series\n",
    "ap = all_stocks_amazon_test_arima.avgPrice\n",
    "pdf = pd.DataFrame(data={'Actual': ap, 'Predicted': fp})\n",
    "ax = pdf.plot()"
   ]
  },
  {
   "cell_type": "markdown",
   "metadata": {},
   "source": [
    "LSTM model to predict stock price for amazon data"
   ]
  },
  {
   "cell_type": "code",
   "execution_count": 103,
   "metadata": {},
   "outputs": [
    {
     "name": "stdout",
     "output_type": "stream",
     "text": [
      "Training set size:  2768\n",
      "Test set size:  251\n"
     ]
    }
   ],
   "source": [
    "#create test and train data for LSTM\n",
    "amazon_data_lstm = all_stocks_amazon[['Date','avgPrice']]\n",
    "training_set_amazon_lstm = amazon_data_lstm[amazon_data_lstm.Date.dt.year != 2017].avgPrice.values\n",
    "test_set_amazon_lstm = amazon_data_lstm[amazon_data_lstm.Date.dt.year == 2017].avgPrice.values\n",
    "print(\"Training set size: \",training_set_amazon_lstm.size)\n",
    "print(\"Test set size: \", test_set_amazon_lstm.size)"
   ]
  },
  {
   "cell_type": "code",
   "execution_count": 104,
   "metadata": {},
   "outputs": [],
   "source": [
    "#scale the data to perform LSTM model\n",
    "scaler = MinMaxScaler()\n",
    "training_set_amazon_lstm_scaled = scaler.fit_transform(training_set_amazon_lstm.reshape(-1, 1))"
   ]
  },
  {
   "cell_type": "code",
   "execution_count": 105,
   "metadata": {},
   "outputs": [],
   "source": [
    "#functions to create training and test data to build LSTM model\n",
    "##Previous 30 days avgPrice values are taken as features to predict the avgPrice value of a given day\n",
    "def create_train_data(training_set_amazon_lstm_scaled):\n",
    "    X_train, y_train = [], []\n",
    "    for i in range(30, training_set_amazon_lstm_scaled.size):\n",
    "        X_train.append(training_set_amazon_lstm_scaled[i-30: i])\n",
    "        y_train.append(training_set_amazon_lstm_scaled[i])\n",
    "    X_train = np.array(X_train)\n",
    "    y_train = np.array(y_train)\n",
    "    return X_train, y_train\n",
    "\n",
    "def create_test_data():\n",
    "    X_test,y_test = [],[]\n",
    "    inputs = amazon_data_lstm[len(amazon_data_lstm) - len(test_set_amazon_lstm) - 30:].avgPrice.values\n",
    "    inputs = scaler.transform(inputs.reshape(-1, 1))\n",
    "    for i in range(30, test_set_amazon_lstm.size+30): \n",
    "        X_test.append(inputs[i - 30: i, 0])\n",
    "        y_test.append(inputs[i,0])\n",
    "    X_test = np.array(X_test)\n",
    "    X_test = np.reshape(X_test, (X_test.shape[0], X_test.shape[1], 1))\n",
    "    return X_test,y_test"
   ]
  },
  {
   "cell_type": "code",
   "execution_count": 106,
   "metadata": {},
   "outputs": [],
   "source": [
    "#create train and test data\n",
    "X_train_amazon_lstm, y_train_amazon_lstm = create_train_data(training_set_amazon_lstm_scaled)\n",
    "X_test_amazon_lstm,y_test_amazon_lstm = create_test_data()"
   ]
  },
  {
   "cell_type": "code",
   "execution_count": 107,
   "metadata": {},
   "outputs": [
    {
     "name": "stdout",
     "output_type": "stream",
     "text": [
      "(2738, 30, 1)\n",
      "(2738, 1)\n"
     ]
    }
   ],
   "source": [
    "print(X_train_amazon_lstm.shape)\n",
    "print(y_train_amazon_lstm.shape)"
   ]
  },
  {
   "cell_type": "code",
   "execution_count": 108,
   "metadata": {},
   "outputs": [],
   "source": [
    "def create_simple_model():\n",
    "    model = Sequential()\n",
    "    model.add(LSTM(units = 10, return_sequences = False, input_shape = (X_train_amazon_lstm.shape[1], 1)))\n",
    "    #model.add(Dropout(0.2))\n",
    "    model.add(Dense(units = 1))\n",
    "    return model\n",
    "\n",
    "def compile_and_run(model, epochs=50, batch_size=64):\n",
    "    model.compile(metrics=['accuracy'], optimizer='adam', loss='mean_squared_error')\n",
    "    history = model.fit(X_train_amazon_lstm, y_train_amazon_lstm, epochs=epochs, batch_size=batch_size, verbose=3)\n",
    "    return history\n",
    "\n",
    "def plot_metrics(history):\n",
    "    metrics_df = pd.DataFrame(data={\"loss\": history.history['loss']})\n",
    "    metrics_df.plot()\n",
    "\n",
    "def make_predictions(X_test_amazon_lstm, model):\n",
    "    y_pred = model.predict(X_test_amazon_lstm)\n",
    "    final_predictions = scaler.inverse_transform(y_pred)\n",
    "    fp = np.ndarray.flatten(final_predictions)\n",
    "    ap = np.ndarray.flatten(test_set_amazon_lstm)\n",
    "    pdf = pd.DataFrame(data={'Actual': ap, 'Predicted': fp})\n",
    "    ax = pdf.plot()\n",
    "    return final_predictions"
   ]
  },
  {
   "cell_type": "code",
   "execution_count": 109,
   "metadata": {},
   "outputs": [
    {
     "name": "stdout",
     "output_type": "stream",
     "text": [
      "Epoch 1/20\n",
      "Epoch 2/20\n",
      "Epoch 3/20\n",
      "Epoch 4/20\n",
      "Epoch 5/20\n",
      "Epoch 6/20\n",
      "Epoch 7/20\n",
      "Epoch 8/20\n",
      "Epoch 9/20\n",
      "Epoch 10/20\n",
      "Epoch 11/20\n",
      "Epoch 12/20\n",
      "Epoch 13/20\n",
      "Epoch 14/20\n",
      "Epoch 15/20\n",
      "Epoch 16/20\n",
      "Epoch 17/20\n",
      "Epoch 18/20\n",
      "Epoch 19/20\n",
      "Epoch 20/20\n"
     ]
    }
   ],
   "source": [
    "simple_model = create_simple_model()\n",
    "history = compile_and_run(simple_model, epochs=20)"
   ]
  },
  {
   "cell_type": "code",
   "execution_count": 110,
   "metadata": {},
   "outputs": [
    {
     "data": {
      "image/png": "[encoded data removed]",
      "text/plain": [
       "<Figure size 432x288 with 1 Axes>"
      ]
     },
     "metadata": {
      "needs_background": "light"
     },
     "output_type": "display_data"
    }
   ],
   "source": [
    "plot_metrics(history)"
   ]
  },
  {
   "cell_type": "code",
   "execution_count": 111,
   "metadata": {},
   "outputs": [
    {
     "name": "stdout",
     "output_type": "stream",
     "text": [
      "Model: \"sequential_3\"\n",
      "_________________________________________________________________\n",
      "Layer (type)                 Output Shape              Param #   \n",
      "=================================================================\n",
      "lstm_6 (LSTM)                (None, 10)                480       \n",
      "_________________________________________________________________\n",
      "dense_3 (Dense)              (None, 1)                 11        \n",
      "=================================================================\n",
      "Total params: 491\n",
      "Trainable params: 491\n",
      "Non-trainable params: 0\n",
      "_________________________________________________________________\n"
     ]
    }
   ],
   "source": [
    "simple_model.summary()"
   ]
  },
  {
   "cell_type": "code",
   "execution_count": 112,
   "metadata": {},
   "outputs": [
    {
     "data": {
      "image/png": "[encoded data removed]",
      "text/plain": [
       "<Figure size 432x288 with 1 Axes>"
      ]
     },
     "metadata": {
      "needs_background": "light"
     },
     "output_type": "display_data"
    }
   ],
   "source": [
    "y_pred = make_predictions(X_test_amazon_lstm, simple_model)"
   ]
  },
  {
   "cell_type": "code",
   "execution_count": 113,
   "metadata": {},
   "outputs": [
    {
     "name": "stdout",
     "output_type": "stream",
     "text": [
      "Mean absolute percentage error for Simple LSTM model is: 5.7\n"
     ]
    }
   ],
   "source": [
    "mape_lstm_simple = (mean_absolute_error(test_set_amazon_lstm, y_pred))/(sum(test_set_amazon_lstm)/len(test_set_amazon_lstm))*100\n",
    "rmse_lstm_simple = np.sqrt(np.sum((test_set_amazon_lstm-y_pred)**2))\n",
    "print(\"Mean absolute percentage error for Simple LSTM model is:\",round(mape_lstm_simple,2))\n",
    "#print(\"RMSE for Simple LSTM model is:\",round(rmse_lstm_simple,2))"
   ]
  },
  {
   "cell_type": "code",
   "execution_count": 114,
   "metadata": {},
   "outputs": [
    {
     "name": "stdout",
     "output_type": "stream",
     "text": [
      "Model: \"sequential_4\"\n",
      "_________________________________________________________________\n",
      "Layer (type)                 Output Shape              Param #   \n",
      "=================================================================\n",
      "lstm_7 (LSTM)                (None, 30, 50)            10400     \n",
      "_________________________________________________________________\n",
      "lstm_8 (LSTM)                (None, 30, 50)            20200     \n",
      "_________________________________________________________________\n",
      "lstm_9 (LSTM)                (None, 30, 50)            20200     \n",
      "_________________________________________________________________\n",
      "lstm_10 (LSTM)               (None, 50)                20200     \n",
      "_________________________________________________________________\n",
      "dense_4 (Dense)              (None, 1)                 51        \n",
      "=================================================================\n",
      "Total params: 71,051\n",
      "Trainable params: 71,051\n",
      "Non-trainable params: 0\n",
      "_________________________________________________________________\n",
      "Epoch 1/20\n",
      "Epoch 2/20\n",
      "Epoch 3/20\n",
      "Epoch 4/20\n",
      "Epoch 5/20\n",
      "Epoch 6/20\n",
      "Epoch 7/20\n",
      "Epoch 8/20\n",
      "Epoch 9/20\n",
      "Epoch 10/20\n",
      "Epoch 11/20\n",
      "Epoch 12/20\n",
      "Epoch 13/20\n",
      "Epoch 14/20\n",
      "Epoch 15/20\n",
      "Epoch 16/20\n",
      "Epoch 17/20\n",
      "Epoch 18/20\n",
      "Epoch 19/20\n",
      "Epoch 20/20\n"
     ]
    },
    {
     "data": {
      "image/png": "[encoded data removed]",
      "text/plain": [
       "<Figure size 432x288 with 1 Axes>"
      ]
     },
     "metadata": {
      "needs_background": "light"
     },
     "output_type": "display_data"
    }
   ],
   "source": [
    "#Build a Deep NN\n",
    "from keras.layers.normalization import BatchNormalization\n",
    "def create_dl_model():\n",
    "    model = Sequential()\n",
    "    \n",
    "    #Adding the LSTM layers\n",
    "    model.add(LSTM(units = 50, return_sequences = True, input_shape = (X_train_amazon_lstm.shape[1], 1)))\n",
    "    #model.add(Dropout(0.2))\n",
    "    #model.add(BatchNormalization())\n",
    "    model.add(LSTM(units = 50, return_sequences = True))\n",
    "    #model.add(Dropout(0.2))\n",
    "    #model.add(BatchNormalization())\n",
    "    model.add(LSTM(units = 50, return_sequences = True))\n",
    "    #model.add(Dropout(0.2))\n",
    "    #model.add(BatchNormalization())\n",
    "    model.add(LSTM(units = 50))\n",
    "    #model.add(Dropout(0.2))\n",
    "    #model.add(BatchNormalization())\n",
    "\n",
    "    # Adding the output layer\n",
    "    model.add(Dense(units = 1))\n",
    "    return model\n",
    "\n",
    "dl_model = create_dl_model()\n",
    "dl_model.summary()\n",
    "history = compile_and_run(dl_model, epochs=20)\n",
    "plot_metrics(history)"
   ]
  },
  {
   "cell_type": "code",
   "execution_count": 115,
   "metadata": {},
   "outputs": [
    {
     "data": {
      "image/png": "[encoded data removed]",
      "text/plain": [
       "<Figure size 432x288 with 1 Axes>"
      ]
     },
     "metadata": {
      "needs_background": "light"
     },
     "output_type": "display_data"
    }
   ],
   "source": [
    "y_pred_dnn = make_predictions(X_test_amazon_lstm, dl_model)"
   ]
  },
  {
   "cell_type": "code",
   "execution_count": 116,
   "metadata": {},
   "outputs": [
    {
     "name": "stdout",
     "output_type": "stream",
     "text": [
      "Mean absolute percentage error for Deep Neural network model is: 3.86\n"
     ]
    },
    {
     "data": {
      "text/plain": [
       "<function print>"
      ]
     },
     "execution_count": 116,
     "metadata": {},
     "output_type": "execute_result"
    }
   ],
   "source": [
    "mape_lstm_dnn = (mean_absolute_error(test_set_amazon_lstm, y_pred_dnn))/(sum(test_set_amazon_lstm)/len(test_set_amazon_lstm))*100\n",
    "rmse_lstm_dnn = np.sqrt(np.sum((test_set_amazon_lstm-y_pred_dnn)**2))\n",
    "print(\"Mean absolute percentage error for Deep Neural network model is:\",round(mape_lstm_dnn,2))\n",
    "# print(\"RMSE for Deep Neural network model is:\",round(rmse_lstm_dnn,2))"
   ]
  },
  {
   "cell_type": "code",
   "execution_count": 117,
   "metadata": {},
   "outputs": [
    {
     "name": "stdout",
     "output_type": "stream",
     "text": [
      "Model: \"sequential_5\"\n",
      "_________________________________________________________________\n",
      "Layer (type)                 Output Shape              Param #   \n",
      "=================================================================\n",
      "lstm_11 (LSTM)               (None, 30, 100)           40800     \n",
      "_________________________________________________________________\n",
      "lstm_12 (LSTM)               (None, 30, 100)           80400     \n",
      "_________________________________________________________________\n",
      "lstm_13 (LSTM)               (None, 30, 100)           80400     \n",
      "_________________________________________________________________\n",
      "lstm_14 (LSTM)               (None, 100)               80400     \n",
      "_________________________________________________________________\n",
      "dense_5 (Dense)              (None, 1)                 101       \n",
      "=================================================================\n",
      "Total params: 282,101\n",
      "Trainable params: 282,101\n",
      "Non-trainable params: 0\n",
      "_________________________________________________________________\n",
      "Epoch 1/20\n",
      "Epoch 2/20\n",
      "Epoch 3/20\n",
      "Epoch 4/20\n",
      "Epoch 5/20\n",
      "Epoch 6/20\n",
      "Epoch 7/20\n",
      "Epoch 8/20\n",
      "Epoch 9/20\n",
      "Epoch 10/20\n",
      "Epoch 11/20\n",
      "Epoch 12/20\n",
      "Epoch 13/20\n",
      "Epoch 14/20\n",
      "Epoch 15/20\n",
      "Epoch 16/20\n",
      "Epoch 17/20\n",
      "Epoch 18/20\n",
      "Epoch 19/20\n",
      "Epoch 20/20\n"
     ]
    },
    {
     "data": {
      "image/png": "[encoded data removed]",
      "text/plain": [
       "<Figure size 432x288 with 1 Axes>"
      ]
     },
     "metadata": {
      "needs_background": "light"
     },
     "output_type": "display_data"
    }
   ],
   "source": [
    "from keras.layers.normalization import BatchNormalization\n",
    "def create_dl_model():\n",
    "    model = Sequential()\n",
    "    \n",
    "    #Adding the LSTM layers\n",
    "    model.add(LSTM(units = 100, return_sequences = True, input_shape = (X_train_amazon_lstm.shape[1], 1)))\n",
    "    #model.add(Dropout(0.2))\n",
    "    #model.add(BatchNormalization())\n",
    "    model.add(LSTM(units = 100, return_sequences = True))\n",
    "    #model.add(Dropout(0.2))\n",
    "    #model.add(BatchNormalization())\n",
    "    model.add(LSTM(units = 100, return_sequences = True))\n",
    "    #model.add(Dropout(0.2))\n",
    "    #model.add(BatchNormalization())\n",
    "    model.add(LSTM(units = 100))\n",
    "    #model.add(Dropout(0.2))\n",
    "    #model.add(BatchNormalization())\n",
    "\n",
    "    # Adding the output layer\n",
    "    model.add(Dense(units = 1))\n",
    "    return model\n",
    "\n",
    "dl_model = create_dl_model()\n",
    "dl_model.summary()\n",
    "history = compile_and_run(dl_model, epochs=20)\n",
    "plot_metrics(history)"
   ]
  },
  {
   "cell_type": "code",
   "execution_count": 118,
   "metadata": {},
   "outputs": [
    {
     "data": {
      "image/png": "[encoded data removed]",
      "text/plain": [
       "<Figure size 432x288 with 1 Axes>"
      ]
     },
     "metadata": {
      "needs_background": "light"
     },
     "output_type": "display_data"
    }
   ],
   "source": [
    "y_pred_dnn_100 = make_predictions(X_test_amazon_lstm, dl_model)"
   ]
  },
  {
   "cell_type": "code",
   "execution_count": 119,
   "metadata": {},
   "outputs": [
    {
     "name": "stdout",
     "output_type": "stream",
     "text": [
      "Mean absolute percentage error for Deep Neural network model is: 3.17\n"
     ]
    },
    {
     "data": {
      "text/plain": [
       "<function print>"
      ]
     },
     "execution_count": 119,
     "metadata": {},
     "output_type": "execute_result"
    }
   ],
   "source": [
    "mape_lstm_dnn_100 = (mean_absolute_error(test_set_amazon_lstm, y_pred_dnn_100))/(sum(test_set_amazon_lstm)/len(test_set_amazon_lstm))*100\n",
    "rmse_lstm_dnn = np.sqrt(np.sum((test_set_amazon_lstm-y_pred_dnn)**2))\n",
    "print(\"Mean absolute percentage error for Deep Neural network model is:\",round(mape_lstm_dnn_100,2))\n",
    "print#(\"RMSE for Deep Neural network model is:\",round(rmse_lstm_dnn,2))"
   ]
  },
  {
   "cell_type": "code",
   "execution_count": 132,
   "metadata": {},
   "outputs": [
    {
     "data": {
      "text/plain": [
       "'3.17'"
      ]
     },
     "execution_count": 132,
     "metadata": {},
     "output_type": "execute_result"
    }
   ],
   "source": [
    "str(round(mape_lstm_dnn_100,2))"
   ]
  },
  {
   "cell_type": "code",
   "execution_count": 120,
   "metadata": {},
   "outputs": [],
   "source": [
    "#Create train and test data to perfrom Linear Regression, Random Forest regression and XGBoost Regression\n",
    "#Previous 30 days avgPrice values are taken as features to predict the avgPrice value of a given day\n",
    "def create_train_data(training_set_scaled):\n",
    "    X_train, y_train = [], []\n",
    "    for i in range(30, training_set_scaled.size):\n",
    "        X_train.append(training_set_scaled[i-30: i])\n",
    "        y_train.append(training_set_scaled[i])\n",
    "    # Converting list to numpy arrays\n",
    "    X_train = np.array(X_train)\n",
    "    y_train = np.array(y_train)\n",
    "    return X_train, y_train\n",
    "\n",
    "def create_test_data():\n",
    "    X_test = []\n",
    "    inputs = amazon_data_lstm[len(amazon_data_lstm) - len(test_set_amazon_lstm) - 30:].avgPrice.values\n",
    "    inputs = inputs.reshape(-1, 1)\n",
    "    for i in range(30, test_set_amazon_lstm.size+30): # Range of the number of values in the training dataset\n",
    "        X_test.append(inputs[i - 30: i, 0])\n",
    "        \n",
    "    X_test = np.array(X_test)\n",
    "    X_test = np.reshape(X_test, (X_test.shape[0], X_test.shape[1]))\n",
    "    return X_test"
   ]
  },
  {
   "cell_type": "code",
   "execution_count": 121,
   "metadata": {},
   "outputs": [
    {
     "data": {
      "image/png": "[encoded data removed]",
      "text/plain": [
       "<Figure size 432x288 with 1 Axes>"
      ]
     },
     "metadata": {
      "needs_background": "light"
     },
     "output_type": "display_data"
    }
   ],
   "source": [
    "#linear regression on amazon data\n",
    "X_train_lin,y_train_lin = create_train_data(training_set_amazon_lstm)\n",
    "X_test_lin = create_test_data()\n",
    "#print(X_train_lin.shape)\n",
    "\n",
    "from sklearn.linear_model import LinearRegression\n",
    "lr_reg=LinearRegression().fit(X_train_lin, y_train_lin)\n",
    "\n",
    "y_pred = lr_reg.predict(X_test_lin)\n",
    "lr_test_predictions = [value for value in y_pred]\n",
    "y_pred = lr_reg.predict(X_train_lin)\n",
    "lr_train_predictions = [value for value in y_pred]\n",
    "\n",
    "fp = lr_test_predictions\n",
    "ap = np.ndarray.flatten(test_set_amazon_lstm)\n",
    "pdf = pd.DataFrame(data={'Actual': ap, 'Predicted': fp})\n",
    "ax = pdf.plot()"
   ]
  },
  {
   "cell_type": "code",
   "execution_count": 122,
   "metadata": {},
   "outputs": [
    {
     "name": "stdout",
     "output_type": "stream",
     "text": [
      "Mean absolute percentage error for linear regression model is: 0.7\n"
     ]
    }
   ],
   "source": [
    "mape_lr = (mean_absolute_error(test_set_amazon_lstm, lr_test_predictions))/(sum(test_set_amazon_lstm)/len(test_set_amazon_lstm))*100\n",
    "rmse_lr = np.sqrt(np.sum((test_set_amazon_lstm-lr_test_predictions)**2))\n",
    "print(\"Mean absolute percentage error for linear regression model is:\",round(mape_lr,2))\n",
    "#print(\"RMSE for linear regression model is:\",round(rmse_lr,2))"
   ]
  },
  {
   "cell_type": "code",
   "execution_count": 123,
   "metadata": {},
   "outputs": [
    {
     "data": {
      "image/png": "[encoded data removed]",
      "text/plain": [
       "<Figure size 432x288 with 1 Axes>"
      ]
     },
     "metadata": {
      "needs_background": "light"
     },
     "output_type": "display_data"
    }
   ],
   "source": [
    "#Random Forest Regression on amazon data\n",
    "regr1 = RandomForestRegressor(max_features='sqrt',min_samples_leaf=4,min_samples_split=3,n_estimators=40)\n",
    "regr1.fit(X_train_lin, y_train_lin)\n",
    "\n",
    "y_pred = regr1.predict(X_test_lin)\n",
    "rndf_test_predictions = [value for value in y_pred]\n",
    "y_pred = regr1.predict(X_train_lin)\n",
    "rndf_train_predictions = [value for value in y_pred]\n",
    "\n",
    "fp = rndf_test_predictions\n",
    "ap = np.ndarray.flatten(test_set_amazon_lstm)\n",
    "pdf = pd.DataFrame(data={'Actual': ap, 'Predicted': fp})\n",
    "ax = pdf.plot()"
   ]
  },
  {
   "cell_type": "code",
   "execution_count": 124,
   "metadata": {},
   "outputs": [
    {
     "name": "stdout",
     "output_type": "stream",
     "text": [
      "Mean absolute percentage error for Random Forests is: 16.84\n"
     ]
    }
   ],
   "source": [
    "mape_rndf = (mean_absolute_error(test_set_amazon_lstm, rndf_test_predictions))/(sum(test_set_amazon_lstm)/len(test_set_amazon_lstm))*100\n",
    "rmse_rndf = np.sqrt(np.sum((test_set_amazon_lstm-rndf_test_predictions)**2))\n",
    "print(\"Mean absolute percentage error for Random Forests is:\",round(mape_rndf,2))\n",
    "#print(\"RMSE for Random Forests is:\",round(rmse_rndf,2))"
   ]
  },
  {
   "cell_type": "code",
   "execution_count": 125,
   "metadata": {},
   "outputs": [
    {
     "name": "stdout",
     "output_type": "stream",
     "text": [
      "[20:54:39] WARNING: C:/Jenkins/workspace/xgboost-win64_release_0.90/src/objective/regression_obj.cu:152: reg:linear is now deprecated in favor of reg:squarederror.\n"
     ]
    }
   ],
   "source": [
    "#XGBoost Regression on amazon data\n",
    "x_model = xgb.XGBRegressor(\n",
    " learning_rate =0.1,\n",
    " n_estimators=1000,\n",
    " max_depth=3,\n",
    " min_child_weight=3,\n",
    " gamma=0,\n",
    " subsample=0.8,\n",
    " reg_alpha=200, reg_lambda=200,\n",
    " colsample_bytree=0.8,nthread=4)\n",
    "x_model.fit(X_train_lin, y_train_lin)\n",
    "\n",
    "y_pred = x_model.predict(X_test_lin)\n",
    "xgb_test_predictions = [value for value in y_pred]\n",
    "y_pred = x_model.predict(X_train_lin)\n",
    "xgb_train_predictions = [value for value in y_pred]"
   ]
  },
  {
   "cell_type": "code",
   "execution_count": 126,
   "metadata": {},
   "outputs": [
    {
     "data": {
      "image/png": "[encoded data removed]",
      "text/plain": [
       "<Figure size 432x288 with 1 Axes>"
      ]
     },
     "metadata": {
      "needs_background": "light"
     },
     "output_type": "display_data"
    }
   ],
   "source": [
    "fp = xgb_test_predictions\n",
    "ap = np.ndarray.flatten(test_set_amazon_lstm)\n",
    "pdf = pd.DataFrame(data={'Actual': ap, 'Predicted': fp})\n",
    "ax = pdf.plot()"
   ]
  },
  {
   "cell_type": "code",
   "execution_count": 127,
   "metadata": {},
   "outputs": [
    {
     "name": "stdout",
     "output_type": "stream",
     "text": [
      "Mean absolute percentage error for XGBoost regression is: 19.4\n"
     ]
    }
   ],
   "source": [
    "mape_xgb = (mean_absolute_error(test_set_amazon_lstm, xgb_test_predictions))/(sum(test_set_amazon_lstm)/len(test_set_amazon_lstm))*100\n",
    "rmse_xgb = np.sqrt(np.sum((abs(test_set_amazon_lstm-xgb_test_predictions)**2)))\n",
    "print(\"Mean absolute percentage error for XGBoost regression is:\",round(mape_xgb,2))\n",
    "#print(\"RMSE for XGBoost regression is:\",round(rmse_xgb,2))"
   ]
  },
  {
   "cell_type": "code",
   "execution_count": null,
   "metadata": {},
   "outputs": [],
   "source": []
  }
 ],
 "metadata": {
  "kernelspec": {
   "display_name": "Python 3",
   "language": "python",
   "name": "python3"
  },
  "language_info": {
   "codemirror_mode": {
    "name": "ipython",
    "version": 3
   },
   "file_extension": ".py",
   "mimetype": "text/x-python",
   "name": "python",
   "nbconvert_exporter": "python",
   "pygments_lexer": "ipython3",
   "version": "3.7.3"
  }
 },
 "nbformat": 4,
 "nbformat_minor": 2
}
