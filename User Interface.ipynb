{
 "cells": [
  {
   "cell_type": "code",
   "execution_count": 1,
   "metadata": {},
   "outputs": [],
   "source": [
    "import tkinter as tk\n",
    "from tkinter import *\n",
    "import webbrowser"
   ]
  },
  {
   "cell_type": "code",
   "execution_count": null,
   "metadata": {
    "scrolled": true
   },
   "outputs": [],
   "source": [
    "window = tk.Tk()\n",
    "\n",
    "window.title(\"Flower Identification\")\n",
    "\n",
    "w = 250\n",
    "h = 200\n",
    "\n",
    "window.geometry('250x200')\n",
    "\n",
    "def SVM1_click():\n",
    "    a_website = \"https://github.com/i-r-a/project-submission/blob/master/PROJ_SVM.ipynb\"\n",
    "    return webbrowser.open_new_tab(a_website)\n",
    "\n",
    "def SVM2_click():\n",
    "    a_website = \"https://github.com/i-r-a/project-submission/blob/master/Larger_subset.ipynb\"\n",
    "    return webbrowser.open_new_tab(a_website)\n",
    "\n",
    "def CNN_click():\n",
    "    a_website = \"https://github.com/i-r-a/project-submission/blob/master/Flower%20Recognition%20-%20CNN.ipynb\"\n",
    "    return webbrowser.open_new_tab(a_website)\n",
    "\n",
    "\n",
    "btn1 = tk.Button(window, text=\"Project_SVM\", command = SVM1_click)\n",
    "btn1.place(bordermode=OUTSIDE,x=(w/2), y=0, height = 40, width=150, anchor = N)\n",
    "\n",
    "btn2 = tk.Button(window, text=\"Project_SVM_Larger\", command = SVM2_click)\n",
    "btn2.place(bordermode=OUTSIDE,x=(w/2), y=80, height = 40, width=150, anchor = N)\n",
    "\n",
    "btn3 = tk.Button(window, text=\"Project_CNN\", command = CNN_click)\n",
    "btn3.place(bordermode=OUTSIDE,x=(w/2), y=(h-40), height = 40, width=150, anchor = N)\n",
    "\n",
    "window.mainloop()"
   ]
  },
  {
   "cell_type": "code",
   "execution_count": null,
   "metadata": {},
   "outputs": [],
   "source": []
  }
 ],
 "metadata": {
  "kernelspec": {
   "display_name": "Python 3",
   "language": "python",
   "name": "python3"
  },
  "language_info": {
   "codemirror_mode": {
    "name": "ipython",
    "version": 3
   },
   "file_extension": ".py",
   "mimetype": "text/x-python",
   "name": "python",
   "nbconvert_exporter": "python",
   "pygments_lexer": "ipython3",
   "version": "3.7.3"
  }
 },
 "nbformat": 4,
 "nbformat_minor": 2
}
